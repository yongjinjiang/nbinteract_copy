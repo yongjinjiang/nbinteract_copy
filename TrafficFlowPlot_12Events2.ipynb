{
 "cells": [
  {
   "cell_type": "code",
   "execution_count": 1,
   "metadata": {
    "scrolled": true
   },
   "outputs": [],
   "source": [
    "import numpy as np\n",
    "import pandas as pd"
   ]
  },
  {
   "cell_type": "code",
   "execution_count": 2,
   "metadata": {
    "scrolled": true
   },
   "outputs": [],
   "source": [
    "try:\n",
    "    ls=[EE_df]\n",
    "    del EE_df\n",
    "    del ls\n",
    "except  NameError:\n",
    "     pass\n",
    "\n",
    "EE_df=pd.read_csv(\"./Archived_Data_MNDOT/MPLS_Entry_Exit_Volume_SpecificDates_2.csv\")"
   ]
  },
  {
   "cell_type": "code",
   "execution_count": 3,
   "metadata": {
    "scrolled": true
   },
   "outputs": [
    {
     "data": {
      "text/html": [
       "<div>\n",
       "<style scoped>\n",
       "    .dataframe tbody tr th:only-of-type {\n",
       "        vertical-align: middle;\n",
       "    }\n",
       "\n",
       "    .dataframe tbody tr th {\n",
       "        vertical-align: top;\n",
       "    }\n",
       "\n",
       "    .dataframe thead th {\n",
       "        text-align: right;\n",
       "    }\n",
       "</style>\n",
       "<table border=\"1\" class=\"dataframe\">\n",
       "  <thead>\n",
       "    <tr style=\"text-align: right;\">\n",
       "      <th></th>\n",
       "      <th>Sensor</th>\n",
       "      <th>Date</th>\n",
       "      <th>Volume</th>\n",
       "      <th>Event Label</th>\n",
       "      <th>St Label</th>\n",
       "      <th>Lat</th>\n",
       "      <th>Lng</th>\n",
       "      <th>Direction</th>\n",
       "      <th>Freeway Tag</th>\n",
       "    </tr>\n",
       "  </thead>\n",
       "  <tbody>\n",
       "    <tr>\n",
       "      <th>0</th>\n",
       "      <td>S125</td>\n",
       "      <td>10/3/2018</td>\n",
       "      <td>27018</td>\n",
       "      <td>October Wed 2018</td>\n",
       "      <td>WB 94 from dwtn</td>\n",
       "      <td>44.99888</td>\n",
       "      <td>-93.28266</td>\n",
       "      <td>From</td>\n",
       "      <td>1</td>\n",
       "    </tr>\n",
       "    <tr>\n",
       "      <th>1</th>\n",
       "      <td>S137</td>\n",
       "      <td>10/3/2018</td>\n",
       "      <td>35116</td>\n",
       "      <td>October Wed 2018</td>\n",
       "      <td>EB 94 to dwtn</td>\n",
       "      <td>44.99898</td>\n",
       "      <td>-93.28297</td>\n",
       "      <td>To</td>\n",
       "      <td>1</td>\n",
       "    </tr>\n",
       "    <tr>\n",
       "      <th>2</th>\n",
       "      <td>S2</td>\n",
       "      <td>10/3/2018</td>\n",
       "      <td>0</td>\n",
       "      <td>October Wed 2018</td>\n",
       "      <td>SB 35W from dwtn</td>\n",
       "      <td>44.96259</td>\n",
       "      <td>-93.26997</td>\n",
       "      <td>From</td>\n",
       "      <td>2</td>\n",
       "    </tr>\n",
       "    <tr>\n",
       "      <th>3</th>\n",
       "      <td>S285</td>\n",
       "      <td>10/3/2018</td>\n",
       "      <td>74299</td>\n",
       "      <td>October Wed 2018</td>\n",
       "      <td>WB 394 from dwtn</td>\n",
       "      <td>44.97002</td>\n",
       "      <td>-93.30761</td>\n",
       "      <td>From</td>\n",
       "      <td>3</td>\n",
       "    </tr>\n",
       "    <tr>\n",
       "      <th>4</th>\n",
       "      <td>S286</td>\n",
       "      <td>10/3/2018</td>\n",
       "      <td>68473</td>\n",
       "      <td>October Wed 2018</td>\n",
       "      <td>EB 394 to dwtn</td>\n",
       "      <td>44.96977</td>\n",
       "      <td>-93.30786</td>\n",
       "      <td>To</td>\n",
       "      <td>3</td>\n",
       "    </tr>\n",
       "  </tbody>\n",
       "</table>\n",
       "</div>"
      ],
      "text/plain": [
       "  Sensor       Date  Volume       Event Label          St Label       Lat  \\\n",
       "0   S125  10/3/2018   27018  October Wed 2018   WB 94 from dwtn  44.99888   \n",
       "1   S137  10/3/2018   35116  October Wed 2018     EB 94 to dwtn  44.99898   \n",
       "2     S2  10/3/2018       0  October Wed 2018  SB 35W from dwtn  44.96259   \n",
       "3   S285  10/3/2018   74299  October Wed 2018  WB 394 from dwtn  44.97002   \n",
       "4   S286  10/3/2018   68473  October Wed 2018    EB 394 to dwtn  44.96977   \n",
       "\n",
       "        Lng Direction  Freeway Tag  \n",
       "0 -93.28266      From            1  \n",
       "1 -93.28297        To            1  \n",
       "2 -93.26997      From            2  \n",
       "3 -93.30761      From            3  \n",
       "4 -93.30786        To            3  "
      ]
     },
     "execution_count": 3,
     "metadata": {},
     "output_type": "execute_result"
    }
   ],
   "source": [
    "EE_df.head()"
   ]
  },
  {
   "cell_type": "code",
   "execution_count": 4,
   "metadata": {
    "scrolled": true
   },
   "outputs": [],
   "source": [
    "# len(EE_df)\n",
    "# set(list(EE_df[\"Sensor\"].values))\n",
    "# EE_df.columns\n",
    "def modi_Twins_Opener(x):\n",
    "    try:\n",
    "        if (x.split()[1]==\"Twins\")and(x.split()[2]==\"Opener\"):\n",
    "            return '2018 Twins Opener'\n",
    "        else:\n",
    "            return x\n",
    "    except:\n",
    "        return x\n",
    "            \n",
    "    \n",
    "EE_df[\"Event Label_2\"]=EE_df[\"Event Label\"].apply(modi_Twins_Opener);\n",
    "EE_df.drop(columns=[\"Event Label\"],inplace=True);\n",
    "EE_df.rename(columns={\"Event Label_2\":\"Event Label\"},inplace=True);\n",
    "\n",
    "#EE_df.set_index([\"Event Label\",\"Sensor\"]);\n",
    "def FromOrTodowntown(x):\n",
    "    def fromto(y):\n",
    "        if y==\"from\":\n",
    "            return \"out\"\n",
    "        else:\n",
    "            return \"in\"\n",
    "    return fromto(x.split()[-2])\n",
    "def road(x):\n",
    "    a=list(x.split())[0:2]\n",
    "    return ' '.join(a[::-1])\n",
    "\n",
    "EE_df[\"Direction(from/to)\"]=EE_df[\"St Label\"].apply(FromOrTodowntown);\n",
    "EE_df[\"road\"]=EE_df[\"St Label\"].apply(road);\n",
    "\n",
    "EE_df.head();\n",
    "events=list(EE_df[\"Event Label\"].unique());\n",
    "events=list(EE_df[\"Event Label\"].unique());\n",
    "\n",
    "EE_df[\"sensor_name\"]=EE_df[\"Sensor\"]+'('+EE_df[\"road\"]+\")\";\n",
    "sensors=list(EE_df[\"sensor_name\"].unique())\n",
    "\n",
    "EE_df[\"name_sensor\"]=EE_df[\"road\"]+'('+EE_df[ \"Sensor\"]+\")\";\n",
    "\n",
    "\n",
    "sensors=list(EE_df[\"sensor_name\"].unique());\n",
    "sensors2=list(EE_df[\"name_sensor\"].unique());\n",
    "len(events);\n",
    "EE_df[\"sensor_fromto\"]=EE_df[\"road\"]+\",\"+EE_df[\"Sensor\"]+','+EE_df[\"Direction(from/to)\"];\n",
    "EE_df;"
   ]
  },
  {
   "cell_type": "code",
   "execution_count": 5,
   "metadata": {
    "scrolled": true
   },
   "outputs": [],
   "source": [
    "EE_df;"
   ]
  },
  {
   "cell_type": "code",
   "execution_count": 7,
   "metadata": {
    "scrolled": true
   },
   "outputs": [
    {
     "name": "stdout",
     "output_type": "stream",
     "text": [
      "output in an interactive way\n"
     ]
    },
    {
     "data": {
      "application/vnd.jupyter.widget-view+json": {
       "model_id": "0a4cc7d62f5743549c7bd92d349978a2",
       "version_major": 2,
       "version_minor": 0
      },
      "text/plain": [
       "VBox(children=(Dropdown(description='event', options=('October Wed 2018', 'Vikings Opener', 'Basilica Block Pa…"
      ]
     },
     "metadata": {},
     "output_type": "display_data"
    }
   ],
   "source": [
    "#https://github.com/jupyter-widgets/ipywidgets/issues/1582\n",
    "from IPython.display import display\n",
    "import numpy as np\n",
    "from ipywidgets import *\n",
    "import matplotlib.pyplot as plt\n",
    "sensor_out=[\"S2\",\"S569\",\"S285\",\"S554\",\"S125\"]\n",
    "sensor_in=[\"S64\",\"S582\",\"S286\",\"S553\",\"S137\"]\n",
    "\n",
    "def plot_flow_event(b):\n",
    "    Num_of_event=events.index(b)\n",
    "    aa=EE_df.groupby([\"Event Label\"]).get_group(b).sort_values(by=\"road\");\n",
    "    #aa=aa[aa[\"road\"]==\"35W\"]\n",
    "    aa.set_index(\"Sensor\",inplace=True)\n",
    "    sensors_in=aa.loc[sensor_in,\"name_sensor\"]\n",
    "    sensors_out=aa.loc[sensor_out,\"name_sensor\"]\n",
    "    flow_in=aa.loc[sensor_in,\"Volume\"]\n",
    "    flow_out=aa.loc[sensor_out,\"Volume\"]\n",
    "    \n",
    "    \n",
    "    fig, ax = plt.subplots(figsize=(15,5))\n",
    "    opacity=0.8\n",
    "    bar_width = 0.35\n",
    "    index = np.arange(5)\n",
    "\n",
    "    rects1 = plt.bar(index, flow_in, bar_width,\n",
    "                alpha = opacity,\n",
    "                color = 'b',\n",
    "                label = 'To MPLS')\n",
    "    rects2 = plt.bar(index+bar_width, flow_out, bar_width,\n",
    "                alpha = opacity,\n",
    "                color = 'r',\n",
    "                label = 'From MPLS')\n",
    "\n",
    "#     print(index)\n",
    "#     print(sensors_in.values)\n",
    "#     fig, ax = plt.subplots(figsize=(15,5))\n",
    "#     ax.bar(aa[\"Sensor\"],aa[\"Volume\"])\n",
    "    #ax.set_xticklabels(index,tuple(sensors_in.values))\n",
    "    #plt.set_xticklabels(position=[(1.,0),(2.,0)],labels=[\"A\",\"B\"])\n",
    "    #ax.set_xticklabels(index+bar_width,aa[\"sensor_fromto\"],rotation=45,ha=\"right\")\n",
    "    \n",
    "    #plt.set_ylabel(\"vehicle flow\")\n",
    "    #plt.set_title(f\"Traffic to and from MPLS\\n{b}\")\n",
    "    #plt.legend()\n",
    "    \n",
    "    plt.xlabel('Routes')\n",
    "    plt.ylabel('Volume of Cars')\n",
    "    plt.title(f\"Traffic to and from MPLS\\n{b}\")\n",
    "    plt.xticks(index + bar_width, ('35W_SB(in)', '35W_NB(in)', '394WB(in)', '94WB(in)', '94WB(in)'))\n",
    "    plt.legend()\n",
    "    return None\n",
    "w1=dict(b=widgets.Dropdown(options=events,value=events[0],description='event',disabled=False))\n",
    "output = interactive_output(plot_flow_event, w1)\n",
    "box = VBox([*w1.values(), output])\n",
    "print(\"output in an interactive way\")\n",
    "display(box)\n",
    "\n",
    "#plot_flow_event(\"October Wed 2018\")"
   ]
  },
  {
   "cell_type": "code",
   "execution_count": 103,
   "metadata": {},
   "outputs": [
    {
     "data": {
      "application/vnd.jupyter.widget-view+json": {
       "model_id": "dae9e7300f114319bcb6aa0b4aef8937",
       "version_major": 2,
       "version_minor": 0
      },
      "text/plain": [
       "VBox(children=(Dropdown(description='Sensor', options=('S125(94 WB)', 'S137(94 EB)', 'S2(35W SB)', 'S285(394 W…"
      ]
     },
     "metadata": {},
     "output_type": "display_data"
    }
   ],
   "source": [
    "def plot_flow_sensor(b):\n",
    "    Num_of_sensor=sensors.index(b)\n",
    "    aa=EE_df.groupby([\"sensor_name\"]).get_group(b).sort_values(by=\"Event Label\");\n",
    "    #aa=aa[aa[\"road\"]==\"35W\"]\n",
    "    fig, ax = plt.subplots(figsize=(15,3))\n",
    "    ax.bar(aa[\"Event Label\"],aa[\"Volume\"])\n",
    "    ax.set_xticklabels(aa[\"Event Label\"],rotation=45,ha=\"right\")\n",
    "    ax.set_ylabel(\"vehicle flow\")\n",
    "    ax.set_title(b)\n",
    "\n",
    "w2=dict(b=widgets.Dropdown(options=sensors,value=sensors[0],description='Sensor',disabled=False))\n",
    "\n",
    "output = interactive_output(plot_flow_sensor, w2)\n",
    "box = VBox([*w2.values(), output])\n",
    "display(box)"
   ]
  },
  {
   "cell_type": "code",
   "execution_count": 104,
   "metadata": {
    "scrolled": true
   },
   "outputs": [
    {
     "data": {
      "image/png": "[encoded data removed]",
      "text/plain": [
       "<Figure size 1224x576 with 12 Axes>"
      ]
     },
     "metadata": {},
     "output_type": "display_data"
    }
   ],
   "source": [
    "def plot_flow_event_all(b,ax):\n",
    "    Num_of_event=events.index(b)\n",
    "    b1,b2=(int(Num_of_event/2),Num_of_event%2)\n",
    "    aa=EE_df.groupby([\"Event Label\"]).get_group(b).sort_values(by=\"road\");\n",
    "    #aa=aa[aa[\"road\"]==\"35W\"]\n",
    "    #fig, ax = plt.subplots(figsize=(15,5))\n",
    "    ax[b1,b2].bar(aa[\"Sensor\"],aa[\"Volume\"])\n",
    "    ax[b1,b2].set_xticklabels(aa[\"sensor_fromto\"],rotation=45,ha=\"right\")\n",
    "    if (b2==0):\n",
    "        ax[b1,b2].yaxis.tick_right()\n",
    "        #ax[b1,b2].set_ylabel(b,rotation=0)\n",
    "        \n",
    "        box = ax[b1,b2].get_position()\n",
    "        #ax[b1,b2].set_ylabel(b,rotation=45,fontstyle='oblique',position=(box.x0-box.width*0.4,box.y0))\n",
    "        #ax[b1,b2].text(box.x0+box.width*0.4,box.y0,b,rotation=45,fontstyle='oblique')\n",
    "        ax[b1,b2].set_ylabel(b,rotation=0,fontstyle='oblique')\n",
    "        ax[b1,b2].yaxis.label.set_color('red')\n",
    "    else:\n",
    "        ax[b1,b2].set_yticklabels('')\n",
    "        ax[b1,b2].yaxis.set_label_position(\"right\")\n",
    "        ax[b1,b2].set_ylabel(b,rotation=0,fontstyle='oblique')\n",
    "        ax[b1,b2].yaxis.label.set_color('red')\n",
    "    #ax[b1,b2].set_yticklabels(aa['road'],rotation=45,ha=\"right\")\n",
    "    \n",
    "    \n",
    "    #ax[b1,b2].set_title(b)\n",
    "    #leg[b1,b2]=ax[b1,b2].set_label(b)\n",
    "    return None\n",
    "fig, ax = plt.subplots(6,2,sharex='all',figsize=(17,8))\n",
    "\n",
    "# leg=np.zeros((6,2))\n",
    "for b in events:\n",
    "    plot_flow_event_all(b,ax)\n",
    "title=fig.suptitle(\"vechicle flow for 12 sensors\",fontsize=22,color=\"red\")\n",
    "#fig.legend(loc=\"right\")\n",
    "#fig.legend((leg[0,0],leg[0,1]), ('Line 1', 'Line 2'), 'upper left')\n",
    "# box = ax[3,1].get_position()\n",
    "# pos=ax[].set_position([box.x0, box.y0, box.width * 0.8, box.height])\n",
    "\n",
    "# # Put a legend to the right of the current axis\n",
    "# leg=ax1.legend(loc='upper left', bbox_to_anchor=(1, 1.0))"
   ]
  },
  {
   "cell_type": "markdown",
   "metadata": {},
   "source": [
    "# Some observations:\n",
    "> - for events 'October Wed 2018'(10/3/2018\t) and  'Vikings Opener'(9/9/2018), 35 W NB(S64)  and 35W SB(S2) are closed. Bothe of these events. \n",
    "\n",
    "> - for events 'October Wed 2015',  35W NB(S569),35W SB(S582),394 WB(S285),394 EB(S286) are all closed\n",
    "> - for events October Wed 2016','94 WB(S553),'94 WB(S125) are closed\n",
    "> - We can discern many sensor \"pairs\", e.g.,  <font color='green'>35W SB(S2)&35W NB(S64)</font>,   <font color='red'>35W NB(S569)&35W SB(S582)</font>, <font color='blue'>394 WB(S285)&394 EB(S286)</font>,<font color='orange'>94 WB(S553)&94 WB(S554)</font>, <font color='purple'>94 EB(S137)& 94 WB(S125)</font>. For each pair, they are on the same highway and near to each other, one in-going and another out-going from the downtown.  The flow magnitude in each pair is very close to each other.\n"
   ]
  },
  {
   "cell_type": "code",
   "execution_count": 105,
   "metadata": {
    "scrolled": true
   },
   "outputs": [],
   "source": [
    "##calculate distance between paired sensors\n",
    "# from math import sin, cos, sqrt, atan2\n",
    "# R = 6373.0\n",
    "# lat1 = 52.2296756\n",
    "# lon1 = 21.0122287\n",
    "# lat2 = 52.406374\n",
    "# lon2 = 16.9251681\n",
    "# dlon = lon2 - lon1\n",
    "# dlat = lat2 - lat1\n",
    "# a = (sin(dlat/2))**2 + cos(lat1) * cos(lat2) * (sin(dlon/2))**2\n",
    "# c = 2 * atan2(sqrt(a), sqrt(1-a))\n",
    "# distance = R * c\n",
    "# sensors=list(EE_df[\"Sensor\"].unique())\n",
    "# sensors\n",
    "# EE_df.groupby(\"Sensor\")[[\"Lat\",\"Lng\"]].get_group(sensors[0])"
   ]
  },
  {
   "cell_type": "code",
   "execution_count": 106,
   "metadata": {
    "scrolled": true
   },
   "outputs": [
    {
     "data": {
      "text/plain": [
       "Sensor\n",
       "S64      35W NB(S64)\n",
       "S582    35W SB(S582)\n",
       "S286    394 EB(S286)\n",
       "S553     94 WB(S553)\n",
       "S137     94 EB(S137)\n",
       "Name: name_sensor, dtype: object"
      ]
     },
     "execution_count": 106,
     "metadata": {},
     "output_type": "execute_result"
    },
    {
     "data": {
      "text/plain": [
       "Sensor\n",
       "S64     To\n",
       "S582    To\n",
       "S286    To\n",
       "S553    To\n",
       "S137    To\n",
       "Name: Direction, dtype: object"
      ]
     },
     "execution_count": 106,
     "metadata": {},
     "output_type": "execute_result"
    }
   ],
   "source": [
    "\n",
    "sensor_out=[\"S2\",\"S569\",\"S285\",\"S554\",\"S125\"]\n",
    "sensor_in=[\"S64\",\"S582\",\"S286\",\"S553\",\"S137\"]\n",
    "for b in events:\n",
    "    aa=EE_df.groupby([\"Event Label\"]).get_group(b).sort_values(by=\"road\");\n",
    "    #aa[\"sensor_fromto\"].values\n",
    "#     ss=list(aa[\"Sensor\"].values);\n",
    "#     sensors_in=[ss[index_in[i]] for i in range(5)];\n",
    "#     sensors_out=[ss[index_out[i]] for i in range(5)];\n",
    "#     sensors_in\n",
    "#     sensors_out\n",
    "    #aa.loc[sensor_out,\"Direction\"]\n",
    "    aa.set_index(\"Sensor\",inplace=True)\n",
    "    aa.loc[sensor_in,\"name_sensor\"]\n",
    "    aa.loc[sensor_in,\"Direction\"]\n",
    "    \n",
    "    \n",
    "    #aa.head()\n",
    "    break\n",
    "index=[4,2,1,3,5,6,9,8,10,7]"
   ]
  },
  {
   "cell_type": "code",
   "execution_count": 20,
   "metadata": {
    "scrolled": true
   },
   "outputs": [
    {
     "ename": "SyntaxError",
     "evalue": "invalid syntax (<ipython-input-20-89ad25140883>, line 1)",
     "output_type": "error",
     "traceback": [
      "\u001b[0;36m  File \u001b[0;32m\"<ipython-input-20-89ad25140883>\"\u001b[0;36m, line \u001b[0;32m1\u001b[0m\n\u001b[0;31m    35W SB(S2)&35W NB(S64), 35W NB(S569)&35W SB(S582), 394 WB(S285)&394 EB(S286),94 WB(S553)&94 WB(S554), 94 EB(S137)& 94 WB(S125).\u001b[0m\n\u001b[0m      ^\u001b[0m\n\u001b[0;31mSyntaxError\u001b[0m\u001b[0;31m:\u001b[0m invalid syntax\n"
     ]
    }
   ],
   "source": [
    "35W oSB(S2)&35W NB(S64), 35W NB(S569)&35W SB(S582), 394 WB(S285)&394 EB(S286),94 WB(S553)&94 WB(S554), 94 EB(S137)& 94 WB(S125). "
   ]
  },
  {
   "cell_type": "code",
   "execution_count": 34,
   "metadata": {
    "scrolled": true
   },
   "outputs": [
    {
     "data": {
      "text/plain": [
       "[4, 2, 1, 3, 5, 6, 9, 8, 10, 7]"
      ]
     },
     "execution_count": 34,
     "metadata": {},
     "output_type": "execute_result"
    },
    {
     "data": {
      "text/plain": [
       "[3, 1, 0, 2, 4, 5, 8, 7, 9, 6]"
      ]
     },
     "execution_count": 34,
     "metadata": {},
     "output_type": "execute_result"
    }
   ],
   "source": [
    "index=[4,2,1,3,5,6,9,8,10,7]\n",
    "index\n",
    "index=[ index[i]-1 for i in range(len(index))]\n",
    "index\n",
    "index_in=index0[0:9:2]\n",
    "index_out=index0[1:10:2]"
   ]
  },
  {
   "cell_type": "code",
   "execution_count": 120,
   "metadata": {
    "scrolled": true
   },
   "outputs": [],
   "source": [
    "EE_df.groupby(\"Event Label\")[\"Date\"].get_group('Vikings Opener');"
   ]
  },
  {
   "cell_type": "code",
   "execution_count": 39,
   "metadata": {
    "scrolled": true
   },
   "outputs": [
    {
     "data": {
      "text/plain": [
       "[3, 0, 4, 8, 9]"
      ]
     },
     "execution_count": 39,
     "metadata": {},
     "output_type": "execute_result"
    },
    {
     "data": {
      "text/plain": [
       "[1, 2, 5, 7, 6]"
      ]
     },
     "execution_count": 39,
     "metadata": {},
     "output_type": "execute_result"
    }
   ],
   "source": [
    "index_in\n",
    "index_out"
   ]
  },
  {
   "cell_type": "code",
   "execution_count": 64,
   "metadata": {
    "scrolled": false
   },
   "outputs": [
    {
     "data": {
      "text/html": [
       "<div>\n",
       "<style scoped>\n",
       "    .dataframe tbody tr th:only-of-type {\n",
       "        vertical-align: middle;\n",
       "    }\n",
       "\n",
       "    .dataframe tbody tr th {\n",
       "        vertical-align: top;\n",
       "    }\n",
       "\n",
       "    .dataframe thead th {\n",
       "        text-align: right;\n",
       "    }\n",
       "</style>\n",
       "<table border=\"1\" class=\"dataframe\">\n",
       "  <thead>\n",
       "    <tr style=\"text-align: right;\">\n",
       "      <th></th>\n",
       "      <th>Sensor</th>\n",
       "      <th>Date</th>\n",
       "      <th>Volume</th>\n",
       "      <th>St Label</th>\n",
       "      <th>Lat</th>\n",
       "      <th>Lng</th>\n",
       "      <th>Direction</th>\n",
       "      <th>Freeway Tag</th>\n",
       "      <th>Event Label</th>\n",
       "      <th>Direction(from/to)</th>\n",
       "      <th>road</th>\n",
       "      <th>sensor_name</th>\n",
       "      <th>name_sensor</th>\n",
       "      <th>sensor_fromto</th>\n",
       "    </tr>\n",
       "  </thead>\n",
       "  <tbody>\n",
       "    <tr>\n",
       "      <th>0</th>\n",
       "      <td>S125</td>\n",
       "      <td>10/3/2018</td>\n",
       "      <td>27018</td>\n",
       "      <td>WB 94 from dwtn</td>\n",
       "      <td>44.99888</td>\n",
       "      <td>-93.28266</td>\n",
       "      <td>From</td>\n",
       "      <td>1</td>\n",
       "      <td>October Wed 2018</td>\n",
       "      <td>out</td>\n",
       "      <td>94 WB</td>\n",
       "      <td>S125(94 WB)</td>\n",
       "      <td>94 WB(S125)</td>\n",
       "      <td>94 WB,S125,out</td>\n",
       "    </tr>\n",
       "    <tr>\n",
       "      <th>1</th>\n",
       "      <td>S137</td>\n",
       "      <td>10/3/2018</td>\n",
       "      <td>35116</td>\n",
       "      <td>EB 94 to dwtn</td>\n",
       "      <td>44.99898</td>\n",
       "      <td>-93.28297</td>\n",
       "      <td>To</td>\n",
       "      <td>1</td>\n",
       "      <td>October Wed 2018</td>\n",
       "      <td>in</td>\n",
       "      <td>94 EB</td>\n",
       "      <td>S137(94 EB)</td>\n",
       "      <td>94 EB(S137)</td>\n",
       "      <td>94 EB,S137,in</td>\n",
       "    </tr>\n",
       "    <tr>\n",
       "      <th>2</th>\n",
       "      <td>S2</td>\n",
       "      <td>10/3/2018</td>\n",
       "      <td>0</td>\n",
       "      <td>SB 35W from dwtn</td>\n",
       "      <td>44.96259</td>\n",
       "      <td>-93.26997</td>\n",
       "      <td>From</td>\n",
       "      <td>2</td>\n",
       "      <td>October Wed 2018</td>\n",
       "      <td>out</td>\n",
       "      <td>35W SB</td>\n",
       "      <td>S2(35W SB)</td>\n",
       "      <td>35W SB(S2)</td>\n",
       "      <td>35W SB,S2,out</td>\n",
       "    </tr>\n",
       "    <tr>\n",
       "      <th>3</th>\n",
       "      <td>S285</td>\n",
       "      <td>10/3/2018</td>\n",
       "      <td>74299</td>\n",
       "      <td>WB 394 from dwtn</td>\n",
       "      <td>44.97002</td>\n",
       "      <td>-93.30761</td>\n",
       "      <td>From</td>\n",
       "      <td>3</td>\n",
       "      <td>October Wed 2018</td>\n",
       "      <td>out</td>\n",
       "      <td>394 WB</td>\n",
       "      <td>S285(394 WB)</td>\n",
       "      <td>394 WB(S285)</td>\n",
       "      <td>394 WB,S285,out</td>\n",
       "    </tr>\n",
       "    <tr>\n",
       "      <th>4</th>\n",
       "      <td>S286</td>\n",
       "      <td>10/3/2018</td>\n",
       "      <td>68473</td>\n",
       "      <td>EB 394 to dwtn</td>\n",
       "      <td>44.96977</td>\n",
       "      <td>-93.30786</td>\n",
       "      <td>To</td>\n",
       "      <td>3</td>\n",
       "      <td>October Wed 2018</td>\n",
       "      <td>in</td>\n",
       "      <td>394 EB</td>\n",
       "      <td>S286(394 EB)</td>\n",
       "      <td>394 EB(S286)</td>\n",
       "      <td>394 EB,S286,in</td>\n",
       "    </tr>\n",
       "    <tr>\n",
       "      <th>5</th>\n",
       "      <td>S553</td>\n",
       "      <td>10/3/2018</td>\n",
       "      <td>62121</td>\n",
       "      <td>WB 94 to dwtn</td>\n",
       "      <td>44.96436</td>\n",
       "      <td>-93.23804</td>\n",
       "      <td>To</td>\n",
       "      <td>4</td>\n",
       "      <td>October Wed 2018</td>\n",
       "      <td>in</td>\n",
       "      <td>94 WB</td>\n",
       "      <td>S553(94 WB)</td>\n",
       "      <td>94 WB(S553)</td>\n",
       "      <td>94 WB,S553,in</td>\n",
       "    </tr>\n",
       "    <tr>\n",
       "      <th>6</th>\n",
       "      <td>S554</td>\n",
       "      <td>10/3/2018</td>\n",
       "      <td>79477</td>\n",
       "      <td>EB 94 from dwtn</td>\n",
       "      <td>44.96422</td>\n",
       "      <td>-93.23944</td>\n",
       "      <td>From</td>\n",
       "      <td>4</td>\n",
       "      <td>October Wed 2018</td>\n",
       "      <td>out</td>\n",
       "      <td>94 EB</td>\n",
       "      <td>S554(94 EB)</td>\n",
       "      <td>94 EB(S554)</td>\n",
       "      <td>94 EB,S554,out</td>\n",
       "    </tr>\n",
       "    <tr>\n",
       "      <th>7</th>\n",
       "      <td>S569</td>\n",
       "      <td>10/3/2018</td>\n",
       "      <td>63958</td>\n",
       "      <td>NB 35W from dwtn</td>\n",
       "      <td>44.99116</td>\n",
       "      <td>-93.23629</td>\n",
       "      <td>From</td>\n",
       "      <td>5</td>\n",
       "      <td>October Wed 2018</td>\n",
       "      <td>out</td>\n",
       "      <td>35W NB</td>\n",
       "      <td>S569(35W NB)</td>\n",
       "      <td>35W NB(S569)</td>\n",
       "      <td>35W NB,S569,out</td>\n",
       "    </tr>\n",
       "    <tr>\n",
       "      <th>8</th>\n",
       "      <td>S582</td>\n",
       "      <td>10/3/2018</td>\n",
       "      <td>63701</td>\n",
       "      <td>SB 35W to dwtn</td>\n",
       "      <td>44.99115</td>\n",
       "      <td>-93.23659</td>\n",
       "      <td>To</td>\n",
       "      <td>5</td>\n",
       "      <td>October Wed 2018</td>\n",
       "      <td>in</td>\n",
       "      <td>35W SB</td>\n",
       "      <td>S582(35W SB)</td>\n",
       "      <td>35W SB(S582)</td>\n",
       "      <td>35W SB,S582,in</td>\n",
       "    </tr>\n",
       "    <tr>\n",
       "      <th>9</th>\n",
       "      <td>S64</td>\n",
       "      <td>10/3/2018</td>\n",
       "      <td>0</td>\n",
       "      <td>NB 35W to dwtn</td>\n",
       "      <td>44.96239</td>\n",
       "      <td>-93.26959</td>\n",
       "      <td>To</td>\n",
       "      <td>2</td>\n",
       "      <td>October Wed 2018</td>\n",
       "      <td>in</td>\n",
       "      <td>35W NB</td>\n",
       "      <td>S64(35W NB)</td>\n",
       "      <td>35W NB(S64)</td>\n",
       "      <td>35W NB,S64,in</td>\n",
       "    </tr>\n",
       "    <tr>\n",
       "      <th>10</th>\n",
       "      <td>S125</td>\n",
       "      <td>9/9/2018</td>\n",
       "      <td>20129</td>\n",
       "      <td>WB 94 from dwtn</td>\n",
       "      <td>44.99888</td>\n",
       "      <td>-93.28266</td>\n",
       "      <td>From</td>\n",
       "      <td>1</td>\n",
       "      <td>Vikings Opener</td>\n",
       "      <td>out</td>\n",
       "      <td>94 WB</td>\n",
       "      <td>S125(94 WB)</td>\n",
       "      <td>94 WB(S125)</td>\n",
       "      <td>94 WB,S125,out</td>\n",
       "    </tr>\n",
       "    <tr>\n",
       "      <th>11</th>\n",
       "      <td>S137</td>\n",
       "      <td>9/9/2018</td>\n",
       "      <td>24578</td>\n",
       "      <td>EB 94 to dwtn</td>\n",
       "      <td>44.99898</td>\n",
       "      <td>-93.28297</td>\n",
       "      <td>To</td>\n",
       "      <td>1</td>\n",
       "      <td>Vikings Opener</td>\n",
       "      <td>in</td>\n",
       "      <td>94 EB</td>\n",
       "      <td>S137(94 EB)</td>\n",
       "      <td>94 EB(S137)</td>\n",
       "      <td>94 EB,S137,in</td>\n",
       "    </tr>\n",
       "    <tr>\n",
       "      <th>12</th>\n",
       "      <td>S2</td>\n",
       "      <td>9/9/2018</td>\n",
       "      <td>0</td>\n",
       "      <td>SB 35W from dwtn</td>\n",
       "      <td>44.96259</td>\n",
       "      <td>-93.26997</td>\n",
       "      <td>From</td>\n",
       "      <td>2</td>\n",
       "      <td>Vikings Opener</td>\n",
       "      <td>out</td>\n",
       "      <td>35W SB</td>\n",
       "      <td>S2(35W SB)</td>\n",
       "      <td>35W SB(S2)</td>\n",
       "      <td>35W SB,S2,out</td>\n",
       "    </tr>\n",
       "    <tr>\n",
       "      <th>13</th>\n",
       "      <td>S285</td>\n",
       "      <td>9/9/2018</td>\n",
       "      <td>48508</td>\n",
       "      <td>WB 394 from dwtn</td>\n",
       "      <td>44.97002</td>\n",
       "      <td>-93.30761</td>\n",
       "      <td>From</td>\n",
       "      <td>3</td>\n",
       "      <td>Vikings Opener</td>\n",
       "      <td>out</td>\n",
       "      <td>394 WB</td>\n",
       "      <td>S285(394 WB)</td>\n",
       "      <td>394 WB(S285)</td>\n",
       "      <td>394 WB,S285,out</td>\n",
       "    </tr>\n",
       "    <tr>\n",
       "      <th>14</th>\n",
       "      <td>S286</td>\n",
       "      <td>9/9/2018</td>\n",
       "      <td>53102</td>\n",
       "      <td>EB 394 to dwtn</td>\n",
       "      <td>44.96977</td>\n",
       "      <td>-93.30786</td>\n",
       "      <td>To</td>\n",
       "      <td>3</td>\n",
       "      <td>Vikings Opener</td>\n",
       "      <td>in</td>\n",
       "      <td>394 EB</td>\n",
       "      <td>S286(394 EB)</td>\n",
       "      <td>394 EB(S286)</td>\n",
       "      <td>394 EB,S286,in</td>\n",
       "    </tr>\n",
       "    <tr>\n",
       "      <th>15</th>\n",
       "      <td>S553</td>\n",
       "      <td>9/9/2018</td>\n",
       "      <td>52381</td>\n",
       "      <td>WB 94 to dwtn</td>\n",
       "      <td>44.96436</td>\n",
       "      <td>-93.23804</td>\n",
       "      <td>To</td>\n",
       "      <td>4</td>\n",
       "      <td>Vikings Opener</td>\n",
       "      <td>in</td>\n",
       "      <td>94 WB</td>\n",
       "      <td>S553(94 WB)</td>\n",
       "      <td>94 WB(S553)</td>\n",
       "      <td>94 WB,S553,in</td>\n",
       "    </tr>\n",
       "    <tr>\n",
       "      <th>16</th>\n",
       "      <td>S554</td>\n",
       "      <td>9/9/2018</td>\n",
       "      <td>58174</td>\n",
       "      <td>EB 94 from dwtn</td>\n",
       "      <td>44.96422</td>\n",
       "      <td>-93.23944</td>\n",
       "      <td>From</td>\n",
       "      <td>4</td>\n",
       "      <td>Vikings Opener</td>\n",
       "      <td>out</td>\n",
       "      <td>94 EB</td>\n",
       "      <td>S554(94 EB)</td>\n",
       "      <td>94 EB(S554)</td>\n",
       "      <td>94 EB,S554,out</td>\n",
       "    </tr>\n",
       "    <tr>\n",
       "      <th>17</th>\n",
       "      <td>S569</td>\n",
       "      <td>9/9/2018</td>\n",
       "      <td>46199</td>\n",
       "      <td>NB 35W from dwtn</td>\n",
       "      <td>44.99116</td>\n",
       "      <td>-93.23629</td>\n",
       "      <td>From</td>\n",
       "      <td>5</td>\n",
       "      <td>Vikings Opener</td>\n",
       "      <td>out</td>\n",
       "      <td>35W NB</td>\n",
       "      <td>S569(35W NB)</td>\n",
       "      <td>35W NB(S569)</td>\n",
       "      <td>35W NB,S569,out</td>\n",
       "    </tr>\n",
       "    <tr>\n",
       "      <th>18</th>\n",
       "      <td>S582</td>\n",
       "      <td>9/9/2018</td>\n",
       "      <td>47704</td>\n",
       "      <td>SB 35W to dwtn</td>\n",
       "      <td>44.99115</td>\n",
       "      <td>-93.23659</td>\n",
       "      <td>To</td>\n",
       "      <td>5</td>\n",
       "      <td>Vikings Opener</td>\n",
       "      <td>in</td>\n",
       "      <td>35W SB</td>\n",
       "      <td>S582(35W SB)</td>\n",
       "      <td>35W SB(S582)</td>\n",
       "      <td>35W SB,S582,in</td>\n",
       "    </tr>\n",
       "    <tr>\n",
       "      <th>19</th>\n",
       "      <td>S64</td>\n",
       "      <td>9/9/2018</td>\n",
       "      <td>0</td>\n",
       "      <td>NB 35W to dwtn</td>\n",
       "      <td>44.96239</td>\n",
       "      <td>-93.26959</td>\n",
       "      <td>To</td>\n",
       "      <td>2</td>\n",
       "      <td>Vikings Opener</td>\n",
       "      <td>in</td>\n",
       "      <td>35W NB</td>\n",
       "      <td>S64(35W NB)</td>\n",
       "      <td>35W NB(S64)</td>\n",
       "      <td>35W NB,S64,in</td>\n",
       "    </tr>\n",
       "    <tr>\n",
       "      <th>20</th>\n",
       "      <td>S125</td>\n",
       "      <td>7/6/2018</td>\n",
       "      <td>25242</td>\n",
       "      <td>WB 94 from dwtn</td>\n",
       "      <td>44.99888</td>\n",
       "      <td>-93.28266</td>\n",
       "      <td>From</td>\n",
       "      <td>1</td>\n",
       "      <td>Basilica Block Party 2018</td>\n",
       "      <td>out</td>\n",
       "      <td>94 WB</td>\n",
       "      <td>S125(94 WB)</td>\n",
       "      <td>94 WB(S125)</td>\n",
       "      <td>94 WB,S125,out</td>\n",
       "    </tr>\n",
       "    <tr>\n",
       "      <th>21</th>\n",
       "      <td>S137</td>\n",
       "      <td>7/6/2018</td>\n",
       "      <td>31014</td>\n",
       "      <td>EB 94 to dwtn</td>\n",
       "      <td>44.99898</td>\n",
       "      <td>-93.28297</td>\n",
       "      <td>To</td>\n",
       "      <td>1</td>\n",
       "      <td>Basilica Block Party 2018</td>\n",
       "      <td>in</td>\n",
       "      <td>94 EB</td>\n",
       "      <td>S137(94 EB)</td>\n",
       "      <td>94 EB(S137)</td>\n",
       "      <td>94 EB,S137,in</td>\n",
       "    </tr>\n",
       "    <tr>\n",
       "      <th>22</th>\n",
       "      <td>S2</td>\n",
       "      <td>7/6/2018</td>\n",
       "      <td>0</td>\n",
       "      <td>SB 35W from dwtn</td>\n",
       "      <td>44.96259</td>\n",
       "      <td>-93.26997</td>\n",
       "      <td>From</td>\n",
       "      <td>2</td>\n",
       "      <td>Basilica Block Party 2018</td>\n",
       "      <td>out</td>\n",
       "      <td>35W SB</td>\n",
       "      <td>S2(35W SB)</td>\n",
       "      <td>35W SB(S2)</td>\n",
       "      <td>35W SB,S2,out</td>\n",
       "    </tr>\n",
       "    <tr>\n",
       "      <th>23</th>\n",
       "      <td>S285</td>\n",
       "      <td>7/6/2018</td>\n",
       "      <td>62951</td>\n",
       "      <td>WB 394 from dwtn</td>\n",
       "      <td>44.97002</td>\n",
       "      <td>-93.30761</td>\n",
       "      <td>From</td>\n",
       "      <td>3</td>\n",
       "      <td>Basilica Block Party 2018</td>\n",
       "      <td>out</td>\n",
       "      <td>394 WB</td>\n",
       "      <td>S285(394 WB)</td>\n",
       "      <td>394 WB(S285)</td>\n",
       "      <td>394 WB,S285,out</td>\n",
       "    </tr>\n",
       "    <tr>\n",
       "      <th>24</th>\n",
       "      <td>S286</td>\n",
       "      <td>7/6/2018</td>\n",
       "      <td>63321</td>\n",
       "      <td>EB 394 to dwtn</td>\n",
       "      <td>44.96977</td>\n",
       "      <td>-93.30786</td>\n",
       "      <td>To</td>\n",
       "      <td>3</td>\n",
       "      <td>Basilica Block Party 2018</td>\n",
       "      <td>in</td>\n",
       "      <td>394 EB</td>\n",
       "      <td>S286(394 EB)</td>\n",
       "      <td>394 EB(S286)</td>\n",
       "      <td>394 EB,S286,in</td>\n",
       "    </tr>\n",
       "    <tr>\n",
       "      <th>25</th>\n",
       "      <td>S553</td>\n",
       "      <td>7/6/2018</td>\n",
       "      <td>65544</td>\n",
       "      <td>WB 94 to dwtn</td>\n",
       "      <td>44.96436</td>\n",
       "      <td>-93.23804</td>\n",
       "      <td>To</td>\n",
       "      <td>4</td>\n",
       "      <td>Basilica Block Party 2018</td>\n",
       "      <td>in</td>\n",
       "      <td>94 WB</td>\n",
       "      <td>S553(94 WB)</td>\n",
       "      <td>94 WB(S553)</td>\n",
       "      <td>94 WB,S553,in</td>\n",
       "    </tr>\n",
       "    <tr>\n",
       "      <th>26</th>\n",
       "      <td>S554</td>\n",
       "      <td>7/6/2018</td>\n",
       "      <td>70789</td>\n",
       "      <td>EB 94 from dwtn</td>\n",
       "      <td>44.96422</td>\n",
       "      <td>-93.23944</td>\n",
       "      <td>From</td>\n",
       "      <td>4</td>\n",
       "      <td>Basilica Block Party 2018</td>\n",
       "      <td>out</td>\n",
       "      <td>94 EB</td>\n",
       "      <td>S554(94 EB)</td>\n",
       "      <td>94 EB(S554)</td>\n",
       "      <td>94 EB,S554,out</td>\n",
       "    </tr>\n",
       "    <tr>\n",
       "      <th>27</th>\n",
       "      <td>S569</td>\n",
       "      <td>7/6/2018</td>\n",
       "      <td>61320</td>\n",
       "      <td>NB 35W from dwtn</td>\n",
       "      <td>44.99116</td>\n",
       "      <td>-93.23629</td>\n",
       "      <td>From</td>\n",
       "      <td>5</td>\n",
       "      <td>Basilica Block Party 2018</td>\n",
       "      <td>out</td>\n",
       "      <td>35W NB</td>\n",
       "      <td>S569(35W NB)</td>\n",
       "      <td>35W NB(S569)</td>\n",
       "      <td>35W NB,S569,out</td>\n",
       "    </tr>\n",
       "    <tr>\n",
       "      <th>28</th>\n",
       "      <td>S582</td>\n",
       "      <td>7/6/2018</td>\n",
       "      <td>59476</td>\n",
       "      <td>SB 35W to dwtn</td>\n",
       "      <td>44.99115</td>\n",
       "      <td>-93.23659</td>\n",
       "      <td>To</td>\n",
       "      <td>5</td>\n",
       "      <td>Basilica Block Party 2018</td>\n",
       "      <td>in</td>\n",
       "      <td>35W SB</td>\n",
       "      <td>S582(35W SB)</td>\n",
       "      <td>35W SB(S582)</td>\n",
       "      <td>35W SB,S582,in</td>\n",
       "    </tr>\n",
       "    <tr>\n",
       "      <th>29</th>\n",
       "      <td>S64</td>\n",
       "      <td>7/6/2018</td>\n",
       "      <td>0</td>\n",
       "      <td>NB 35W to dwtn</td>\n",
       "      <td>44.96239</td>\n",
       "      <td>-93.26959</td>\n",
       "      <td>To</td>\n",
       "      <td>2</td>\n",
       "      <td>Basilica Block Party 2018</td>\n",
       "      <td>in</td>\n",
       "      <td>35W NB</td>\n",
       "      <td>S64(35W NB)</td>\n",
       "      <td>35W NB(S64)</td>\n",
       "      <td>35W NB,S64,in</td>\n",
       "    </tr>\n",
       "    <tr>\n",
       "      <th>...</th>\n",
       "      <td>...</td>\n",
       "      <td>...</td>\n",
       "      <td>...</td>\n",
       "      <td>...</td>\n",
       "      <td>...</td>\n",
       "      <td>...</td>\n",
       "      <td>...</td>\n",
       "      <td>...</td>\n",
       "      <td>...</td>\n",
       "      <td>...</td>\n",
       "      <td>...</td>\n",
       "      <td>...</td>\n",
       "      <td>...</td>\n",
       "      <td>...</td>\n",
       "    </tr>\n",
       "    <tr>\n",
       "      <th>90</th>\n",
       "      <td>S125</td>\n",
       "      <td>8/19/2016</td>\n",
       "      <td>44617</td>\n",
       "      <td>WB 94 from dwtn</td>\n",
       "      <td>44.99888</td>\n",
       "      <td>-93.28266</td>\n",
       "      <td>From</td>\n",
       "      <td>1</td>\n",
       "      <td>US Bank 1st Concert</td>\n",
       "      <td>out</td>\n",
       "      <td>94 WB</td>\n",
       "      <td>S125(94 WB)</td>\n",
       "      <td>94 WB(S125)</td>\n",
       "      <td>94 WB,S125,out</td>\n",
       "    </tr>\n",
       "    <tr>\n",
       "      <th>91</th>\n",
       "      <td>S137</td>\n",
       "      <td>8/19/2016</td>\n",
       "      <td>46780</td>\n",
       "      <td>EB 94 to dwtn</td>\n",
       "      <td>44.99898</td>\n",
       "      <td>-93.28297</td>\n",
       "      <td>To</td>\n",
       "      <td>1</td>\n",
       "      <td>US Bank 1st Concert</td>\n",
       "      <td>in</td>\n",
       "      <td>94 EB</td>\n",
       "      <td>S137(94 EB)</td>\n",
       "      <td>94 EB(S137)</td>\n",
       "      <td>94 EB,S137,in</td>\n",
       "    </tr>\n",
       "    <tr>\n",
       "      <th>92</th>\n",
       "      <td>S2</td>\n",
       "      <td>8/19/2016</td>\n",
       "      <td>52966</td>\n",
       "      <td>SB 35W from dwtn</td>\n",
       "      <td>44.96259</td>\n",
       "      <td>-93.26997</td>\n",
       "      <td>From</td>\n",
       "      <td>2</td>\n",
       "      <td>US Bank 1st Concert</td>\n",
       "      <td>out</td>\n",
       "      <td>35W SB</td>\n",
       "      <td>S2(35W SB)</td>\n",
       "      <td>35W SB(S2)</td>\n",
       "      <td>35W SB,S2,out</td>\n",
       "    </tr>\n",
       "    <tr>\n",
       "      <th>93</th>\n",
       "      <td>S285</td>\n",
       "      <td>8/19/2016</td>\n",
       "      <td>69939</td>\n",
       "      <td>WB 394 from dwtn</td>\n",
       "      <td>44.97002</td>\n",
       "      <td>-93.30761</td>\n",
       "      <td>From</td>\n",
       "      <td>3</td>\n",
       "      <td>US Bank 1st Concert</td>\n",
       "      <td>out</td>\n",
       "      <td>394 WB</td>\n",
       "      <td>S285(394 WB)</td>\n",
       "      <td>394 WB(S285)</td>\n",
       "      <td>394 WB,S285,out</td>\n",
       "    </tr>\n",
       "    <tr>\n",
       "      <th>94</th>\n",
       "      <td>S286</td>\n",
       "      <td>8/19/2016</td>\n",
       "      <td>64944</td>\n",
       "      <td>EB 394 to dwtn</td>\n",
       "      <td>44.96977</td>\n",
       "      <td>-93.30786</td>\n",
       "      <td>To</td>\n",
       "      <td>3</td>\n",
       "      <td>US Bank 1st Concert</td>\n",
       "      <td>in</td>\n",
       "      <td>394 EB</td>\n",
       "      <td>S286(394 EB)</td>\n",
       "      <td>394 EB(S286)</td>\n",
       "      <td>394 EB,S286,in</td>\n",
       "    </tr>\n",
       "    <tr>\n",
       "      <th>95</th>\n",
       "      <td>S553</td>\n",
       "      <td>8/19/2016</td>\n",
       "      <td>79536</td>\n",
       "      <td>WB 94 to dwtn</td>\n",
       "      <td>44.96436</td>\n",
       "      <td>-93.23804</td>\n",
       "      <td>To</td>\n",
       "      <td>4</td>\n",
       "      <td>US Bank 1st Concert</td>\n",
       "      <td>in</td>\n",
       "      <td>94 WB</td>\n",
       "      <td>S553(94 WB)</td>\n",
       "      <td>94 WB(S553)</td>\n",
       "      <td>94 WB,S553,in</td>\n",
       "    </tr>\n",
       "    <tr>\n",
       "      <th>96</th>\n",
       "      <td>S554</td>\n",
       "      <td>8/19/2016</td>\n",
       "      <td>81195</td>\n",
       "      <td>EB 94 from dwtn</td>\n",
       "      <td>44.96422</td>\n",
       "      <td>-93.23944</td>\n",
       "      <td>From</td>\n",
       "      <td>4</td>\n",
       "      <td>US Bank 1st Concert</td>\n",
       "      <td>out</td>\n",
       "      <td>94 EB</td>\n",
       "      <td>S554(94 EB)</td>\n",
       "      <td>94 EB(S554)</td>\n",
       "      <td>94 EB,S554,out</td>\n",
       "    </tr>\n",
       "    <tr>\n",
       "      <th>97</th>\n",
       "      <td>S569</td>\n",
       "      <td>8/19/2016</td>\n",
       "      <td>73534</td>\n",
       "      <td>NB 35W from dwtn</td>\n",
       "      <td>44.99116</td>\n",
       "      <td>-93.23629</td>\n",
       "      <td>From</td>\n",
       "      <td>5</td>\n",
       "      <td>US Bank 1st Concert</td>\n",
       "      <td>out</td>\n",
       "      <td>35W NB</td>\n",
       "      <td>S569(35W NB)</td>\n",
       "      <td>35W NB(S569)</td>\n",
       "      <td>35W NB,S569,out</td>\n",
       "    </tr>\n",
       "    <tr>\n",
       "      <th>98</th>\n",
       "      <td>S582</td>\n",
       "      <td>8/19/2016</td>\n",
       "      <td>75769</td>\n",
       "      <td>SB 35W to dwtn</td>\n",
       "      <td>44.99115</td>\n",
       "      <td>-93.23659</td>\n",
       "      <td>To</td>\n",
       "      <td>5</td>\n",
       "      <td>US Bank 1st Concert</td>\n",
       "      <td>in</td>\n",
       "      <td>35W SB</td>\n",
       "      <td>S582(35W SB)</td>\n",
       "      <td>35W SB(S582)</td>\n",
       "      <td>35W SB,S582,in</td>\n",
       "    </tr>\n",
       "    <tr>\n",
       "      <th>99</th>\n",
       "      <td>S64</td>\n",
       "      <td>8/19/2016</td>\n",
       "      <td>52247</td>\n",
       "      <td>NB 35W to dwtn</td>\n",
       "      <td>44.96239</td>\n",
       "      <td>-93.26959</td>\n",
       "      <td>To</td>\n",
       "      <td>2</td>\n",
       "      <td>US Bank 1st Concert</td>\n",
       "      <td>in</td>\n",
       "      <td>35W NB</td>\n",
       "      <td>S64(35W NB)</td>\n",
       "      <td>35W NB(S64)</td>\n",
       "      <td>35W NB,S64,in</td>\n",
       "    </tr>\n",
       "    <tr>\n",
       "      <th>100</th>\n",
       "      <td>S125</td>\n",
       "      <td>10/7/2015</td>\n",
       "      <td>36472</td>\n",
       "      <td>WB 94 from dwtn</td>\n",
       "      <td>44.99888</td>\n",
       "      <td>-93.28266</td>\n",
       "      <td>From</td>\n",
       "      <td>1</td>\n",
       "      <td>October Wed 2015</td>\n",
       "      <td>out</td>\n",
       "      <td>94 WB</td>\n",
       "      <td>S125(94 WB)</td>\n",
       "      <td>94 WB(S125)</td>\n",
       "      <td>94 WB,S125,out</td>\n",
       "    </tr>\n",
       "    <tr>\n",
       "      <th>101</th>\n",
       "      <td>S137</td>\n",
       "      <td>10/7/2015</td>\n",
       "      <td>45761</td>\n",
       "      <td>EB 94 to dwtn</td>\n",
       "      <td>44.99898</td>\n",
       "      <td>-93.28297</td>\n",
       "      <td>To</td>\n",
       "      <td>1</td>\n",
       "      <td>October Wed 2015</td>\n",
       "      <td>in</td>\n",
       "      <td>94 EB</td>\n",
       "      <td>S137(94 EB)</td>\n",
       "      <td>94 EB(S137)</td>\n",
       "      <td>94 EB,S137,in</td>\n",
       "    </tr>\n",
       "    <tr>\n",
       "      <th>102</th>\n",
       "      <td>S2</td>\n",
       "      <td>10/7/2015</td>\n",
       "      <td>51682</td>\n",
       "      <td>SB 35W from dwtn</td>\n",
       "      <td>44.96259</td>\n",
       "      <td>-93.26997</td>\n",
       "      <td>From</td>\n",
       "      <td>2</td>\n",
       "      <td>October Wed 2015</td>\n",
       "      <td>out</td>\n",
       "      <td>35W SB</td>\n",
       "      <td>S2(35W SB)</td>\n",
       "      <td>35W SB(S2)</td>\n",
       "      <td>35W SB,S2,out</td>\n",
       "    </tr>\n",
       "    <tr>\n",
       "      <th>103</th>\n",
       "      <td>S285</td>\n",
       "      <td>10/7/2015</td>\n",
       "      <td>0</td>\n",
       "      <td>WB 394 from dwtn</td>\n",
       "      <td>44.97002</td>\n",
       "      <td>-93.30761</td>\n",
       "      <td>From</td>\n",
       "      <td>3</td>\n",
       "      <td>October Wed 2015</td>\n",
       "      <td>out</td>\n",
       "      <td>394 WB</td>\n",
       "      <td>S285(394 WB)</td>\n",
       "      <td>394 WB(S285)</td>\n",
       "      <td>394 WB,S285,out</td>\n",
       "    </tr>\n",
       "    <tr>\n",
       "      <th>104</th>\n",
       "      <td>S286</td>\n",
       "      <td>10/7/2015</td>\n",
       "      <td>0</td>\n",
       "      <td>EB 394 to dwtn</td>\n",
       "      <td>44.96977</td>\n",
       "      <td>-93.30786</td>\n",
       "      <td>To</td>\n",
       "      <td>3</td>\n",
       "      <td>October Wed 2015</td>\n",
       "      <td>in</td>\n",
       "      <td>394 EB</td>\n",
       "      <td>S286(394 EB)</td>\n",
       "      <td>394 EB(S286)</td>\n",
       "      <td>394 EB,S286,in</td>\n",
       "    </tr>\n",
       "    <tr>\n",
       "      <th>105</th>\n",
       "      <td>S553</td>\n",
       "      <td>10/7/2015</td>\n",
       "      <td>73749</td>\n",
       "      <td>WB 94 to dwtn</td>\n",
       "      <td>44.96436</td>\n",
       "      <td>-93.23804</td>\n",
       "      <td>To</td>\n",
       "      <td>4</td>\n",
       "      <td>October Wed 2015</td>\n",
       "      <td>in</td>\n",
       "      <td>94 WB</td>\n",
       "      <td>S553(94 WB)</td>\n",
       "      <td>94 WB(S553)</td>\n",
       "      <td>94 WB,S553,in</td>\n",
       "    </tr>\n",
       "    <tr>\n",
       "      <th>106</th>\n",
       "      <td>S554</td>\n",
       "      <td>10/7/2015</td>\n",
       "      <td>78710</td>\n",
       "      <td>EB 94 from dwtn</td>\n",
       "      <td>44.96422</td>\n",
       "      <td>-93.23944</td>\n",
       "      <td>From</td>\n",
       "      <td>4</td>\n",
       "      <td>October Wed 2015</td>\n",
       "      <td>out</td>\n",
       "      <td>94 EB</td>\n",
       "      <td>S554(94 EB)</td>\n",
       "      <td>94 EB(S554)</td>\n",
       "      <td>94 EB,S554,out</td>\n",
       "    </tr>\n",
       "    <tr>\n",
       "      <th>107</th>\n",
       "      <td>S569</td>\n",
       "      <td>10/7/2015</td>\n",
       "      <td>0</td>\n",
       "      <td>NB 35W from dwtn</td>\n",
       "      <td>44.99116</td>\n",
       "      <td>-93.23629</td>\n",
       "      <td>From</td>\n",
       "      <td>5</td>\n",
       "      <td>October Wed 2015</td>\n",
       "      <td>out</td>\n",
       "      <td>35W NB</td>\n",
       "      <td>S569(35W NB)</td>\n",
       "      <td>35W NB(S569)</td>\n",
       "      <td>35W NB,S569,out</td>\n",
       "    </tr>\n",
       "    <tr>\n",
       "      <th>108</th>\n",
       "      <td>S582</td>\n",
       "      <td>10/7/2015</td>\n",
       "      <td>0</td>\n",
       "      <td>SB 35W to dwtn</td>\n",
       "      <td>44.99115</td>\n",
       "      <td>-93.23659</td>\n",
       "      <td>To</td>\n",
       "      <td>5</td>\n",
       "      <td>October Wed 2015</td>\n",
       "      <td>in</td>\n",
       "      <td>35W SB</td>\n",
       "      <td>S582(35W SB)</td>\n",
       "      <td>35W SB(S582)</td>\n",
       "      <td>35W SB,S582,in</td>\n",
       "    </tr>\n",
       "    <tr>\n",
       "      <th>109</th>\n",
       "      <td>S64</td>\n",
       "      <td>10/7/2015</td>\n",
       "      <td>50902</td>\n",
       "      <td>NB 35W to dwtn</td>\n",
       "      <td>44.96239</td>\n",
       "      <td>-93.26959</td>\n",
       "      <td>To</td>\n",
       "      <td>2</td>\n",
       "      <td>October Wed 2015</td>\n",
       "      <td>in</td>\n",
       "      <td>35W NB</td>\n",
       "      <td>S64(35W NB)</td>\n",
       "      <td>35W NB(S64)</td>\n",
       "      <td>35W NB,S64,in</td>\n",
       "    </tr>\n",
       "    <tr>\n",
       "      <th>110</th>\n",
       "      <td>S125</td>\n",
       "      <td>10/1/2014</td>\n",
       "      <td>41962</td>\n",
       "      <td>WB 94 from dwtn</td>\n",
       "      <td>44.99888</td>\n",
       "      <td>-93.28266</td>\n",
       "      <td>From</td>\n",
       "      <td>1</td>\n",
       "      <td>October Wed 2014</td>\n",
       "      <td>out</td>\n",
       "      <td>94 WB</td>\n",
       "      <td>S125(94 WB)</td>\n",
       "      <td>94 WB(S125)</td>\n",
       "      <td>94 WB,S125,out</td>\n",
       "    </tr>\n",
       "    <tr>\n",
       "      <th>111</th>\n",
       "      <td>S137</td>\n",
       "      <td>10/1/2014</td>\n",
       "      <td>43865</td>\n",
       "      <td>EB 94 to dwtn</td>\n",
       "      <td>44.99898</td>\n",
       "      <td>-93.28297</td>\n",
       "      <td>To</td>\n",
       "      <td>1</td>\n",
       "      <td>October Wed 2014</td>\n",
       "      <td>in</td>\n",
       "      <td>94 EB</td>\n",
       "      <td>S137(94 EB)</td>\n",
       "      <td>94 EB(S137)</td>\n",
       "      <td>94 EB,S137,in</td>\n",
       "    </tr>\n",
       "    <tr>\n",
       "      <th>112</th>\n",
       "      <td>S2</td>\n",
       "      <td>10/1/2014</td>\n",
       "      <td>47217</td>\n",
       "      <td>SB 35W from dwtn</td>\n",
       "      <td>44.96259</td>\n",
       "      <td>-93.26997</td>\n",
       "      <td>From</td>\n",
       "      <td>2</td>\n",
       "      <td>October Wed 2014</td>\n",
       "      <td>out</td>\n",
       "      <td>35W SB</td>\n",
       "      <td>S2(35W SB)</td>\n",
       "      <td>35W SB(S2)</td>\n",
       "      <td>35W SB,S2,out</td>\n",
       "    </tr>\n",
       "    <tr>\n",
       "      <th>113</th>\n",
       "      <td>S285</td>\n",
       "      <td>10/1/2014</td>\n",
       "      <td>73063</td>\n",
       "      <td>WB 394 from dwtn</td>\n",
       "      <td>44.97002</td>\n",
       "      <td>-93.30761</td>\n",
       "      <td>From</td>\n",
       "      <td>3</td>\n",
       "      <td>October Wed 2014</td>\n",
       "      <td>out</td>\n",
       "      <td>394 WB</td>\n",
       "      <td>S285(394 WB)</td>\n",
       "      <td>394 WB(S285)</td>\n",
       "      <td>394 WB,S285,out</td>\n",
       "    </tr>\n",
       "    <tr>\n",
       "      <th>114</th>\n",
       "      <td>S286</td>\n",
       "      <td>10/1/2014</td>\n",
       "      <td>64398</td>\n",
       "      <td>EB 394 to dwtn</td>\n",
       "      <td>44.96977</td>\n",
       "      <td>-93.30786</td>\n",
       "      <td>To</td>\n",
       "      <td>3</td>\n",
       "      <td>October Wed 2014</td>\n",
       "      <td>in</td>\n",
       "      <td>394 EB</td>\n",
       "      <td>S286(394 EB)</td>\n",
       "      <td>394 EB(S286)</td>\n",
       "      <td>394 EB,S286,in</td>\n",
       "    </tr>\n",
       "    <tr>\n",
       "      <th>115</th>\n",
       "      <td>S553</td>\n",
       "      <td>10/1/2014</td>\n",
       "      <td>74646</td>\n",
       "      <td>WB 94 to dwtn</td>\n",
       "      <td>44.96436</td>\n",
       "      <td>-93.23804</td>\n",
       "      <td>To</td>\n",
       "      <td>4</td>\n",
       "      <td>October Wed 2014</td>\n",
       "      <td>in</td>\n",
       "      <td>94 WB</td>\n",
       "      <td>S553(94 WB)</td>\n",
       "      <td>94 WB(S553)</td>\n",
       "      <td>94 WB,S553,in</td>\n",
       "    </tr>\n",
       "    <tr>\n",
       "      <th>116</th>\n",
       "      <td>S554</td>\n",
       "      <td>10/1/2014</td>\n",
       "      <td>76355</td>\n",
       "      <td>EB 94 from dwtn</td>\n",
       "      <td>44.96422</td>\n",
       "      <td>-93.23944</td>\n",
       "      <td>From</td>\n",
       "      <td>4</td>\n",
       "      <td>October Wed 2014</td>\n",
       "      <td>out</td>\n",
       "      <td>94 EB</td>\n",
       "      <td>S554(94 EB)</td>\n",
       "      <td>94 EB(S554)</td>\n",
       "      <td>94 EB,S554,out</td>\n",
       "    </tr>\n",
       "    <tr>\n",
       "      <th>117</th>\n",
       "      <td>S569</td>\n",
       "      <td>10/1/2014</td>\n",
       "      <td>5</td>\n",
       "      <td>NB 35W from dwtn</td>\n",
       "      <td>44.99116</td>\n",
       "      <td>-93.23629</td>\n",
       "      <td>From</td>\n",
       "      <td>5</td>\n",
       "      <td>October Wed 2014</td>\n",
       "      <td>out</td>\n",
       "      <td>35W NB</td>\n",
       "      <td>S569(35W NB)</td>\n",
       "      <td>35W NB(S569)</td>\n",
       "      <td>35W NB,S569,out</td>\n",
       "    </tr>\n",
       "    <tr>\n",
       "      <th>118</th>\n",
       "      <td>S582</td>\n",
       "      <td>10/1/2014</td>\n",
       "      <td>48084</td>\n",
       "      <td>SB 35W to dwtn</td>\n",
       "      <td>44.99115</td>\n",
       "      <td>-93.23659</td>\n",
       "      <td>To</td>\n",
       "      <td>5</td>\n",
       "      <td>October Wed 2014</td>\n",
       "      <td>in</td>\n",
       "      <td>35W SB</td>\n",
       "      <td>S582(35W SB)</td>\n",
       "      <td>35W SB(S582)</td>\n",
       "      <td>35W SB,S582,in</td>\n",
       "    </tr>\n",
       "    <tr>\n",
       "      <th>119</th>\n",
       "      <td>S64</td>\n",
       "      <td>10/1/2014</td>\n",
       "      <td>46598</td>\n",
       "      <td>NB 35W to dwtn</td>\n",
       "      <td>44.96239</td>\n",
       "      <td>-93.26959</td>\n",
       "      <td>To</td>\n",
       "      <td>2</td>\n",
       "      <td>October Wed 2014</td>\n",
       "      <td>in</td>\n",
       "      <td>35W NB</td>\n",
       "      <td>S64(35W NB)</td>\n",
       "      <td>35W NB(S64)</td>\n",
       "      <td>35W NB,S64,in</td>\n",
       "    </tr>\n",
       "  </tbody>\n",
       "</table>\n",
       "<p>120 rows × 14 columns</p>\n",
       "</div>"
      ],
      "text/plain": [
       "    Sensor       Date  Volume          St Label       Lat       Lng Direction  \\\n",
       "0     S125  10/3/2018   27018   WB 94 from dwtn  44.99888 -93.28266      From   \n",
       "1     S137  10/3/2018   35116     EB 94 to dwtn  44.99898 -93.28297        To   \n",
       "2       S2  10/3/2018       0  SB 35W from dwtn  44.96259 -93.26997      From   \n",
       "3     S285  10/3/2018   74299  WB 394 from dwtn  44.97002 -93.30761      From   \n",
       "4     S286  10/3/2018   68473    EB 394 to dwtn  44.96977 -93.30786        To   \n",
       "5     S553  10/3/2018   62121     WB 94 to dwtn  44.96436 -93.23804        To   \n",
       "6     S554  10/3/2018   79477   EB 94 from dwtn  44.96422 -93.23944      From   \n",
       "7     S569  10/3/2018   63958  NB 35W from dwtn  44.99116 -93.23629      From   \n",
       "8     S582  10/3/2018   63701    SB 35W to dwtn  44.99115 -93.23659        To   \n",
       "9      S64  10/3/2018       0    NB 35W to dwtn  44.96239 -93.26959        To   \n",
       "10    S125   9/9/2018   20129   WB 94 from dwtn  44.99888 -93.28266      From   \n",
       "11    S137   9/9/2018   24578     EB 94 to dwtn  44.99898 -93.28297        To   \n",
       "12      S2   9/9/2018       0  SB 35W from dwtn  44.96259 -93.26997      From   \n",
       "13    S285   9/9/2018   48508  WB 394 from dwtn  44.97002 -93.30761      From   \n",
       "14    S286   9/9/2018   53102    EB 394 to dwtn  44.96977 -93.30786        To   \n",
       "15    S553   9/9/2018   52381     WB 94 to dwtn  44.96436 -93.23804        To   \n",
       "16    S554   9/9/2018   58174   EB 94 from dwtn  44.96422 -93.23944      From   \n",
       "17    S569   9/9/2018   46199  NB 35W from dwtn  44.99116 -93.23629      From   \n",
       "18    S582   9/9/2018   47704    SB 35W to dwtn  44.99115 -93.23659        To   \n",
       "19     S64   9/9/2018       0    NB 35W to dwtn  44.96239 -93.26959        To   \n",
       "20    S125   7/6/2018   25242   WB 94 from dwtn  44.99888 -93.28266      From   \n",
       "21    S137   7/6/2018   31014     EB 94 to dwtn  44.99898 -93.28297        To   \n",
       "22      S2   7/6/2018       0  SB 35W from dwtn  44.96259 -93.26997      From   \n",
       "23    S285   7/6/2018   62951  WB 394 from dwtn  44.97002 -93.30761      From   \n",
       "24    S286   7/6/2018   63321    EB 394 to dwtn  44.96977 -93.30786        To   \n",
       "25    S553   7/6/2018   65544     WB 94 to dwtn  44.96436 -93.23804        To   \n",
       "26    S554   7/6/2018   70789   EB 94 from dwtn  44.96422 -93.23944      From   \n",
       "27    S569   7/6/2018   61320  NB 35W from dwtn  44.99116 -93.23629      From   \n",
       "28    S582   7/6/2018   59476    SB 35W to dwtn  44.99115 -93.23659        To   \n",
       "29     S64   7/6/2018       0    NB 35W to dwtn  44.96239 -93.26959        To   \n",
       "..     ...        ...     ...               ...       ...       ...       ...   \n",
       "90    S125  8/19/2016   44617   WB 94 from dwtn  44.99888 -93.28266      From   \n",
       "91    S137  8/19/2016   46780     EB 94 to dwtn  44.99898 -93.28297        To   \n",
       "92      S2  8/19/2016   52966  SB 35W from dwtn  44.96259 -93.26997      From   \n",
       "93    S285  8/19/2016   69939  WB 394 from dwtn  44.97002 -93.30761      From   \n",
       "94    S286  8/19/2016   64944    EB 394 to dwtn  44.96977 -93.30786        To   \n",
       "95    S553  8/19/2016   79536     WB 94 to dwtn  44.96436 -93.23804        To   \n",
       "96    S554  8/19/2016   81195   EB 94 from dwtn  44.96422 -93.23944      From   \n",
       "97    S569  8/19/2016   73534  NB 35W from dwtn  44.99116 -93.23629      From   \n",
       "98    S582  8/19/2016   75769    SB 35W to dwtn  44.99115 -93.23659        To   \n",
       "99     S64  8/19/2016   52247    NB 35W to dwtn  44.96239 -93.26959        To   \n",
       "100   S125  10/7/2015   36472   WB 94 from dwtn  44.99888 -93.28266      From   \n",
       "101   S137  10/7/2015   45761     EB 94 to dwtn  44.99898 -93.28297        To   \n",
       "102     S2  10/7/2015   51682  SB 35W from dwtn  44.96259 -93.26997      From   \n",
       "103   S285  10/7/2015       0  WB 394 from dwtn  44.97002 -93.30761      From   \n",
       "104   S286  10/7/2015       0    EB 394 to dwtn  44.96977 -93.30786        To   \n",
       "105   S553  10/7/2015   73749     WB 94 to dwtn  44.96436 -93.23804        To   \n",
       "106   S554  10/7/2015   78710   EB 94 from dwtn  44.96422 -93.23944      From   \n",
       "107   S569  10/7/2015       0  NB 35W from dwtn  44.99116 -93.23629      From   \n",
       "108   S582  10/7/2015       0    SB 35W to dwtn  44.99115 -93.23659        To   \n",
       "109    S64  10/7/2015   50902    NB 35W to dwtn  44.96239 -93.26959        To   \n",
       "110   S125  10/1/2014   41962   WB 94 from dwtn  44.99888 -93.28266      From   \n",
       "111   S137  10/1/2014   43865     EB 94 to dwtn  44.99898 -93.28297        To   \n",
       "112     S2  10/1/2014   47217  SB 35W from dwtn  44.96259 -93.26997      From   \n",
       "113   S285  10/1/2014   73063  WB 394 from dwtn  44.97002 -93.30761      From   \n",
       "114   S286  10/1/2014   64398    EB 394 to dwtn  44.96977 -93.30786        To   \n",
       "115   S553  10/1/2014   74646     WB 94 to dwtn  44.96436 -93.23804        To   \n",
       "116   S554  10/1/2014   76355   EB 94 from dwtn  44.96422 -93.23944      From   \n",
       "117   S569  10/1/2014       5  NB 35W from dwtn  44.99116 -93.23629      From   \n",
       "118   S582  10/1/2014   48084    SB 35W to dwtn  44.99115 -93.23659        To   \n",
       "119    S64  10/1/2014   46598    NB 35W to dwtn  44.96239 -93.26959        To   \n",
       "\n",
       "     Freeway Tag                Event Label Direction(from/to)    road  \\\n",
       "0              1           October Wed 2018                out   94 WB   \n",
       "1              1           October Wed 2018                 in   94 EB   \n",
       "2              2           October Wed 2018                out  35W SB   \n",
       "3              3           October Wed 2018                out  394 WB   \n",
       "4              3           October Wed 2018                 in  394 EB   \n",
       "5              4           October Wed 2018                 in   94 WB   \n",
       "6              4           October Wed 2018                out   94 EB   \n",
       "7              5           October Wed 2018                out  35W NB   \n",
       "8              5           October Wed 2018                 in  35W SB   \n",
       "9              2           October Wed 2018                 in  35W NB   \n",
       "10             1             Vikings Opener                out   94 WB   \n",
       "11             1             Vikings Opener                 in   94 EB   \n",
       "12             2             Vikings Opener                out  35W SB   \n",
       "13             3             Vikings Opener                out  394 WB   \n",
       "14             3             Vikings Opener                 in  394 EB   \n",
       "15             4             Vikings Opener                 in   94 WB   \n",
       "16             4             Vikings Opener                out   94 EB   \n",
       "17             5             Vikings Opener                out  35W NB   \n",
       "18             5             Vikings Opener                 in  35W SB   \n",
       "19             2             Vikings Opener                 in  35W NB   \n",
       "20             1  Basilica Block Party 2018                out   94 WB   \n",
       "21             1  Basilica Block Party 2018                 in   94 EB   \n",
       "22             2  Basilica Block Party 2018                out  35W SB   \n",
       "23             3  Basilica Block Party 2018                out  394 WB   \n",
       "24             3  Basilica Block Party 2018                 in  394 EB   \n",
       "25             4  Basilica Block Party 2018                 in   94 WB   \n",
       "26             4  Basilica Block Party 2018                out   94 EB   \n",
       "27             5  Basilica Block Party 2018                out  35W NB   \n",
       "28             5  Basilica Block Party 2018                 in  35W SB   \n",
       "29             2  Basilica Block Party 2018                 in  35W NB   \n",
       "..           ...                        ...                ...     ...   \n",
       "90             1        US Bank 1st Concert                out   94 WB   \n",
       "91             1        US Bank 1st Concert                 in   94 EB   \n",
       "92             2        US Bank 1st Concert                out  35W SB   \n",
       "93             3        US Bank 1st Concert                out  394 WB   \n",
       "94             3        US Bank 1st Concert                 in  394 EB   \n",
       "95             4        US Bank 1st Concert                 in   94 WB   \n",
       "96             4        US Bank 1st Concert                out   94 EB   \n",
       "97             5        US Bank 1st Concert                out  35W NB   \n",
       "98             5        US Bank 1st Concert                 in  35W SB   \n",
       "99             2        US Bank 1st Concert                 in  35W NB   \n",
       "100            1           October Wed 2015                out   94 WB   \n",
       "101            1           October Wed 2015                 in   94 EB   \n",
       "102            2           October Wed 2015                out  35W SB   \n",
       "103            3           October Wed 2015                out  394 WB   \n",
       "104            3           October Wed 2015                 in  394 EB   \n",
       "105            4           October Wed 2015                 in   94 WB   \n",
       "106            4           October Wed 2015                out   94 EB   \n",
       "107            5           October Wed 2015                out  35W NB   \n",
       "108            5           October Wed 2015                 in  35W SB   \n",
       "109            2           October Wed 2015                 in  35W NB   \n",
       "110            1           October Wed 2014                out   94 WB   \n",
       "111            1           October Wed 2014                 in   94 EB   \n",
       "112            2           October Wed 2014                out  35W SB   \n",
       "113            3           October Wed 2014                out  394 WB   \n",
       "114            3           October Wed 2014                 in  394 EB   \n",
       "115            4           October Wed 2014                 in   94 WB   \n",
       "116            4           October Wed 2014                out   94 EB   \n",
       "117            5           October Wed 2014                out  35W NB   \n",
       "118            5           October Wed 2014                 in  35W SB   \n",
       "119            2           October Wed 2014                 in  35W NB   \n",
       "\n",
       "      sensor_name   name_sensor    sensor_fromto  \n",
       "0     S125(94 WB)   94 WB(S125)   94 WB,S125,out  \n",
       "1     S137(94 EB)   94 EB(S137)    94 EB,S137,in  \n",
       "2      S2(35W SB)    35W SB(S2)    35W SB,S2,out  \n",
       "3    S285(394 WB)  394 WB(S285)  394 WB,S285,out  \n",
       "4    S286(394 EB)  394 EB(S286)   394 EB,S286,in  \n",
       "5     S553(94 WB)   94 WB(S553)    94 WB,S553,in  \n",
       "6     S554(94 EB)   94 EB(S554)   94 EB,S554,out  \n",
       "7    S569(35W NB)  35W NB(S569)  35W NB,S569,out  \n",
       "8    S582(35W SB)  35W SB(S582)   35W SB,S582,in  \n",
       "9     S64(35W NB)   35W NB(S64)    35W NB,S64,in  \n",
       "10    S125(94 WB)   94 WB(S125)   94 WB,S125,out  \n",
       "11    S137(94 EB)   94 EB(S137)    94 EB,S137,in  \n",
       "12     S2(35W SB)    35W SB(S2)    35W SB,S2,out  \n",
       "13   S285(394 WB)  394 WB(S285)  394 WB,S285,out  \n",
       "14   S286(394 EB)  394 EB(S286)   394 EB,S286,in  \n",
       "15    S553(94 WB)   94 WB(S553)    94 WB,S553,in  \n",
       "16    S554(94 EB)   94 EB(S554)   94 EB,S554,out  \n",
       "17   S569(35W NB)  35W NB(S569)  35W NB,S569,out  \n",
       "18   S582(35W SB)  35W SB(S582)   35W SB,S582,in  \n",
       "19    S64(35W NB)   35W NB(S64)    35W NB,S64,in  \n",
       "20    S125(94 WB)   94 WB(S125)   94 WB,S125,out  \n",
       "21    S137(94 EB)   94 EB(S137)    94 EB,S137,in  \n",
       "22     S2(35W SB)    35W SB(S2)    35W SB,S2,out  \n",
       "23   S285(394 WB)  394 WB(S285)  394 WB,S285,out  \n",
       "24   S286(394 EB)  394 EB(S286)   394 EB,S286,in  \n",
       "25    S553(94 WB)   94 WB(S553)    94 WB,S553,in  \n",
       "26    S554(94 EB)   94 EB(S554)   94 EB,S554,out  \n",
       "27   S569(35W NB)  35W NB(S569)  35W NB,S569,out  \n",
       "28   S582(35W SB)  35W SB(S582)   35W SB,S582,in  \n",
       "29    S64(35W NB)   35W NB(S64)    35W NB,S64,in  \n",
       "..            ...           ...              ...  \n",
       "90    S125(94 WB)   94 WB(S125)   94 WB,S125,out  \n",
       "91    S137(94 EB)   94 EB(S137)    94 EB,S137,in  \n",
       "92     S2(35W SB)    35W SB(S2)    35W SB,S2,out  \n",
       "93   S285(394 WB)  394 WB(S285)  394 WB,S285,out  \n",
       "94   S286(394 EB)  394 EB(S286)   394 EB,S286,in  \n",
       "95    S553(94 WB)   94 WB(S553)    94 WB,S553,in  \n",
       "96    S554(94 EB)   94 EB(S554)   94 EB,S554,out  \n",
       "97   S569(35W NB)  35W NB(S569)  35W NB,S569,out  \n",
       "98   S582(35W SB)  35W SB(S582)   35W SB,S582,in  \n",
       "99    S64(35W NB)   35W NB(S64)    35W NB,S64,in  \n",
       "100   S125(94 WB)   94 WB(S125)   94 WB,S125,out  \n",
       "101   S137(94 EB)   94 EB(S137)    94 EB,S137,in  \n",
       "102    S2(35W SB)    35W SB(S2)    35W SB,S2,out  \n",
       "103  S285(394 WB)  394 WB(S285)  394 WB,S285,out  \n",
       "104  S286(394 EB)  394 EB(S286)   394 EB,S286,in  \n",
       "105   S553(94 WB)   94 WB(S553)    94 WB,S553,in  \n",
       "106   S554(94 EB)   94 EB(S554)   94 EB,S554,out  \n",
       "107  S569(35W NB)  35W NB(S569)  35W NB,S569,out  \n",
       "108  S582(35W SB)  35W SB(S582)   35W SB,S582,in  \n",
       "109   S64(35W NB)   35W NB(S64)    35W NB,S64,in  \n",
       "110   S125(94 WB)   94 WB(S125)   94 WB,S125,out  \n",
       "111   S137(94 EB)   94 EB(S137)    94 EB,S137,in  \n",
       "112    S2(35W SB)    35W SB(S2)    35W SB,S2,out  \n",
       "113  S285(394 WB)  394 WB(S285)  394 WB,S285,out  \n",
       "114  S286(394 EB)  394 EB(S286)   394 EB,S286,in  \n",
       "115   S553(94 WB)   94 WB(S553)    94 WB,S553,in  \n",
       "116   S554(94 EB)   94 EB(S554)   94 EB,S554,out  \n",
       "117  S569(35W NB)  35W NB(S569)  35W NB,S569,out  \n",
       "118  S582(35W SB)  35W SB(S582)   35W SB,S582,in  \n",
       "119   S64(35W NB)   35W NB(S64)    35W NB,S64,in  \n",
       "\n",
       "[120 rows x 14 columns]"
      ]
     },
     "execution_count": 64,
     "metadata": {},
     "output_type": "execute_result"
    }
   ],
   "source": [
    "EE_df\n"
   ]
  },
  {
   "cell_type": "code",
   "execution_count": null,
   "metadata": {
    "scrolled": true
   },
   "outputs": [],
   "source": []
  }
 ],
 "metadata": {
  "kernelspec": {
   "display_name": "Python [conda env:PythonData]",
   "language": "python",
   "name": "conda-env-PythonData-py"
  },
  "language_info": {
   "codemirror_mode": {
    "name": "ipython",
    "version": 3
   },
   "file_extension": ".py",
   "mimetype": "text/x-python",
   "name": "python",
   "nbconvert_exporter": "python",
   "pygments_lexer": "ipython3",
   "version": "3.6.5"
  },
  "widgets": {
   "application/vnd.jupyter.widget-state+json": {
    "state": {
     "001c2b633c204b458fee399fe17cd8c6": {
      "model_module": "@jupyter-widgets/base",
      "model_module_version": "1.0.0",
      "model_name": "LayoutModel",
      "state": {}
     },
     "009906d78e4c4bc5ac5175d2a440f941": {
      "model_module": "@jupyter-widgets/base",
      "model_module_version": "1.0.0",
      "model_name": "LayoutModel",
      "state": {}
     },
     "030a98b073ae4d00902715bfd07e0094": {
      "model_module": "@jupyter-widgets/controls",
      "model_module_version": "1.2.0",
      "model_name": "VBoxModel",
      "state": {
       "children": [
        "IPY_MODEL_2f60421041144b999b6d02de5b5b3cee",
        "IPY_MODEL_0cc4ff681845413faa2142509ad59b96"
       ],
       "layout": "IPY_MODEL_0b58167ca8d742b491316cce10ab2a52"
      }
     },
     "03e58441e699490cb084d2bdee072b31": {
      "model_module": "@jupyter-widgets/output",
      "model_module_version": "1.0.0",
      "model_name": "OutputModel",
      "state": {
       "layout": "IPY_MODEL_d8c8674949804e358c76b18c16690319",
       "outputs": [
        {
         "ename": "TypeError",
         "evalue": "cannot convert dictionary update sequence element #0 to a sequence",
         "output_type": "error",
         "traceback": [
          "\u001b[0;31m---------------------------------------------------------------------------\u001b[0m",
          "\u001b[0;31mTypeError\u001b[0m                                 Traceback (most recent call last)",
          "\u001b[0;32m~/anaconda3/envs/PythonData/lib/python3.6/site-packages/ipywidgets/widgets/interaction.py\u001b[0m in \u001b[0;36mobserver\u001b[0;34m(change)\u001b[0m\n\u001b[1;32m     72\u001b[0m         \u001b[0;32mwith\u001b[0m \u001b[0mout\u001b[0m\u001b[0;34m:\u001b[0m\u001b[0;34m\u001b[0m\u001b[0m\n\u001b[1;32m     73\u001b[0m             \u001b[0mclear_output\u001b[0m\u001b[0;34m(\u001b[0m\u001b[0mwait\u001b[0m\u001b[0;34m=\u001b[0m\u001b[0;32mTrue\u001b[0m\u001b[0;34m)\u001b[0m\u001b[0;34m\u001b[0m\u001b[0m\n\u001b[0;32m---> 74\u001b[0;31m             \u001b[0mf\u001b[0m\u001b[0;34m(\u001b[0m\u001b[0;34m**\u001b[0m\u001b[0mkwargs\u001b[0m\u001b[0;34m)\u001b[0m\u001b[0;34m\u001b[0m\u001b[0m\n\u001b[0m\u001b[1;32m     75\u001b[0m             \u001b[0mshow_inline_matplotlib_plots\u001b[0m\u001b[0;34m(\u001b[0m\u001b[0;34m)\u001b[0m\u001b[0;34m\u001b[0m\u001b[0m\n\u001b[1;32m     76\u001b[0m     \u001b[0;32mfor\u001b[0m \u001b[0mk\u001b[0m\u001b[0;34m,\u001b[0m\u001b[0mw\u001b[0m \u001b[0;32min\u001b[0m \u001b[0mcontrols\u001b[0m\u001b[0;34m.\u001b[0m\u001b[0mitems\u001b[0m\u001b[0;34m(\u001b[0m\u001b[0;34m)\u001b[0m\u001b[0;34m:\u001b[0m\u001b[0;34m\u001b[0m\u001b[0m\n",
          "\u001b[0;32m<ipython-input-58-988498bf8306>\u001b[0m in \u001b[0;36mplot_flow_event\u001b[0;34m(b)\u001b[0m\n\u001b[1;32m     35\u001b[0m \u001b[0;31m#     fig, ax = plt.subplots(figsize=(15,5))\u001b[0m\u001b[0;34m\u001b[0m\u001b[0;34m\u001b[0m\u001b[0m\n\u001b[1;32m     36\u001b[0m \u001b[0;31m#     ax.bar(aa[\"Sensor\"],aa[\"Volume\"])\u001b[0m\u001b[0;34m\u001b[0m\u001b[0;34m\u001b[0m\u001b[0m\n\u001b[0;32m---> 37\u001b[0;31m     \u001b[0max\u001b[0m\u001b[0;34m.\u001b[0m\u001b[0mset_xticklabels\u001b[0m\u001b[0;34m(\u001b[0m\u001b[0mindex\u001b[0m\u001b[0;34m,\u001b[0m\u001b[0mindex\u001b[0m\u001b[0;34m,\u001b[0m\u001b[0mrotation\u001b[0m\u001b[0;34m=\u001b[0m\u001b[0;36m45\u001b[0m\u001b[0;34m,\u001b[0m\u001b[0mha\u001b[0m\u001b[0;34m=\u001b[0m\u001b[0;34m\"right\"\u001b[0m\u001b[0;34m)\u001b[0m\u001b[0;34m\u001b[0m\u001b[0m\n\u001b[0m\u001b[1;32m     38\u001b[0m     \u001b[0;31m#ax.set_xticklabels(index+bar_width,aa[\"sensor_fromto\"],rotation=45,ha=\"right\")\u001b[0m\u001b[0;34m\u001b[0m\u001b[0;34m\u001b[0m\u001b[0m\n\u001b[1;32m     39\u001b[0m     \u001b[0max\u001b[0m\u001b[0;34m.\u001b[0m\u001b[0mset_ylabel\u001b[0m\u001b[0;34m(\u001b[0m\u001b[0;34m\"vehicle flow\"\u001b[0m\u001b[0;34m)\u001b[0m\u001b[0;34m\u001b[0m\u001b[0m\n",
          "\u001b[0;32m~/anaconda3/envs/PythonData/lib/python3.6/site-packages/matplotlib/axes/_base.py\u001b[0m in \u001b[0;36mset_xticklabels\u001b[0;34m(self, labels, fontdict, minor, **kwargs)\u001b[0m\n\u001b[1;32m   3312\u001b[0m         \"\"\"\n\u001b[1;32m   3313\u001b[0m         \u001b[0;32mif\u001b[0m \u001b[0mfontdict\u001b[0m \u001b[0;32mis\u001b[0m \u001b[0;32mnot\u001b[0m \u001b[0;32mNone\u001b[0m\u001b[0;34m:\u001b[0m\u001b[0;34m\u001b[0m\u001b[0m\n\u001b[0;32m-> 3314\u001b[0;31m             \u001b[0mkwargs\u001b[0m\u001b[0;34m.\u001b[0m\u001b[0mupdate\u001b[0m\u001b[0;34m(\u001b[0m\u001b[0mfontdict\u001b[0m\u001b[0;34m)\u001b[0m\u001b[0;34m\u001b[0m\u001b[0m\n\u001b[0m\u001b[1;32m   3315\u001b[0m         ret = self.xaxis.set_ticklabels(labels,\n\u001b[1;32m   3316\u001b[0m                                         minor=minor, **kwargs)\n",
          "\u001b[0;31mTypeError\u001b[0m: cannot convert dictionary update sequence element #0 to a sequence"
         ]
        }
       ]
      }
     },
     "04867a77d82443f39eeef8351f082c8a": {
      "model_module": "@jupyter-widgets/base",
      "model_module_version": "1.0.0",
      "model_name": "LayoutModel",
      "state": {}
     },
     "05b2d6d858eb4765a46d241b7d24306b": {
      "model_module": "@jupyter-widgets/controls",
      "model_module_version": "1.2.0",
      "model_name": "VBoxModel",
      "state": {
       "children": [
        "IPY_MODEL_c02dfa97de8844a5915b351c50bdb3b6",
        "IPY_MODEL_7dfb39367bf54a3faea5e0e57b41157a"
       ],
       "layout": "IPY_MODEL_ccac213a9d4d49c587391635b904ee04"
      }
     },
     "067bf10d6173401398bce09bcfd5a587": {
      "model_module": "@jupyter-widgets/base",
      "model_module_version": "1.0.0",
      "model_name": "LayoutModel",
      "state": {}
     },
     "07a76508b35341868683c92a9fe38ea6": {
      "model_module": "@jupyter-widgets/output",
      "model_module_version": "1.0.0",
      "model_name": "OutputModel",
      "state": {
       "layout": "IPY_MODEL_855e5d5fc7cc4ed2ac1ab12ed5265239",
       "outputs": [
        {
         "ename": "ValueError",
         "evalue": "dictionary update sequence element #0 has length 11; 2 is required",
         "output_type": "error",
         "traceback": [
          "\u001b[0;31m---------------------------------------------------------------------------\u001b[0m",
          "\u001b[0;31mValueError\u001b[0m                                Traceback (most recent call last)",
          "\u001b[0;32m~/anaconda3/envs/PythonData/lib/python3.6/site-packages/ipywidgets/widgets/interaction.py\u001b[0m in \u001b[0;36mobserver\u001b[0;34m(change)\u001b[0m\n\u001b[1;32m     72\u001b[0m         \u001b[0;32mwith\u001b[0m \u001b[0mout\u001b[0m\u001b[0;34m:\u001b[0m\u001b[0;34m\u001b[0m\u001b[0m\n\u001b[1;32m     73\u001b[0m             \u001b[0mclear_output\u001b[0m\u001b[0;34m(\u001b[0m\u001b[0mwait\u001b[0m\u001b[0;34m=\u001b[0m\u001b[0;32mTrue\u001b[0m\u001b[0;34m)\u001b[0m\u001b[0;34m\u001b[0m\u001b[0m\n\u001b[0;32m---> 74\u001b[0;31m             \u001b[0mf\u001b[0m\u001b[0;34m(\u001b[0m\u001b[0;34m**\u001b[0m\u001b[0mkwargs\u001b[0m\u001b[0;34m)\u001b[0m\u001b[0;34m\u001b[0m\u001b[0m\n\u001b[0m\u001b[1;32m     75\u001b[0m             \u001b[0mshow_inline_matplotlib_plots\u001b[0m\u001b[0;34m(\u001b[0m\u001b[0;34m)\u001b[0m\u001b[0;34m\u001b[0m\u001b[0m\n\u001b[1;32m     76\u001b[0m     \u001b[0;32mfor\u001b[0m \u001b[0mk\u001b[0m\u001b[0;34m,\u001b[0m\u001b[0mw\u001b[0m \u001b[0;32min\u001b[0m \u001b[0mcontrols\u001b[0m\u001b[0;34m.\u001b[0m\u001b[0mitems\u001b[0m\u001b[0;34m(\u001b[0m\u001b[0;34m)\u001b[0m\u001b[0;34m:\u001b[0m\u001b[0;34m\u001b[0m\u001b[0m\n",
          "\u001b[0;32m<ipython-input-55-49d4892374ca>\u001b[0m in \u001b[0;36mplot_flow_event\u001b[0;34m(b)\u001b[0m\n\u001b[1;32m     35\u001b[0m \u001b[0;31m#     fig, ax = plt.subplots(figsize=(15,5))\u001b[0m\u001b[0;34m\u001b[0m\u001b[0;34m\u001b[0m\u001b[0m\n\u001b[1;32m     36\u001b[0m \u001b[0;31m#     ax.bar(aa[\"Sensor\"],aa[\"Volume\"])\u001b[0m\u001b[0;34m\u001b[0m\u001b[0;34m\u001b[0m\u001b[0m\n\u001b[0;32m---> 37\u001b[0;31m     \u001b[0max\u001b[0m\u001b[0;34m.\u001b[0m\u001b[0mset_xticklabels\u001b[0m\u001b[0;34m(\u001b[0m\u001b[0mindex\u001b[0m\u001b[0;34m,\u001b[0m\u001b[0msensors_in\u001b[0m\u001b[0;34m.\u001b[0m\u001b[0mvalues\u001b[0m\u001b[0;34m,\u001b[0m\u001b[0mrotation\u001b[0m\u001b[0;34m=\u001b[0m\u001b[0;36m45\u001b[0m\u001b[0;34m,\u001b[0m\u001b[0mha\u001b[0m\u001b[0;34m=\u001b[0m\u001b[0;34m\"right\"\u001b[0m\u001b[0;34m)\u001b[0m\u001b[0;34m\u001b[0m\u001b[0m\n\u001b[0m\u001b[1;32m     38\u001b[0m     \u001b[0;31m#ax.set_xticklabels(index+bar_width,aa[\"sensor_fromto\"],rotation=45,ha=\"right\")\u001b[0m\u001b[0;34m\u001b[0m\u001b[0;34m\u001b[0m\u001b[0m\n\u001b[1;32m     39\u001b[0m     \u001b[0max\u001b[0m\u001b[0;34m.\u001b[0m\u001b[0mset_ylabel\u001b[0m\u001b[0;34m(\u001b[0m\u001b[0;34m\"vehicle flow\"\u001b[0m\u001b[0;34m)\u001b[0m\u001b[0;34m\u001b[0m\u001b[0m\n",
          "\u001b[0;32m~/anaconda3/envs/PythonData/lib/python3.6/site-packages/matplotlib/axes/_base.py\u001b[0m in \u001b[0;36mset_xticklabels\u001b[0;34m(self, labels, fontdict, minor, **kwargs)\u001b[0m\n\u001b[1;32m   3312\u001b[0m         \"\"\"\n\u001b[1;32m   3313\u001b[0m         \u001b[0;32mif\u001b[0m \u001b[0mfontdict\u001b[0m \u001b[0;32mis\u001b[0m \u001b[0;32mnot\u001b[0m \u001b[0;32mNone\u001b[0m\u001b[0;34m:\u001b[0m\u001b[0;34m\u001b[0m\u001b[0m\n\u001b[0;32m-> 3314\u001b[0;31m             \u001b[0mkwargs\u001b[0m\u001b[0;34m.\u001b[0m\u001b[0mupdate\u001b[0m\u001b[0;34m(\u001b[0m\u001b[0mfontdict\u001b[0m\u001b[0;34m)\u001b[0m\u001b[0;34m\u001b[0m\u001b[0m\n\u001b[0m\u001b[1;32m   3315\u001b[0m         ret = self.xaxis.set_ticklabels(labels,\n\u001b[1;32m   3316\u001b[0m                                         minor=minor, **kwargs)\n",
          "\u001b[0;31mValueError\u001b[0m: dictionary update sequence element #0 has length 11; 2 is required"
         ]
        }
       ]
      }
     },
     "0b58167ca8d742b491316cce10ab2a52": {
      "model_module": "@jupyter-widgets/base",
      "model_module_version": "1.0.0",
      "model_name": "LayoutModel",
      "state": {}
     },
     "0ba3528dcee64b538ba8a4ae42d51435": {
      "model_module": "@jupyter-widgets/output",
      "model_module_version": "1.0.0",
      "model_name": "OutputModel",
      "state": {
       "layout": "IPY_MODEL_7bb618b99de04323986f93e12c622843",
       "outputs": [
        {
         "name": "stdout",
         "output_type": "stream",
         "text": "[0 1 2 3 4]\n['35W NB(S64)' '35W SB(S582)' '394 EB(S286)' '94 WB(S553)' '94 EB(S137)']\n"
        },
        {
         "data": {
          "image/png": "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\n",
          "text/plain": "<Figure size 1080x360 with 1 Axes>"
         },
         "metadata": {},
         "output_type": "display_data"
        }
       ]
      }
     },
     "0cc4ff681845413faa2142509ad59b96": {
      "model_module": "@jupyter-widgets/output",
      "model_module_version": "1.0.0",
      "model_name": "OutputModel",
      "state": {
       "layout": "IPY_MODEL_92692414dd8e4310b58a6de932507689",
       "outputs": [
        {
         "data": {
          "image/png": "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\n",
          "text/plain": "<Figure size 1080x360 with 1 Axes>"
         },
         "metadata": {},
         "output_type": "display_data"
        }
       ]
      }
     },
     "0e942995b1ee41ceb596789579755f8d": {
      "model_module": "@jupyter-widgets/controls",
      "model_module_version": "1.2.0",
      "model_name": "DescriptionStyleModel",
      "state": {
       "description_width": ""
      }
     },
     "0f0cc0fb6efd45358e514193191875dc": {
      "model_module": "@jupyter-widgets/controls",
      "model_module_version": "1.2.0",
      "model_name": "DescriptionStyleModel",
      "state": {
       "description_width": ""
      }
     },
     "0f6e6fcdbfb04c89baf9f771c2da7917": {
      "model_module": "@jupyter-widgets/controls",
      "model_module_version": "1.2.0",
      "model_name": "DescriptionStyleModel",
      "state": {
       "description_width": ""
      }
     },
     "1472556353c84fb9b5181cb1e78f7de8": {
      "model_module": "@jupyter-widgets/controls",
      "model_module_version": "1.2.0",
      "model_name": "VBoxModel",
      "state": {
       "children": [
        "IPY_MODEL_3870b324193e4e4c948c3eac36495001",
        "IPY_MODEL_68d2516fa2134f31858aabefc16daeed"
       ],
       "layout": "IPY_MODEL_576e7979fcea44f088afad7214239b21"
      }
     },
     "14e1d8e7420047079bb15989802d1c1e": {
      "model_module": "@jupyter-widgets/controls",
      "model_module_version": "1.2.0",
      "model_name": "DropdownModel",
      "state": {
       "_options_labels": [
        "October Wed 2018",
        "Vikings Opener",
        "Basilica Block Party 2018",
        "2018 Twins Opener",
        "Super Bowl",
        "Vikings & New Years Eve",
        "Packers at Vikings",
        "October Wed 2017",
        "October Wed 2016",
        "US Bank 1st Concert",
        "October Wed 2015",
        "October Wed 2014"
       ],
       "description": "event",
       "index": 5,
       "layout": "IPY_MODEL_3e1a9d3fb7d2410ebff4e943d2e0db42",
       "style": "IPY_MODEL_83250e5b964f434b8a02465dc71752ec"
      }
     },
     "150449f805ec415ab8005f1b576a51f6": {
      "model_module": "@jupyter-widgets/controls",
      "model_module_version": "1.2.0",
      "model_name": "VBoxModel",
      "state": {
       "children": [
        "IPY_MODEL_2bcce4d148a0455ea4f9eeb4b3f82cee",
        "IPY_MODEL_a5984447e30f46a2b964ebd36155a9c5"
       ],
       "layout": "IPY_MODEL_a03c0d9325e142da899922d0ce4081e7"
      }
     },
     "1611ef3589b44256b928fe92c5b0ab63": {
      "model_module": "@jupyter-widgets/base",
      "model_module_version": "1.0.0",
      "model_name": "LayoutModel",
      "state": {}
     },
     "18e0339a5e404a189191e807c137c0b0": {
      "model_module": "@jupyter-widgets/controls",
      "model_module_version": "1.2.0",
      "model_name": "DropdownModel",
      "state": {
       "_options_labels": [
        "October Wed 2018",
        "Vikings Opener",
        "Basilica Block Party 2018",
        "2018 Twins Opener",
        "Super Bowl",
        "Vikings & New Years Eve",
        "Packers at Vikings",
        "October Wed 2017",
        "October Wed 2016",
        "US Bank 1st Concert",
        "October Wed 2015",
        "October Wed 2014"
       ],
       "description": "event",
       "index": 0,
       "layout": "IPY_MODEL_af23cfbd6acc429eb2ead11ebdedb4a5",
       "style": "IPY_MODEL_0f0cc0fb6efd45358e514193191875dc"
      }
     },
     "1a0e204f5c154964927dc452a7aad2e3": {
      "model_module": "@jupyter-widgets/controls",
      "model_module_version": "1.2.0",
      "model_name": "DescriptionStyleModel",
      "state": {
       "description_width": ""
      }
     },
     "1c8bae359bfe4ea78399c6081ca2d44b": {
      "model_module": "@jupyter-widgets/base",
      "model_module_version": "1.0.0",
      "model_name": "LayoutModel",
      "state": {}
     },
     "1d89d17cc24940b5828091bf1062ef62": {
      "model_module": "@jupyter-widgets/base",
      "model_module_version": "1.0.0",
      "model_name": "LayoutModel",
      "state": {}
     },
     "20ac619a2cce4b33ae7dbf14779559fe": {
      "model_module": "@jupyter-widgets/base",
      "model_module_version": "1.0.0",
      "model_name": "LayoutModel",
      "state": {}
     },
     "210f8b6776f24e5daf6084c1db6be25b": {
      "model_module": "@jupyter-widgets/base",
      "model_module_version": "1.0.0",
      "model_name": "LayoutModel",
      "state": {}
     },
     "21516eb458fe4671bb215d141923c188": {
      "model_module": "@jupyter-widgets/controls",
      "model_module_version": "1.2.0",
      "model_name": "VBoxModel",
      "state": {
       "children": [
        "IPY_MODEL_dae9494cc3aa43fc9938ef5d0b0f1421",
        "IPY_MODEL_cb2d8d23877e493e80580a01f09cbb01"
       ],
       "layout": "IPY_MODEL_da62d5378a104ef5ac2aae8fbd392424"
      }
     },
     "263b0043603849b7a71234170aedbd07": {
      "model_module": "@jupyter-widgets/output",
      "model_module_version": "1.0.0",
      "model_name": "OutputModel",
      "state": {
       "layout": "IPY_MODEL_ebe32658a7b442f8ac39ecc26908950d",
       "outputs": [
        {
         "data": {
          "image/png": "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\n",
          "text/plain": "<Figure size 1080x360 with 1 Axes>"
         },
         "metadata": {},
         "output_type": "display_data"
        }
       ]
      }
     },
     "26b48b14ddb94f55b2a3ffea88533e6f": {
      "model_module": "@jupyter-widgets/controls",
      "model_module_version": "1.2.0",
      "model_name": "VBoxModel",
      "state": {
       "children": [
        "IPY_MODEL_ddec814ac2164fc2ada7812b419990c1",
        "IPY_MODEL_34d2a873060c477aae612b0e46222c15"
       ],
       "layout": "IPY_MODEL_fd1642db33104011aca9ae40f94012b8"
      }
     },
     "2b3a1481cc684521b0a2a5c61417e6df": {
      "model_module": "@jupyter-widgets/output",
      "model_module_version": "1.0.0",
      "model_name": "OutputModel",
      "state": {
       "layout": "IPY_MODEL_ad559bbbe9c04d319fc8f9a86b524a58",
       "outputs": [
        {
         "ename": "AttributeError",
         "evalue": "Unknown property s64",
         "output_type": "error",
         "traceback": [
          "\u001b[0;31m---------------------------------------------------------------------------\u001b[0m",
          "\u001b[0;31mAttributeError\u001b[0m                            Traceback (most recent call last)",
          "\u001b[0;32m~/anaconda3/envs/PythonData/lib/python3.6/site-packages/ipywidgets/widgets/interaction.py\u001b[0m in \u001b[0;36mobserver\u001b[0;34m(change)\u001b[0m\n\u001b[1;32m     72\u001b[0m         \u001b[0;32mwith\u001b[0m \u001b[0mout\u001b[0m\u001b[0;34m:\u001b[0m\u001b[0;34m\u001b[0m\u001b[0m\n\u001b[1;32m     73\u001b[0m             \u001b[0mclear_output\u001b[0m\u001b[0;34m(\u001b[0m\u001b[0mwait\u001b[0m\u001b[0;34m=\u001b[0m\u001b[0;32mTrue\u001b[0m\u001b[0;34m)\u001b[0m\u001b[0;34m\u001b[0m\u001b[0m\n\u001b[0;32m---> 74\u001b[0;31m             \u001b[0mf\u001b[0m\u001b[0;34m(\u001b[0m\u001b[0;34m**\u001b[0m\u001b[0mkwargs\u001b[0m\u001b[0;34m)\u001b[0m\u001b[0;34m\u001b[0m\u001b[0m\n\u001b[0m\u001b[1;32m     75\u001b[0m             \u001b[0mshow_inline_matplotlib_plots\u001b[0m\u001b[0;34m(\u001b[0m\u001b[0;34m)\u001b[0m\u001b[0;34m\u001b[0m\u001b[0m\n\u001b[1;32m     76\u001b[0m     \u001b[0;32mfor\u001b[0m \u001b[0mk\u001b[0m\u001b[0;34m,\u001b[0m\u001b[0mw\u001b[0m \u001b[0;32min\u001b[0m \u001b[0mcontrols\u001b[0m\u001b[0;34m.\u001b[0m\u001b[0mitems\u001b[0m\u001b[0;34m(\u001b[0m\u001b[0;34m)\u001b[0m\u001b[0;34m:\u001b[0m\u001b[0;34m\u001b[0m\u001b[0m\n",
          "\u001b[0;32m<ipython-input-53-d29c5e44fa57>\u001b[0m in \u001b[0;36mplot_flow_event\u001b[0;34m(b)\u001b[0m\n\u001b[1;32m     35\u001b[0m \u001b[0;31m#     fig, ax = plt.subplots(figsize=(15,5))\u001b[0m\u001b[0;34m\u001b[0m\u001b[0;34m\u001b[0m\u001b[0m\n\u001b[1;32m     36\u001b[0m \u001b[0;31m#     ax.bar(aa[\"Sensor\"],aa[\"Volume\"])\u001b[0m\u001b[0;34m\u001b[0m\u001b[0;34m\u001b[0m\u001b[0m\n\u001b[0;32m---> 37\u001b[0;31m     \u001b[0max\u001b[0m\u001b[0;34m.\u001b[0m\u001b[0mset_xticklabels\u001b[0m\u001b[0;34m(\u001b[0m\u001b[0mindex\u001b[0m\u001b[0;34m,\u001b[0m\u001b[0msensors_in\u001b[0m\u001b[0;34m,\u001b[0m\u001b[0mrotation\u001b[0m\u001b[0;34m=\u001b[0m\u001b[0;36m45\u001b[0m\u001b[0;34m,\u001b[0m\u001b[0mha\u001b[0m\u001b[0;34m=\u001b[0m\u001b[0;34m\"right\"\u001b[0m\u001b[0;34m)\u001b[0m\u001b[0;34m\u001b[0m\u001b[0m\n\u001b[0m\u001b[1;32m     38\u001b[0m     \u001b[0;31m#ax.set_xticklabels(index+bar_width,aa[\"sensor_fromto\"],rotation=45,ha=\"right\")\u001b[0m\u001b[0;34m\u001b[0m\u001b[0;34m\u001b[0m\u001b[0m\n\u001b[1;32m     39\u001b[0m     \u001b[0max\u001b[0m\u001b[0;34m.\u001b[0m\u001b[0mset_ylabel\u001b[0m\u001b[0;34m(\u001b[0m\u001b[0;34m\"vehicle flow\"\u001b[0m\u001b[0;34m)\u001b[0m\u001b[0;34m\u001b[0m\u001b[0m\n",
          "\u001b[0;32m~/anaconda3/envs/PythonData/lib/python3.6/site-packages/matplotlib/axes/_base.py\u001b[0m in \u001b[0;36mset_xticklabels\u001b[0;34m(self, labels, fontdict, minor, **kwargs)\u001b[0m\n\u001b[1;32m   3314\u001b[0m             \u001b[0mkwargs\u001b[0m\u001b[0;34m.\u001b[0m\u001b[0mupdate\u001b[0m\u001b[0;34m(\u001b[0m\u001b[0mfontdict\u001b[0m\u001b[0;34m)\u001b[0m\u001b[0;34m\u001b[0m\u001b[0m\n\u001b[1;32m   3315\u001b[0m         ret = self.xaxis.set_ticklabels(labels,\n\u001b[0;32m-> 3316\u001b[0;31m                                         minor=minor, **kwargs)\n\u001b[0m\u001b[1;32m   3317\u001b[0m         \u001b[0mself\u001b[0m\u001b[0;34m.\u001b[0m\u001b[0mstale\u001b[0m \u001b[0;34m=\u001b[0m \u001b[0;32mTrue\u001b[0m\u001b[0;34m\u001b[0m\u001b[0m\n\u001b[1;32m   3318\u001b[0m         \u001b[0;32mreturn\u001b[0m \u001b[0mret\u001b[0m\u001b[0;34m\u001b[0m\u001b[0m\n",
          "\u001b[0;32m~/anaconda3/envs/PythonData/lib/python3.6/site-packages/matplotlib/axis.py\u001b[0m in \u001b[0;36mset_ticklabels\u001b[0;34m(self, ticklabels, minor, *args, **kwargs)\u001b[0m\n\u001b[1;32m   1682\u001b[0m             \u001b[0;31m# deal with label1\u001b[0m\u001b[0;34m\u001b[0m\u001b[0;34m\u001b[0m\u001b[0m\n\u001b[1;32m   1683\u001b[0m             \u001b[0mtick\u001b[0m\u001b[0;34m.\u001b[0m\u001b[0mlabel1\u001b[0m\u001b[0;34m.\u001b[0m\u001b[0mset_text\u001b[0m\u001b[0;34m(\u001b[0m\u001b[0mtick_label\u001b[0m\u001b[0;34m)\u001b[0m\u001b[0;34m\u001b[0m\u001b[0m\n\u001b[0;32m-> 1684\u001b[0;31m             \u001b[0mtick\u001b[0m\u001b[0;34m.\u001b[0m\u001b[0mlabel1\u001b[0m\u001b[0;34m.\u001b[0m\u001b[0mupdate\u001b[0m\u001b[0;34m(\u001b[0m\u001b[0mkwargs\u001b[0m\u001b[0;34m)\u001b[0m\u001b[0;34m\u001b[0m\u001b[0m\n\u001b[0m\u001b[1;32m   1685\u001b[0m             \u001b[0;31m# deal with label2\u001b[0m\u001b[0;34m\u001b[0m\u001b[0;34m\u001b[0m\u001b[0m\n\u001b[1;32m   1686\u001b[0m             \u001b[0mtick\u001b[0m\u001b[0;34m.\u001b[0m\u001b[0mlabel2\u001b[0m\u001b[0;34m.\u001b[0m\u001b[0mset_text\u001b[0m\u001b[0;34m(\u001b[0m\u001b[0mtick_label\u001b[0m\u001b[0;34m)\u001b[0m\u001b[0;34m\u001b[0m\u001b[0m\n",
          "\u001b[0;32m~/anaconda3/envs/PythonData/lib/python3.6/site-packages/matplotlib/text.py\u001b[0m in \u001b[0;36mupdate\u001b[0;34m(self, kwargs)\u001b[0m\n\u001b[1;32m    185\u001b[0m         \u001b[0msentinel\u001b[0m \u001b[0;34m=\u001b[0m \u001b[0mobject\u001b[0m\u001b[0;34m(\u001b[0m\u001b[0;34m)\u001b[0m  \u001b[0;31m# bbox can be None, so use another sentinel.\u001b[0m\u001b[0;34m\u001b[0m\u001b[0m\n\u001b[1;32m    186\u001b[0m         \u001b[0mbbox\u001b[0m \u001b[0;34m=\u001b[0m \u001b[0mkwargs\u001b[0m\u001b[0;34m.\u001b[0m\u001b[0mpop\u001b[0m\u001b[0;34m(\u001b[0m\u001b[0;34m\"bbox\"\u001b[0m\u001b[0;34m,\u001b[0m \u001b[0msentinel\u001b[0m\u001b[0;34m)\u001b[0m\u001b[0;34m\u001b[0m\u001b[0m\n\u001b[0;32m--> 187\u001b[0;31m         \u001b[0msuper\u001b[0m\u001b[0;34m(\u001b[0m\u001b[0;34m)\u001b[0m\u001b[0;34m.\u001b[0m\u001b[0mupdate\u001b[0m\u001b[0;34m(\u001b[0m\u001b[0mkwargs\u001b[0m\u001b[0;34m)\u001b[0m\u001b[0;34m\u001b[0m\u001b[0m\n\u001b[0m\u001b[1;32m    188\u001b[0m         \u001b[0;32mif\u001b[0m \u001b[0mbbox\u001b[0m \u001b[0;32mis\u001b[0m \u001b[0;32mnot\u001b[0m \u001b[0msentinel\u001b[0m\u001b[0;34m:\u001b[0m\u001b[0;34m\u001b[0m\u001b[0m\n\u001b[1;32m    189\u001b[0m             \u001b[0mself\u001b[0m\u001b[0;34m.\u001b[0m\u001b[0mset_bbox\u001b[0m\u001b[0;34m(\u001b[0m\u001b[0mbbox\u001b[0m\u001b[0;34m)\u001b[0m\u001b[0;34m\u001b[0m\u001b[0m\n",
          "\u001b[0;32m~/anaconda3/envs/PythonData/lib/python3.6/site-packages/matplotlib/artist.py\u001b[0m in \u001b[0;36mupdate\u001b[0;34m(self, props)\u001b[0m\n\u001b[1;32m    914\u001b[0m \u001b[0;34m\u001b[0m\u001b[0m\n\u001b[1;32m    915\u001b[0m         \u001b[0;32mwith\u001b[0m \u001b[0mcbook\u001b[0m\u001b[0;34m.\u001b[0m\u001b[0m_setattr_cm\u001b[0m\u001b[0;34m(\u001b[0m\u001b[0mself\u001b[0m\u001b[0;34m,\u001b[0m \u001b[0meventson\u001b[0m\u001b[0;34m=\u001b[0m\u001b[0;32mFalse\u001b[0m\u001b[0;34m)\u001b[0m\u001b[0;34m:\u001b[0m\u001b[0;34m\u001b[0m\u001b[0m\n\u001b[0;32m--> 916\u001b[0;31m             \u001b[0mret\u001b[0m \u001b[0;34m=\u001b[0m \u001b[0;34m[\u001b[0m\u001b[0m_update_property\u001b[0m\u001b[0;34m(\u001b[0m\u001b[0mself\u001b[0m\u001b[0;34m,\u001b[0m \u001b[0mk\u001b[0m\u001b[0;34m,\u001b[0m \u001b[0mv\u001b[0m\u001b[0;34m)\u001b[0m \u001b[0;32mfor\u001b[0m \u001b[0mk\u001b[0m\u001b[0;34m,\u001b[0m \u001b[0mv\u001b[0m \u001b[0;32min\u001b[0m \u001b[0mprops\u001b[0m\u001b[0;34m.\u001b[0m\u001b[0mitems\u001b[0m\u001b[0;34m(\u001b[0m\u001b[0;34m)\u001b[0m\u001b[0;34m]\u001b[0m\u001b[0;34m\u001b[0m\u001b[0m\n\u001b[0m\u001b[1;32m    917\u001b[0m \u001b[0;34m\u001b[0m\u001b[0m\n\u001b[1;32m    918\u001b[0m         \u001b[0;32mif\u001b[0m \u001b[0mlen\u001b[0m\u001b[0;34m(\u001b[0m\u001b[0mret\u001b[0m\u001b[0;34m)\u001b[0m\u001b[0;34m:\u001b[0m\u001b[0;34m\u001b[0m\u001b[0m\n",
          "\u001b[0;32m~/anaconda3/envs/PythonData/lib/python3.6/site-packages/matplotlib/artist.py\u001b[0m in \u001b[0;36m<listcomp>\u001b[0;34m(.0)\u001b[0m\n\u001b[1;32m    914\u001b[0m \u001b[0;34m\u001b[0m\u001b[0m\n\u001b[1;32m    915\u001b[0m         \u001b[0;32mwith\u001b[0m \u001b[0mcbook\u001b[0m\u001b[0;34m.\u001b[0m\u001b[0m_setattr_cm\u001b[0m\u001b[0;34m(\u001b[0m\u001b[0mself\u001b[0m\u001b[0;34m,\u001b[0m \u001b[0meventson\u001b[0m\u001b[0;34m=\u001b[0m\u001b[0;32mFalse\u001b[0m\u001b[0;34m)\u001b[0m\u001b[0;34m:\u001b[0m\u001b[0;34m\u001b[0m\u001b[0m\n\u001b[0;32m--> 916\u001b[0;31m             \u001b[0mret\u001b[0m \u001b[0;34m=\u001b[0m \u001b[0;34m[\u001b[0m\u001b[0m_update_property\u001b[0m\u001b[0;34m(\u001b[0m\u001b[0mself\u001b[0m\u001b[0;34m,\u001b[0m \u001b[0mk\u001b[0m\u001b[0;34m,\u001b[0m \u001b[0mv\u001b[0m\u001b[0;34m)\u001b[0m \u001b[0;32mfor\u001b[0m \u001b[0mk\u001b[0m\u001b[0;34m,\u001b[0m \u001b[0mv\u001b[0m \u001b[0;32min\u001b[0m \u001b[0mprops\u001b[0m\u001b[0;34m.\u001b[0m\u001b[0mitems\u001b[0m\u001b[0;34m(\u001b[0m\u001b[0;34m)\u001b[0m\u001b[0;34m]\u001b[0m\u001b[0;34m\u001b[0m\u001b[0m\n\u001b[0m\u001b[1;32m    917\u001b[0m \u001b[0;34m\u001b[0m\u001b[0m\n\u001b[1;32m    918\u001b[0m         \u001b[0;32mif\u001b[0m \u001b[0mlen\u001b[0m\u001b[0;34m(\u001b[0m\u001b[0mret\u001b[0m\u001b[0;34m)\u001b[0m\u001b[0;34m:\u001b[0m\u001b[0;34m\u001b[0m\u001b[0m\n",
          "\u001b[0;32m~/anaconda3/envs/PythonData/lib/python3.6/site-packages/matplotlib/artist.py\u001b[0m in \u001b[0;36m_update_property\u001b[0;34m(self, k, v)\u001b[0m\n\u001b[1;32m    910\u001b[0m                 \u001b[0mfunc\u001b[0m \u001b[0;34m=\u001b[0m \u001b[0mgetattr\u001b[0m\u001b[0;34m(\u001b[0m\u001b[0mself\u001b[0m\u001b[0;34m,\u001b[0m \u001b[0;34m'set_'\u001b[0m \u001b[0;34m+\u001b[0m \u001b[0mk\u001b[0m\u001b[0;34m,\u001b[0m \u001b[0;32mNone\u001b[0m\u001b[0;34m)\u001b[0m\u001b[0;34m\u001b[0m\u001b[0m\n\u001b[1;32m    911\u001b[0m                 \u001b[0;32mif\u001b[0m \u001b[0;32mnot\u001b[0m \u001b[0mcallable\u001b[0m\u001b[0;34m(\u001b[0m\u001b[0mfunc\u001b[0m\u001b[0;34m)\u001b[0m\u001b[0;34m:\u001b[0m\u001b[0;34m\u001b[0m\u001b[0m\n\u001b[0;32m--> 912\u001b[0;31m                     \u001b[0;32mraise\u001b[0m \u001b[0mAttributeError\u001b[0m\u001b[0;34m(\u001b[0m\u001b[0;34m'Unknown property %s'\u001b[0m \u001b[0;34m%\u001b[0m \u001b[0mk\u001b[0m\u001b[0;34m)\u001b[0m\u001b[0;34m\u001b[0m\u001b[0m\n\u001b[0m\u001b[1;32m    913\u001b[0m                 \u001b[0;32mreturn\u001b[0m \u001b[0mfunc\u001b[0m\u001b[0;34m(\u001b[0m\u001b[0mv\u001b[0m\u001b[0;34m)\u001b[0m\u001b[0;34m\u001b[0m\u001b[0m\n\u001b[1;32m    914\u001b[0m \u001b[0;34m\u001b[0m\u001b[0m\n",
          "\u001b[0;31mAttributeError\u001b[0m: Unknown property s64"
         ]
        }
       ]
      }
     },
     "2bcce4d148a0455ea4f9eeb4b3f82cee": {
      "model_module": "@jupyter-widgets/controls",
      "model_module_version": "1.2.0",
      "model_name": "DropdownModel",
      "state": {
       "_options_labels": [
        "October Wed 2018",
        "Vikings Opener",
        "Basilica Block Party 2018",
        "2018 Twins Opener",
        "Super Bowl",
        "Vikings & New Years Eve",
        "Packers at Vikings",
        "October Wed 2017",
        "October Wed 2016",
        "US Bank 1st Concert",
        "October Wed 2015",
        "October Wed 2014"
       ],
       "description": "event",
       "index": 0,
       "layout": "IPY_MODEL_c1517d734ca64b6da0f2084f333da21c",
       "style": "IPY_MODEL_801ea8cde169488fb01f140dc3cf73be"
      }
     },
     "2c58bb8cd40f442687feb17d9d921194": {
      "model_module": "@jupyter-widgets/base",
      "model_module_version": "1.0.0",
      "model_name": "LayoutModel",
      "state": {}
     },
     "2d275addd260488081fb9479cc24159d": {
      "model_module": "@jupyter-widgets/output",
      "model_module_version": "1.0.0",
      "model_name": "OutputModel",
      "state": {
       "layout": "IPY_MODEL_3fbb48c2adc74d599423c2145cbb0211",
       "outputs": [
        {
         "data": {
          "image/png": "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\n",
          "text/plain": "<Figure size 1080x216 with 1 Axes>"
         },
         "metadata": {},
         "output_type": "display_data"
        }
       ]
      }
     },
     "2f60421041144b999b6d02de5b5b3cee": {
      "model_module": "@jupyter-widgets/controls",
      "model_module_version": "1.2.0",
      "model_name": "DropdownModel",
      "state": {
       "_options_labels": [
        "October Wed 2018",
        "Vikings Opener",
        "Basilica Block Party 2018",
        "2018 Twins Opener",
        "Super Bowl",
        "Vikings & New Years Eve",
        "Packers at Vikings",
        "October Wed 2017",
        "October Wed 2016",
        "US Bank 1st Concert",
        "October Wed 2015",
        "October Wed 2014"
       ],
       "description": "event",
       "index": 0,
       "layout": "IPY_MODEL_1d89d17cc24940b5828091bf1062ef62",
       "style": "IPY_MODEL_e1a46c07b80d40129d970cd7241c63f1"
      }
     },
     "34d07f1e5085456983dbacef46e047a6": {
      "model_module": "@jupyter-widgets/base",
      "model_module_version": "1.0.0",
      "model_name": "LayoutModel",
      "state": {}
     },
     "34d2a873060c477aae612b0e46222c15": {
      "model_module": "@jupyter-widgets/output",
      "model_module_version": "1.0.0",
      "model_name": "OutputModel",
      "state": {
       "layout": "IPY_MODEL_9d890c207f3e4373bd47ad83e3c20b74",
       "outputs": [
        {
         "data": {
          "image/png": "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\n",
          "text/plain": "<Figure size 1080x360 with 1 Axes>"
         },
         "metadata": {},
         "output_type": "display_data"
        }
       ]
      }
     },
     "3870b324193e4e4c948c3eac36495001": {
      "model_module": "@jupyter-widgets/controls",
      "model_module_version": "1.2.0",
      "model_name": "DropdownModel",
      "state": {
       "_options_labels": [
        "October Wed 2018",
        "Vikings Opener",
        "Basilica Block Party 2018",
        "2018 Twins Opener",
        "Super Bowl",
        "Vikings & New Years Eve",
        "Packers at Vikings",
        "October Wed 2017",
        "October Wed 2016",
        "US Bank 1st Concert",
        "October Wed 2015",
        "October Wed 2014"
       ],
       "description": "event",
       "index": 0,
       "layout": "IPY_MODEL_34d07f1e5085456983dbacef46e047a6",
       "style": "IPY_MODEL_9a5cc67f7b1c4366b01dbd1f9a5b1365"
      }
     },
     "3936b1192ea04d69b7a6e0d807921378": {
      "model_module": "@jupyter-widgets/controls",
      "model_module_version": "1.2.0",
      "model_name": "VBoxModel",
      "state": {
       "children": [
        "IPY_MODEL_ed292f5efeda4c6a89e8449c78b830e6",
        "IPY_MODEL_263b0043603849b7a71234170aedbd07"
       ],
       "layout": "IPY_MODEL_2c58bb8cd40f442687feb17d9d921194"
      }
     },
     "3b0d4dccb0a14ed5928a70ae6c6accdc": {
      "model_module": "@jupyter-widgets/base",
      "model_module_version": "1.0.0",
      "model_name": "LayoutModel",
      "state": {}
     },
     "3c48c83b34934ad880157f58e9958f44": {
      "model_module": "@jupyter-widgets/base",
      "model_module_version": "1.0.0",
      "model_name": "LayoutModel",
      "state": {}
     },
     "3cbbc64f9d954d229d81b443b820cce7": {
      "model_module": "@jupyter-widgets/controls",
      "model_module_version": "1.2.0",
      "model_name": "VBoxModel",
      "state": {
       "children": [
        "IPY_MODEL_aee6ad65ee25483b9c15479f96a7baa4",
        "IPY_MODEL_3cd79041221d49faa1b2203d8cb87a81"
       ],
       "layout": "IPY_MODEL_210f8b6776f24e5daf6084c1db6be25b"
      }
     },
     "3cd79041221d49faa1b2203d8cb87a81": {
      "model_module": "@jupyter-widgets/output",
      "model_module_version": "1.0.0",
      "model_name": "OutputModel",
      "state": {
       "layout": "IPY_MODEL_5fde700a35da4546befe0f4a9f763e0d",
       "outputs": [
        {
         "name": "stdout",
         "output_type": "stream",
         "text": "[0 1 2 3 4]\n['35W NB(S64)' '35W SB(S582)' '394 EB(S286)' '94 WB(S553)' nan]\n"
        },
        {
         "data": {
          "image/png": "iVBORw0KGgoAAAANSUhEUgAAA54AAAFdCAYAAABrbLLUAAAABHNCSVQICAgIfAhkiAAAAAlwSFlzAAALEgAACxIB0t1+/AAAADl0RVh0U29mdHdhcmUAbWF0cGxvdGxpYiB2ZXJzaW9uIDMuMC4wLCBodHRwOi8vbWF0cGxvdGxpYi5vcmcvqOYd8AAAIABJREFUeJzs3Xm8XVV99/HPlzGROUxCwqQiggEihogDcUARnMABBe0jdcLyYGsnBfvUYrVYtU9F4am2VCJgkUEUQUUpUimigRCUQUQkoEgEJRDGgiD4e/4468Lhcm9yM+x7b24+79frvM7ev7322muf7Avnd9baa6eqkCRJkiSpK2uMdQMkSZIkSRObiackSZIkqVMmnpIkSZKkTpl4SpIkSZI6ZeIpSZIkSeqUiackSZIkqVMmnpKkcSvJ3kkWJLk/yWuSbJXkkiT3Jflkkg8n+dexbueKSPIPSU5awvb3Jbm9fQYbjWLTJElaaUw8JUkrRUuMBl5/SPJg3/rblrPafwCOrar1q+qbwJ8AtwIbVtWRVfWxqvqT5WjrJUn+eDnbNGqSTAL+L/DS9hncM8rHf0aSSjJvUHzLJL9PsqAvtrDv3/w3SeYkWa9tG/bzTnJYkuvbjwm/SfLNgf0kSROHiackaaVoidH6VbU+8CvgtX2xUweXT7LWCKrdDrh20PpPq6pWTqvHvacC61bVtUNtHOFnuDJslGTnvvW3ATcNUW7/9u+/J/B84ENLqjTJPsDfA2+uqg2AZwNnrZwmS5LGExNPSdKoaENKz0hyWpL7gD9K8vwklya5O8ltSY5LsnYr/0tgW+DbrRftS/QSnr9p6y8ZPEw1yexW3z1Jbknyv4ZoxyfpJUX/2ur5TIu/KMn8tu+8JM9bwrn8bZKbWi/dtUle17ft3Un+O8mx7bxuSrJv3/anJfl+2/d8YNNhjrEzLelu7fzPJGu1Hsj/3Xobf7a0trfexo+2z+V/knw9yabt3+HeJJcl2XYp/3xfAt7et/524JThClfVLcB3gOlLqXdP4AdVdVXb786qOqmq/mcp+0mSVjEmnpKk0fR64MvARsAZwCPA+4HNgBcC+wHvBaiq7ekNq92/9Zr+r7bPx9v6Rf0VJ9kB+BbwaXrJ3HOAawY3oKqOBOYCf9Lq+fMkm7V9/7ntexxwXpJNhjmPn7f2bgQcA3w5yZZ921/Qjr0pcCxwYt+204FL2zl/AnhSctzaeR2we1tev6r27dv8OnpJ264jbPvBwFuBacCzgB8CJwBTgBuBDw9zngO+BLw1yRpJdgXWBq4YrnBLZPcHfryUei8FXp3k6CQvSLLuUspLklZRJp6SpNF0SVV9o6r+UFUPVtXlVXVZVT1SVTfRS4ZevJx1/xHwnao6s9V3R1VdOcJ9XwtcW1WntX3/g95Q0lcPVbgd47Z2Hl8GfgnM7CtyY1XNqapHgZOBaUk2S/I0YAZwdFU9VFXfA85bjnP9eFXdVVUPjrDtJ1bVTVV1F3A+8POq+l5VPQJ8hV6SPqyquhn4BfBS4FCG7+38ZpK7ge8D3wU+uZR6LwLeRC+J/jZwR5J/SuL3E0maYEbr3hBJkgBu6V9J8ix6PXXPBZ5C7/9Lly1n3dvQ671bHlsDNw+K3QxMHapwmyjnL+jdcwqwPr0ezAG/6Vt+oK/M1sCdVfVA3/abgc2Xsb39n+NI2v7bvuUHh1hffwTHPAV4B70fBvYCdh2izGsG90QvTVV9C/hWSzb3oZcI/4wn9hJLklZx/qIoSRpNgycF+jfgJ8AzqmpD4O+ALGfdtwBPX8523MrjSeSAbYFfD96x9Vp+Hjgc2LSqNqaXKI2k3bcBmyaZPOg4y6q//SNu+wr6CnAg8LOqWtl103qPLwAuYun3hkqSVjEmnpKksbQBcA/wP20ynfeuQF3/AeyX5I1tEp7Nkuw+TNnfAk/rW/8m8Owkb2n7vhV4BkMPg12fXuK3CEiSd9O7b3KpqupG4GrgI0nWSTKbYYbzLoNlaftyq6r76A21Xd5/o7WTTOp7rZ3k9UnenGST9OwF7E3v3k9J0gRi4ilJGkt/Re+ewfvo9X6esbwVVdUv6N3veCSwGPgRQw8HBfgMcEibdfbTVbWI3oQ9RwJ30htG+5qqWjzEca6mN4HPPHo9mM9i2YYHH0xvYqLFwP+hN3HPcluWtq+odk/uUI9RGYkT6A3rHXj9O3A3vWezLgDupXc/7MerarmvA0nS+JTV51FokiRJkqSxYI+nJEmSJKlTJp6SJEmSpE6ZeEqSJEmSOmXiKUmSJEnqlImnJGm1l6SSPGOs27E8kpyU5B/Guh2SJC2JiackaVxK8sdJrknyQJLfJPl8ko1HuO+4SSSTnJ/kg33rU1v7hoo9dSUf+9VJLmmPjflNkn9PskHf9nWTzElyb9v+l33b1klyVpJftra9ZIj690hycZL7k/w2yftXZvslSROHiackadxJ8lfAJ4EPABsBewHbARckWWcs27YkSdYaInwx8OK+9dnAz4aI3VBVv1nJTdoI+Adga2BnYBrwT33bPwLsSO+zfSnwwST79W2/BPgj4EntSrIZ8B16z1/dFHgG8J8ruf2SpAnCxFOSNK4k2RD4e+BPq+o7VfX7qvol8GZ6CdIftXJrJvmbJDcmuS/JFUm2SXJxq+qq1hP3llb+PUkWJFmc5NwkWw869KuS3JTkjiT/lOSx/0cmeWeS65Lc1Xowt+vbVkmOSHIDcMMQp3Qx8MK++vYGPgPMHBQbaDdJXpPkytZT+cMku/Vte06SH7VzPgOYNNxnWVVfbp/hA1V1F/DvwAv7irwd+FhV3VVV17Xtf9z2fbiqPlNVlwCPDlH9XwLnV9WpVfVQVd3X6pAk6UlMPCVJ480L6CVTX+sPVtX9wLeBV7TQXwKHAK8CNgTeCTxQVbPb9t2rav2qOiPJy4B/pJe8bgXcDJw+6LivB2YCewAHtPpIciDwN8AbgM2B7wOnDdr3QOB5wC5DnM88YF1g97Y+G7gAWDAodnE73h7AHOC99HoS/w04tw2LXQf4OvAlYArwFeCNQxxzOLOBa9txNqHXE3pV3/argGePsK69gMUtMb49yTeSbLsMbZEkrUZMPCVJ481mwB1V9cgQ225r2wHeDfxtVV1fPVdV1Z3D1Pk2YE5V/aiqHgI+BDw/yfZ9ZT5ZVYur6lf0eiQPafH3Av9YVde1Nn0cmNHf69m2L66qBwcfuB3vMmB2kinAxlV1E70EdiC2C/DfbZf3AP9WVZdV1aNVdTLwEL1Eby9gbeAzrSf4LODyYc75CZK8AjgU+LsWWr+939NX7B5gA0ZmWqvv/cC2wC94ckIuSRJg4ilJGn/uADYb5n7Jrdp2gG2AG0dY59b0ejmBx3pP7wSm9pW5pW/55rYP9Ib3frYNe70bWAxkCfsO5WJ6vY1707tvkvY+ELulqgbatx3wVwPHa8fcprVna+DXVVWD2rpESfYCvgy8qap+3sL3t/cN+4puCNy3tPqaB4Gzq+ryqvodveHRL0iy0Qj3lyStRkw8JUnjzVx6PXxv6A8mWQ/YH7iwhW4Bnj7COm+ll9D117Up8Ou+Mtv0LW/b9hk4znurauO+1+Sq+mFf+f5EcCgX00swZ9Pr6QT4Ab37LR8bZtt3vGMGHe8pVXUavR7fqUkyqK3DSvIc4FzgnVU18NnR7vm8jceH+9KWr13KuQy4miee98ByhigrSVrNmXhKksaVqrqHXu/Z8Un2S7J2GxL7FWAhvfsbAb4AfCzJjunZLcmmbdtvgaf1Vftl4B1JZiRZl95w2cvapEUDPpBkkyTb0Bs+ekaL/yvwoSTPBkiyUZKDlvG0fghsTG9ipO+387wLWNRi/YnnvwN/kuR57bzWa49F2YBeUv4I8GdJ1kryBmDWcAdNMp3ezLN/WlXfGKLIKcDftvN+Fr1hvif17b9ukoHJi9ZJMqkv6f0i8Pr2ma4NfBi4pKruXpYPRpK0ejDxlCSNO1X1KXoT+vxf4F5690jeAuzT7pkE+DRwJr1HeNwLnAhMbts+Apzchqq+ufX0fRj4Kr1evqcDBw867DnAFcCVwLdafVTV2fQe7XJ6knuBn9DreV2W83mg1b1u23/A94Et6Es8q2o+vQTw/wF30ZuE6I/btofp9QT/cdv2FgZNwjTIX9GbEOnENsPv/Un6ezSPpjdc+WZ695j+U1V9p2/79fSG1E4Fzm/L27W2/Be9f6NvAbfTe5zKW0fwcUiSVkN54m0ikiRJkiStXPZ4SpIkSZI6ZeIpSZIkSeqUiackSZIkqVMmnpIkSZKkTpl4SpIkSZI6tdZYN2C0bbbZZrX99tuPdTMkSZIkaUxcccUVd1TV5qN5zNUu8dx+++2ZP3/+WDdDkiRJksZEkptH+5gOtZUkSZIkdcrEU5IkSZLUKRNPSZIkSVKnVrt7PIfy+9//noULF/K73/1urJsyoU2aNIlp06ax9tprj3VTJEmSJI0iE09g4cKFbLDBBmy//fYkGevmTEhVxZ133snChQvZYYcdxro5kiRJkkaRQ22B3/3ud2y66aYmnR1KwqabbmqvsiRJkrQa6jTxTPIXSa5N8pMkpyWZlGSHJJcluSHJGUnWaWXXbesL2vbt++r5UItfn+SVffH9WmxBkqNWsK0rsrtGwM9YkiRJWj11lngmmQr8GTCzqqYDawIHA58Ejq2qHYG7gHe1Xd4F3FVVzwCObeVIskvb79nAfsDnkqyZZE3gX4D9gV2AQ1rZVcqdd97JjBkzmDFjBk996lOZOnXqY+sPP/zwUvefNm0aL33pS58Qmz59OjNmzADgu9/9LhtttBEzZsxg55135phjjnksfuCBBz6pvnPOOYcZM2aw++67s8suu/CFL3xhJZylJEmSpNVZ1/d4rgVMTvJ74CnAbcDLgLe27ScDHwE+DxzQlgHOAv5fel1kBwCnV9VDwC+SLABmtXILquomgCSnt7I/XdFGz5y5ojU80fz5w2/bdNNNufLKKwH4yEc+wvrrr89f//VfL1P9d999N7feeitbb70111xzDWut9cR/1pe+9KV8/etf5/7772e33XbjNa95zZD1PPTQQxx++OHMnz+frbfemoceeoibbx71Z8tKkiRJmmA66/Gsql8D/xf4Fb2E8x7gCuDuqnqkFVsITG3LU4Fb2r6PtPKb9scH7TNcfML41Kc+xfTp05k+fTrHH3/8sOUOOuggzjzzTABOO+00DjnkkCHLrb/++uyxxx7ceOONQ26/5557qCqmTJkCwLrrrsszn/nMFTwLSZIkSau7LofabkKvB3IHYGtgPXrDYgergV2G2bas8aHacliS+UnmL1q0aGlNHxfmzZvHqaeeyrx585g7dy6f+9znuPrqq4cse9BBB3HWWWcBcN555/HqV796yHKLFi1i3rx5PPvZzx5y+xZbbMErX/lKtttuO9761rdy2mmn8Yc//GHlnJAkSZKk1VaXQ21fDvyiqhYBJPka8AJg4yRrtV7NacCtrfxCYBtgYZK1gI2AxX3xAf37DBd/gqo6ATgBYObMmUMmp+PN97//fd74xjfylKc8BYADDzyQSy65hN122+1JZTfffHPWW289Tj/9dHbbbTcmTZr0hO3f+973eM5znsMaa6zBhz/8YXbaaSduueWWJ9UDcNJJJ3H11Vfz3e9+l0984hNceOGF3ucpSZLGl5V9X9SqYkn3b0njXJeJ56+AvZI8BXgQ2AeYD3wPeBNwOnAocE4rf25bn9u2/1dVVZJzgS8n+TS9ntMdgXn0ejx3TLID8Gt6ExAN3Du6yqtatvz4LW95C0cccQT/8R//8aRtA/d4jtRuu+3Gbrvtxlvf+lZ23nlnE09JkiRJK6TLezwvozdJ0I+Aa9qxTgCOBP6yTRK0KXBi2+VEYNMW/0vgqFbPtcCZ9CYN+g5wRFU92npM3wecD1wHnNnKTgizZ8/m7LPP5sEHH+T+++/nnHPOYe+99x62/Bvf+EY++MEP8opXvGK5j3nvvfdy8cUXP7Z+5ZVXst122y13fZIkSZIEHc9qW1VHA0cPCt/E47PS9pf9HXDQMPUcAxwzRPw84LwVb+n4M2vWLA455BD23HNPAA4//HB23XXXYctvtNFGHHnkkct0jPPPP59p06Y9tn7qqafyiU98gve85z1MnjyZ9ddfnzlz5izfCUiSJElSk2Ud0rmqmzlzZs0fND7+uuuuY+eddx6jFq1e/KwlSdIK8x5PaYUkuaKqRvUPqbOhtpIkSZIkgYmnJEmSJKljnd7jKUmSpO6stiNOx7oBkpaZPZ6SJEmSpE6ZeEqSJEmSOmXiKUmSJEnqlInnOLHmmmsyY8aMx16//OUvOz3eSSedRBIuvPDCx2Jnn302STjrrLMAeMlLXsJOO+3E7rvvzgtf+EKuv/76x+KDH0nzwAMP8La3vY1dd92V6dOn86IXvYj777+/03OQJEmStGpwcqGhrOw79UfwzKXJkydz5ZVXDrv9kUceYa21Vu4/16677sppp53GPvvsA8Dpp5/O7rvv/oQyp556KjNnzuSEE07gAx/4AOeee+6QdX32s59lyy235JprrgHg+uuvZ+21116p7ZUkSZK0arLHcxw76aSTOOigg3jta1/LvvvuS1XxgQ98gOnTp7PrrrtyxhlnAHDRRRfx4he/mDe/+c0885nP5KijjuLUU09l1qxZ7Lrrrtx4441D1r/33nszb948fv/733P//fezYMECZsyYMWTZ2bNns2DBgmHbettttzF16tTH1nfaaSfWXXfdFTh7SZIkSROFPZ7jxIMPPvhY0rfDDjtw9tlnAzB37lyuvvpqpkyZwle/+lWuvPJKrrrqKu644w723HNPZs+eDcBVV13Fddddx5QpU3ja057Gu9/9bubNm8dnP/tZjj/+eD7zmc886ZhJePnLX87555/PPffcw+te9zp+8YtfDNm+b3zjG+y6667Dtv+d73wn++67L2eddRb77LMPhx56KDvuuOOKfiySJEmSJgATz3FiuKG2r3jFK5gyZQoAl1xyCYcccghrrrkmW265JS9+8Yu5/PLL2XDDDdlzzz3ZaqutAHj605/OvvvuC/SG037ve98b9rgHH3wwxx13HPfccw///M//zMc//vEnbH/b297G5MmT2X777Tn++OOHrWfGjBncdNNN/Od//iff/e532XPPPZk7dy4777zzMn8WkiRJkiYWE89xbr311ntsuaqGLdc/rHWNNdZ4bH2NNdbgkUceGXa/WbNm8ZOf/ITJkyfzzGc+80nbB+7xHIn111+fN7zhDbzhDW9gjTXW4LzzzjPxlCRJkuQ9nquS2bNnc8YZZ/Doo4+yaNEiLr74YmbNmrXC9f7jP/7jk3o6l9UPfvAD7rrrLgAefvhhfvrTn7LddtutcNskSZIkrfrs8VyFvP71r2fu3LnsvvvuJOFTn/oUT33qU/nZz362QvXuv//+y7zPq1/96sdmrX3+85/Pa1/7Wg4//HCqij/84Q+8+tWv5o1vfOMKtUuSJEnSxJAlDd+ciGbOnFmDn0F53XXXOSR0lPhZS5K08qzsJ8CtKuazup740h/RJ41EkiuqalT/kBxqK0mSJEnqlImnJEmSJKlT3uMpSdLqZLUdm+kQRUkaS/Z4Nqvbva5jwc9YkiRJWj2ZeAKTJk3izjvvNDHqUFVx5513MmnSpLFuiiRJkqRR5lBbYNq0aSxcuJBFixaNdVMmtEmTJjFt2rSxboYkSZKkUWbiCay99trssMMOY90MSZIkSZqQHGorSZIkSepUZ4lnkp2SXNn3ujfJnyeZkuSCJDe0901a+SQ5LsmCJFcn2aOvrkNb+RuSHNoXf26Sa9o+xyVJV+cjSZIkSVo+nQ21rarrgRkASdYEfg2cDRwFXFhVn0hyVFs/Etgf2LG9ngd8HnhekinA0cBMoIArkpxbVXe1MocBlwLnAfsB3+7qnCT1+DQGSZIkLYvRGmq7D3BjVd0MHACc3OInAwe25QOAU6rnUmDjJFsBrwQuqKrFLdm8ANivbduwquZWbzraU/rqkiRJkiSNE6OVeB4MnNaWt6yq2wDa+xYtPhW4pW+fhS22pPjCIeKSJEmSpHGk88QzyTrA64CvLK3oELFajvhQbTgsyfwk831kiiRJkiSNrtF4nMr+wI+q6rdt/bdJtqqq29pw2dtbfCGwTd9+04BbW/wlg+IXtfi0Ico/SVWdAJwAMHPmzCGTU0laqtX15lbwBldJkrRCRmOo7SE8PswW4FxgYGbaQ4Fz+uJvb7Pb7gXc04bing/sm2STNgPuvsD5bdt9SfZqs9m+va8uSZIkSdI40WmPZ5KnAK8A3tsX/gRwZpJ3Ab8CDmrx84BXAQuAB4B3AFTV4iQfAy5v5T5aVYvb8uHAScBkerPZOqOtJEmSJI0znSaeVfUAsOmg2J30ZrkdXLaAI4apZw4wZ4j4fGD6SmmsJEmSJKkTozWrrSRJkiRpNWXiKUmSJEnqlImnJEmSJKlTJp6SJEmSpE6ZeEqSJEmSOmXiKUmSJEnqlImnJEmSJKlTJp6SJEmSpE6ZeEqSJEmSOmXiKUmSJEnqlImnJEmSJKlTJp6SJEmSpE6ZeEqSJEmSOmXiKUmSJEnqlImnJEmSJKlTJp6SJEmSpE6ZeEqSJEmSOmXiKUmSJEnqlImnJEmSJKlTJp6SJEmSpE6tNdYNkCRpLMycOdYtGBvzx7oBkqTVkj2ekiRJkqROmXhKkiRJkjrVaeKZZOMkZyX5WZLrkjw/yZQkFyS5ob1v0somyXFJFiS5OskeffUc2srfkOTQvvhzk1zT9jkuSbo8H0mSJEnSsuu6x/OzwHeq6lnA7sB1wFHAhVW1I3BhWwfYH9ixvQ4DPg+QZApwNPA8YBZw9ECy2soc1rfffh2fjyRJkiRpGXWWeCbZEJgNnAhQVQ9X1d3AAcDJrdjJwIFt+QDglOq5FNg4yVbAK4ELqmpxVd0FXADs17ZtWFVzq6qAU/rqkiRJkiSNE132eD4NWAR8McmPk3whyXrAllV1G0B736KVnwrc0rf/whZbUnzhEHFJkiRJ0jjSZeK5FrAH8Pmqeg7wPzw+rHYoQ92fWcsRf3LFyWFJ5ieZv2jRoiW3WpIkSZK0UnWZeC4EFlbVZW39LHqJ6G/bMFna++195bfp238acOtS4tOGiD9JVZ1QVTOraubmm2++QiclSZIkSVo2nSWeVfUb4JYkO7XQPsBPgXOBgZlpDwXOacvnAm9vs9vuBdzThuKeD+ybZJM2qdC+wPlt231J9mqz2b69ry5JkiRJ0jixVsf1/ylwapJ1gJuAd9BLds9M8i7gV8BBrex5wKuABcADrSxVtTjJx4DLW7mPVtXitnw4cBIwGfh2e0mSJEmSxpFOE8+quhKYOcSmfYYoW8ARw9QzB5gzRHw+MH0FmylJkiRJ6lDXz/GUJEmSJK3mTDwlSZIkSZ0y8ZQkSZIkdcrEU5IkSZLUKRNPSZIkSVKnTDwlSZIkSZ0y8ZQkSZIkdcrEU5IkSZLUKRNPSZIkSVKnTDwlSZIkSZ0y8ZQkSZIkdcrEU5IkSZLUKRNPSZIkSVKnTDwlSZIkSZ0y8ZQkSZIkdcrEU5IkSZLUKRNPSZIkSVKnlpp4JnlhkvXa8h8l+XSS7bpvmiRJkiRpIhhJj+fngQeS7A58ELgZOKXTVkmSJEmSJoyRJJ6PVFUBBwCfrarPAht02yxJkiRJ0kSx1gjK3JfkQ8AfAbOTrAms3W2zJEmSJEkTxUh6PN8CPAS8q6p+A0wF/qnTVkmSJEmSJowl9ni23s3/qKqXD8Sq6ld4j6ckSZIkaYSW2ONZVY/Sm1hoo1FqjyRJkiRpghnJUNvfAdckOTHJcQOvkVSe5JdJrklyZZL5LTYlyQVJbmjvm7R4Wt0LklydZI++eg5t5W9Icmhf/Lmt/gVt3yzb6UuSJEmSujaSyYW+1V7L66VVdUff+lHAhVX1iSRHtfUjgf2BHdvrefQe4/K8JFOAo4GZQAFXJDm3qu5qZQ4DLgXOA/YDvr0CbZUkSZIkrWRLTTyr6uSVfMwDgJe05ZOBi+glngcAp7RHt1yaZOMkW7WyF1TVYoAkFwD7JbkI2LCq5rb4KcCBmHiOXzNnjnULxsb8+WPdAkmSJGlMLXWobZIdk5yV5KdJbhp4jbD+Av4zyRVJDmuxLavqNoD2vkWLTwVu6dt3YYstKb5wiLgkSZIkaRwZyVDbL9Ib6nos8FLgHcBI76V8YVXdmmQL4IIkP1tC2aHqrOWIP7niXtJ7GMC222675BZLkiRJklaqkUwuNLmqLgRSVTdX1UeAl42k8qq6tb3fDpwNzAJ+24bQ0t5vb8UXAtv07T4NuHUp8WlDxIdqxwlVNbOqZm6++eYjabokSZIkaSUZSY/n75KsAdyQ5H3Ar3l8eOywkqwHrFFV97XlfYGPAucChwKfaO/ntF3OBd6X5HR6kwvdU1W3JTkf+PjA7Letng9V1eIk9yXZC7gMeDtw/MhOe+ysrrc5AninoyRJkrR6Gkni+efAU4A/Az5Gb7jtoUvco2dL4Oz2hJO1gC9X1XeSXA6cmeRdwK+Ag1r584BXAQuAB+gN6aUlmB8DLm/lPjow0RBwOHASMJnepEJOLCRJkiRJ48ywiWeSScAGVTWQ8N0PvCPJlsA9S6u4qm4Cdh8ifiewzxDxAo4Ypq45wJwh4vOB6UtriyRJkiRp7CzpHs/jgL2HiL+c3kRDkiRJkiQt1ZISzxdV1dcGB6vqVGB2d02SJEmSJE0kS0o8l/TIlJHMhitJkiRJ0hITyNuTzBocTLInsKi7JkmSJEmSJpIlzWr7AXqzz54EXNFiM+k9tuTgjtslSZIkSZoghu3xrKp5wCx6Q27/uL0CPK+qLhuNxkmSJEmSVn1LfI5nVd0OHD1KbZEkSZIkTUBOEiRJkiRJ6pSJpyRJkiSpU8Mmnkm+1N7fP3rNkSRJkiRNNEvq8Xxuku2AdybZJMmU/tdoNVCSJEmStGpb0uRC/wp8B3gavceppG9btbgkSZIkSUu0pMepHFdVOwNzquppVbVD38ukU5IkSZI0Ikt8nApAVR2eZHdg7xa6uKqu7rZZkiRJkqSJYqmz2ib5M+BUYIv2OjXJn3YnTcCEAAAZqklEQVTdMEmSJEnSxLDUHk/g3cDzqup/AJJ8EpgLHN9lwyRJkiRJE8NInuMZ4NG+9Ud54kRDkiRJkiQNayQ9nl8ELktydls/EDixuyZJkiRJkiaSkUwu9OkkFwEvotfT+Y6q+nHXDZMkSZIkTQwj6fGkqn4E/KjjtkiSJEmSJqCR3OMpSZIkSdJyM/GUJEmSJHVqRIlnku2SvLwtT06yQbfNkiRJkiRNFEtNPJO8BzgL+LcWmgZ8faQHSLJmkh8n+WZb3yHJZUluSHJGknVafN22vqBt376vjg+1+PVJXtkX36/FFiQ5aqRtkiRJkiSNnpH0eB4BvBC4F6CqbgC2WIZjvB+4rm/9k8CxVbUjcBfwrhZ/F3BXVT0DOLaVI8kuwMHAs4H9gM+1ZHZN4F+A/YFdgENaWUmSJEnSODKSxPOhqnp4YCXJWkCNpPIk04BXA19o6wFeRq8HFeBkes8FBTigrdO279PKHwCcXlUPVdUvgAXArPZaUFU3tfad3spKkiRJksaRkSSe/53kb4DJSV4BfAX4xgjr/wzwQeAPbX1T4O6qeqStLwSmtuWpwC0Abfs9rfxj8UH7DBeXJEmSJI0jI0k8jwIWAdcA7wXOA/52aTsleQ1we1Vd0R8eomgtZduyxodqy2FJ5ieZv2jRoiW0WpIkSZK0sq21tAJV9Qfg39trWbwQeF2SVwGTgA3p9YBunGSt1qs5Dbi1lV8IbAMsbMN5NwIW98UH9O8zXHzwOZwAnAAwc+bMEQ0TliRJkiStHCOZ1fY1bVbaxUnuTXJfknuXtl9VfaiqplXV9vQmB/qvqnob8D3gTa3YocA5bfnctk7b/l9VVS1+cJv1dgdgR2AecDmwY5sld512jHNHeN6SJEmSpFGy1B5Per2UbwCuaYngijoSOD3JPwA/Bk5s8ROBLyVZQK+n82CAqro2yZnAT4FHgCOq6lGAJO8DzgfWBOZU1bUroX2SJEmSpJVoJInnLcBPViTprKqLgIva8k30ZqQdXOZ3wEHD7H8McMwQ8fPo3XMqSZIkSRqnRpJ4fhA4L8l/Aw8NBKvq0521SpIkSZI0YYwk8TwGuJ/eBEHrdNscSZIkSdJEM5LEc0pV7dt5SyRJkiRJE9JInuP53SQmnpIkSZKk5TKSxPMI4DtJHlyWx6lIkiRJkgQjGGpbVRuMRkMkSZIkSRPTUhPPJLOHilfVxSu/OZIkSZKkiWYkkwt9oG95Er1ncF4BvKyTFkmSJEmSJpSRDLV9bf96km2AT3XWIkmSJEnShDKSyYUGWwhMX9kNkSRJkiRNTCO5x/N4oNrqGsAM4KouGyVJkiRJmjhGco/n/L7lR4DTquoHHbVHkiRJkjTBjOQez5NHoyGSJEmSpIlp2MQzyTU8PsT2CZuAqqrdOmuVJEmSJGnCWFKP52tGrRWSJEmSpAlr2MSzqm4eWE6yJbBnW51XVbd33TBJkiRJ0sSw1MepJHkzMA84CHgzcFmSN3XdMEmSJEnSxDCSWW3/D7DnQC9nks2B7wJnddkwSZIkSdLEsNQeT2CNQUNr7xzhfpIkSZIkjajH8ztJzgdOa+tvAc7rrkmSJEmSpIlkJM/x/ECSNwAvovcolROq6uzOWyZJkiRJmhCW9BzP/wd8uap+WFVfA742es2SJEmSJE0US7pX8wbgn5P8Msknk8wYrUZJkiRJkiaOYRPPqvpsVT0feDGwGPhikuuS/F2SZ45aCyVJkiRJq7Slzk5bVTdX1Ser6jnAW4HXA9ctbb8kk5LMS3JVkmuT/H2L75DksiQ3JDkjyTotvm5bX9C2b99X14da/Pokr+yL79diC5IctcxnL0mSJEnq3FITzyRrJ3ltklOBbwM/B944grofAl5WVbsDM4D9kuwFfBI4tqp2BO4C3tXKvwu4q6qeARzbypFkF+Bg4NnAfsDnkqyZZE3gX4D9gV2AQ1pZSZIkSdI4MmzimeQVSeYAC4HD6D1C5elV9Zaq+vrSKq6e+9vq2u1VwMuAs1r8ZODAtnxAW6dt3ydJWvz0qnqoqn4BLABmtdeCqrqpqh4GTm9lJUmSJEnjyJJ6PP8GmAvsXFWvrapTq+p/lqXy1jN5JXA7cAFwI3B3VT3SiiwEprblqcAtAG37PcCm/fFB+wwXlyRJkiSNI8M+TqWqXrqilVfVo8CMJBsDZwM7D1WsvWeYbcPFh0qaa4gYSQ6j12vLtttuu5RWS5IkSZJWpqXe47kyVNXdwEXAXsDGSQYS3mnArW15IbANQNu+Eb3ZdB+LD9pnuPhQxz+hqmZW1czNN998ZZySJEmSJGmEOks8k2zeejpJMhl4Ob3ZcL8HvKkVOxQ4py2f29Zp2/+rqqrFD26z3u4A7AjMAy4Hdmyz5K5DbwKic7s6H0mSJEnS8hl2qO1KsBVwcpt9dg3gzKr6ZpKfAqcn+Qfgx8CJrfyJwJeSLKDX03kwQFVdm+RM4KfAI8ARbQgvSd4HnA+sCcypqms7PB9JkiRJ0nLoLPGsqquB5wwRv4nejLSD478DDhqmrmOAY4aIn0dvtl1JkiRJ0jg1Kvd4SpIkSZJWXyaekiRJkqROmXhKkiRJkjpl4ilJkiRJ6pSJpyRJkiSpUyaekiRJkqROmXhKkiRJkjpl4ilJkiRJ6pSJpyRJkiSpUyaekiRJkqROmXhKkiRJkjpl4ilJkiRJ6pSJpyRJkiSpUyaekiRJkqROmXhKkiRJkjpl4ilJkiRJ6pSJpyRJkiSpUyaekiRJkqROmXhKkiRJkjpl4ilJkiRJ6pSJpyRJkiSpUyaekiRJkqROmXhKkiRJkjrVWeKZZJsk30tyXZJrk7y/xackuSDJDe19kxZPkuOSLEhydZI9+uo6tJW/IcmhffHnJrmm7XNcknR1PpIkSZKk5dNlj+cjwF9V1c7AXsARSXYBjgIurKodgQvbOsD+wI7tdRjweeglqsDRwPOAWcDRA8lqK3NY3377dXg+kiRJkqTl0FniWVW3VdWP2vJ9wHXAVOAA4ORW7GTgwLZ8AHBK9VwKbJxkK+CVwAVVtbiq7gIuAPZr2zasqrlVVcApfXVJkiRJksaJUbnHM8n2wHOAy4Atq+o26CWnwBat2FTglr7dFrbYkuILh4hLkiRJksaRzhPPJOsDXwX+vKruXVLRIWK1HPGh2nBYkvlJ5i9atGhpTZYkSZIkrUSdJp5J1qaXdJ5aVV9r4d+2YbK099tbfCGwTd/u04BblxKfNkT8SarqhKqaWVUzN9988xU7KUmSJEnSMulyVtsAJwLXVdWn+zadCwzMTHsocE5f/O1tdtu9gHvaUNzzgX2TbNImFdoXOL9tuy/JXu1Yb++rS5IkSZI0TqzVYd0vBP4XcE2SK1vsb4BPAGcmeRfwK+Cgtu084FXAAuAB4B0AVbU4yceAy1u5j1bV4rZ8OHASMBn4dntJkiRJksaRzhLPqrqEoe/DBNhniPIFHDFMXXOAOUPE5wPTV6CZkiRJkqSOjcqstpIkSZKk1ZeJpyRJkiSpUyaekiRJkqROmXhKkiRJkjpl4ilJkiRJ6pSJpyRJkiSpUyaekiRJkqROmXhKkiRJkjpl4ilJkiRJ6pSJpyRJkiSpUyaekiRJkqROmXhKkiRJkjpl4ilJkiRJ6pSJpyRJkiSpUyaekiRJkqROmXhKkiRJkjpl4ilJkiRJ6pSJpyRJkiSpUyaekiRJkqROmXhKkiRJkjpl4ilJkiRJ6pSJpyRJkiSpUyaekiRJkqROmXhKkiRJkjrVWeKZZE6S25P8pC82JckFSW5o75u0eJIcl2RBkquT7NG3z6Gt/A1JDu2LPzfJNW2f45Kkq3ORJEmSJC2/Lns8TwL2GxQ7CriwqnYELmzrAPsDO7bXYcDnoZeoAkcDzwNmAUcPJKutzGF9+w0+liRJkiRpHOgs8ayqi4HFg8IHACe35ZOBA/vip1TPpcDGSbYCXglcUFWLq+ou4AJgv7Ztw6qaW1UFnNJXlyRJkiRpHBntezy3rKrbANr7Fi0+Fbilr9zCFltSfOEQ8SElOSzJ/CTzFy1atMInIUmSJEkaufEyudBQ92fWcsSHVFUnVNXMqpq5+eabL2cTJUmSJEnLY7QTz9+2YbK099tbfCGwTV+5acCtS4lPGyIuSZIkSRpnRjvxPBcYmJn2UOCcvvjb2+y2ewH3tKG45wP7JtmkTSq0L3B+23Zfkr3abLZv76tLkiRJkjSOrNVVxUlOA14CbJZkIb3ZaT8BnJnkXcCvgINa8fOAVwELgAeAdwBU1eIkHwMub+U+WlUDExYdTm/m3MnAt9tLkiRJkjTOdJZ4VtUhw2zaZ4iyBRwxTD1zgDlDxOcD01ekjZIkSZKk7o2XyYUkSZIkSROUiackSZIkqVMmnpIkSZKkTpl4SpIkSZI6ZeIpSZIkSeqUiackSZIkqVMmnpIkSZKkTpl4SpIkSZI6ZeIpSZIkSeqUiackSZIkqVMmnpIkSZKkTpl4SpIkSZI6ZeIpSZIkSeqUiackSZIkqVMmnpIkSZKkTpl4SpIkSZI6ZeIpSZIkSeqUiackSZIkqVMmnpIkSZKkTpl4SpIkSZI6ZeIpSZIkSeqUiackSZIkqVMmnpIkSZKkTq3yiWeS/ZJcn2RBkqPGuj2SJEmSpCdapRPPJGsC/wLsD+wCHJJkl7FtlSRJkiSp3yqdeAKzgAVVdVNVPQycDhwwxm2SJEmSJPVZ1RPPqcAtfesLW0ySJEmSNE6sNdYNWEEZIlZPKpQcBhzWVu9Pcn2nrdKQhvrHGkWbAXeMyZEzxmeulWa1vYbB63gCWW2vY6/hCcXrWFphO432AVf1xHMhsE3f+jTg1sGFquoE4ITRapTGnyTzq2rmWLdDWl5ew5oIvI41EXgdayJIMn+0j7mqD7W9HNgxyQ5J1gEOBs4d4zZJkiRJkvqs0j2eVfVIkvcB5wNrAnOq6toxbpYkSZIkqc8qnXgCVNV5wHlj3Q6New611qrOa1gTgdexJgKvY00Eo34dp+pJc/FIkiRJkrTSrOr3eEqSJEmSxjkTT0mSRJJJSeYluSrJtUn+vsVfluRHSX6S5OQkaw3ab88kjyZ5U1s/O8mBfduvT/K3fetfTfKGJC9Jck+SK5NcneS7SbboK3dgkr9ry3+S5O1Laf+uSU5aKR+GJoQk72/X7bVJ/nzQtr9OUkk2S88dSTZp27Zq217UV35Rkk2TfCTJr9t1+7Mkn0+yRl+5zySZ3Za/kGSXpbTxfUnesXLPXBPJRLqOTTw1JpbwBeekJL9ofwhXJpmxLH9IwxxrpyQXtfquS3JCi/ulR8ttlK/hjyR5YND1eX/f8qPtWFellyC8oG/bVkm+2ZZnJjluKee1TpKLMyi50GrhIeBlVbU7MAPYr11LJwMHV9V04Gbg0IEdkqwJfJLeJH8Dfgi8oG3fFLgfeH7f9ue3MgDfr6oZVbUbvZnqj+gr90HgcwBV9a9VdcqSGl9V1wDTkmy7TGetCSnJdOA9wCxgd+A1SXZs27YBXgH8CqB6951dxuPX6QuAH/P4dbwTcEdV3dm2H1tVM4BdgF2BF7dyU4C9quriVu+7q+qnS2nqHODPVviENSFNtOvYxFNjZagvOHu1bR9oX0RmVNWVy/GHNNhxtD+uqtoZOL5vm196tLxG8xqG3sPK/2qYbQ+2Y+0OfAj4x75tfwn8O0BVza+qJf6PoaoeBi4E3rKkcpp4qmfgB4212+tR4KGq+nmLXwC8sW+3PwW+CtzeF/sB7dpu798ENm8/wOxA73r9Tf+xkwTYALirrT+zHfeOtv6RJH/dli9K8sn2w8/Pk+zdV9U36D1aTdoZuLSqHqiqR4D/Bl7fth1L7//x/ROdDL5uP80T/5v9Q55sHWAS7boF3gR8Z2Bju1ZntuX7kxzTfiC8NMmWAFX1APDLJLNW6Gw1UU2o69jEU2NimC84S5rpann+kAZsBSzsO/Y1gwv4pUfLapSvYej9mviW9kvkkmzI4//zgF6S8B14rJd/oPfzI0nmtOv5piT9CenXgbct5TiagJKsmeRKeonkBcA8YO2BLx30vpBs08pOpfcF6F8HVXMFMD2952u/AJgLXE/vC9QL6P0tDNi7He9XwMvpXecALwR+tISmrlVVs4A/B47ui88H9h56F61mfgLMTm9Y4VOAVwHbJHkd8OuqumpQ+cd66un1Ln2ddq3z5Ov2L9p1exvw86q6ssVfSO/6H8p69BKI3YGL6fViDfC61XAm1HVs4qkxM/gLTlVd1jYdk97Q12OTrNtiy/KHNNixwH8l+XaSv0iycd82v/RouY3iNQy94YpzgPcPsW1yG2r7M+ALwMda+3YA7qqqh4ap81nAK1t7jk6ydov/BNhzKe3RBFRVj7ahV9PoXRfPpvdj2rFJ5gH3AY+04p8BjqyqRwfV8RBwLbAHsBe93v659K7zwT+yDIw62Qb4IvCpFt8KWLSEpn6tvV8BbN8Xvx3YeqTnq4mrqq6jNwz8Ano/vl1F79r9P8DfDbHLPOA5SdYD1m4/LN6U5Bk8+bodGKK4BbBekoEfnJd03T5Mr/cfvG41QhPtOjbx1JgZ/AWnjWP/EL0vw3sCU4AjW/Fl+UMafJwv0vul/SvAS4BL+5IBv/RouY3WNdznOODQJBsOig8MtX0WsB9wSuvFX9p1/K2qGujZvx0YGDLzKPBwkg1G0CZNQFV1N3ARsF9Vza2qvduPbRcDN7RiM4HTk/ySXk/o5/L4pEI/BGYDG1TVXcClPJ54Dvcjy7ltH4AH6Q39Gs7AjymP8sRnkk9q+0pU1YlVtUdVzQYWA78EdgCuatftNOBHSZ7ahgouAN7J4z88X0qvh2kLer32g+v/Pb1kYCTX7e/r8WcYet1qxCbSdWziqTE36AvObW0I40P0EsFZrcwy/yENOsatVTWnqg6g90vR9CGK+aVHy2U0ruG+43wZ+N9LKDMX2AzYnJFfx/Dka3ld4HdLa5MmjiSbD4wISTKZ3iiQn6VNatV+sDuSNrS2qnaoqu2ranvgLOB/V9XXW3U/AN5L79d5gKvp9X5uS683dCgvAm5sy9cBz1iO03gmvR57ib5rd1vgDcApVbVF33W7ENij757jH9AbyTS3rc+lN8rk0r4v2/31h96PKV636sxEuo5NPDUmlvAFZ6sWC3AgT7yAl+kPqe9Y+w0MIUzyVGBT4NdDFPVLj0ZsNK/hQT5N7wv9kLPOJnkWsCZwJ/BzntgjPyLpzUS6qP0Kqv/f3t2EWFnFcRz//rLyhcKIXJhBERUhQRO9WGihWK4riNqEQi4CQSqyiFy4iYJqYUiLsEUQCJpF+VKgZBlWVKROZosKalWJRS+ULbJ/i+cZvY1Nzh29M3X9flb3nnvOuc+Bc2fO/zkvz6ljJrAjySDNYWvbqmozsCLJZzTB46aqenMUdb0LXEzb19tDMQ4AH1XVnx35bmyXie8F7uboAVo7aVYIpMs2LAC2dFlG/Wtjkv005y8sa2ff/80uOvotzU3CCzh2RcrQ3rh9NH+Ln23Tt9CsrOrWXGD7GMrp1NA3/djj8jVRZgIvpDmK/zRgfVVtTvJmkhlAgD3AvR1ldtEM0of/kNYe57sWAauTDM3erKiqb9sB+tAezwA/AUvbPDuBp5Oki4AAHPScSsazDx9RVQeTvALc35E8te3HtN+7uF0u+2uSL5NcUlVfdNG2BcDWLvKrD1TVIHDVP6SvAFYcp+ySYe8P0PTFzrT5w96/BUwfob7fkmwHFgLbq2rVP9XTLhO/CI7MyF5Dc3NHoqr+9cyFdrao8/0GOvptu3Jl8rA8q4BVI9T3TpLHk5xTVT8O66tndbx+iWaVAEmuAj5t+7J0jH7qx+luTC2dOpKsprm7P6q7kO2g521gXnt3X5pwSW4Drq6qlV2UeRl4pKqOu/xX6pU0x/TPqarXRpn/UmBWG9BKEyLJHJp994OjzH8L8HlVfdXTC5O60Kt+bOApjcBBj/pFkqVVNapZ1TSPwLirjvPcWkmSpG4YeKpvJHkUuGNY8oaqemwirkfqln1YkiT1KwNPSZIkSVJPeaqtJEmSJKmnDDwlSZIkST1l4ClJUheSHG6fPbkvyaah57mOsa77kkw7mdcnSdJ/kYGnJEndOVRVA1V1BfADsOwE6roPMPCUJPU9A09JksbuPWAWQBpPtjOhnyS5s02fn2TzUIEka5IsSbIcOB/YkWRH+9miJO8l+TjJhiRntelPJNmfZDDJU+PeSkmSTtDpE30BkiT9HyWZBCwEnm+TbgcGgCuB84APk+wcqXxVPZPkAWBBVR1Mch6wEri5qn5N8jDwQJI1wG3A5VVVJ7K0V5KkieKMpyRJ3ZmaZA/wPXAusK1Nnwesq6rDVfUd8DZwbRf1Xg/MBna19S8GLgR+Bn4H1ia5Hfjt5DRDkqTxY+ApSVJ3DlXVAE1QeCZH93hmhPx/8Pf/t1NGyBdgW7t/dKCqZlfVPVX1B3AdsBG4FXjjhFsgSdI4M/CUJGkMquonYDnwYJIzgJ3AnUkmJZkB3AR8AHwNzE4yOcl0muW5Q34Bzm5fvw/MTXIJQJJpSS5r93lOr6qtNIcRDYxH+yRJOpnc4ylJ0hhV1e4ke4G7gBeBG4C9QAEPVdW3AEnWA4PA58DujiqeA15P8k1VLUiyBFiXZHL7+Uqa4PTVJFNoZkXv733LJEk6uVJVE30NkiRJkqQ+5lJbSZIkSVJPGXhKkiRJknrKwFOSJEmS1FMGnpIkSZKknjLwlCRJkiT1lIGnJEmSJKmnDDwlSZIkST1l4ClJkiRJ6qm/AJRVHcVdK0dkAAAAAElFTkSuQmCC\n",
          "text/plain": "<Figure size 1080x360 with 1 Axes>"
         },
         "metadata": {},
         "output_type": "display_data"
        }
       ]
      }
     },
     "3d1f639158264dca9ef6dd2805de09fe": {
      "model_module": "@jupyter-widgets/base",
      "model_module_version": "1.0.0",
      "model_name": "LayoutModel",
      "state": {}
     },
     "3e1a9d3fb7d2410ebff4e943d2e0db42": {
      "model_module": "@jupyter-widgets/base",
      "model_module_version": "1.0.0",
      "model_name": "LayoutModel",
      "state": {}
     },
     "3e701f15cff642d79bb9e1effc489d39": {
      "model_module": "@jupyter-widgets/controls",
      "model_module_version": "1.2.0",
      "model_name": "VBoxModel",
      "state": {
       "children": [
        "IPY_MODEL_18e0339a5e404a189191e807c137c0b0",
        "IPY_MODEL_c46681075f0341179e4a5feed9538048"
       ],
       "layout": "IPY_MODEL_1c8bae359bfe4ea78399c6081ca2d44b"
      }
     },
     "3fbb48c2adc74d599423c2145cbb0211": {
      "model_module": "@jupyter-widgets/base",
      "model_module_version": "1.0.0",
      "model_name": "LayoutModel",
      "state": {}
     },
     "426846db472c4b0b92383b09bc6b7f1d": {
      "model_module": "@jupyter-widgets/controls",
      "model_module_version": "1.2.0",
      "model_name": "DescriptionStyleModel",
      "state": {
       "description_width": ""
      }
     },
     "42b8542c3270479dbffbb32b0afe71f6": {
      "model_module": "@jupyter-widgets/base",
      "model_module_version": "1.0.0",
      "model_name": "LayoutModel",
      "state": {}
     },
     "454723e1d84540ec93f60a5612710ffb": {
      "model_module": "@jupyter-widgets/controls",
      "model_module_version": "1.2.0",
      "model_name": "VBoxModel",
      "state": {
       "children": [
        "IPY_MODEL_c88b7fd6584843c990db5f5382b9eba1",
        "IPY_MODEL_03e58441e699490cb084d2bdee072b31"
       ],
       "layout": "IPY_MODEL_42b8542c3270479dbffbb32b0afe71f6"
      }
     },
     "52b71513d35f425a90d763f37bc9d323": {
      "model_module": "@jupyter-widgets/controls",
      "model_module_version": "1.2.0",
      "model_name": "DropdownModel",
      "state": {
       "_options_labels": [
        "October Wed 2018",
        "Vikings Opener",
        "Basilica Block Party 2018",
        "2018 Twins Opener",
        "Super Bowl",
        "Vikings & New Years Eve",
        "Packers at Vikings",
        "October Wed 2017",
        "October Wed 2016",
        "US Bank 1st Concert",
        "October Wed 2015",
        "October Wed 2014"
       ],
       "description": "event",
       "index": 0,
       "layout": "IPY_MODEL_d69b1149b4254dfe99f9f016c48d7473",
       "style": "IPY_MODEL_ceb66734d55248f08f4ceadc71931cf4"
      }
     },
     "55313713367e47898f9de30371c438ad": {
      "model_module": "@jupyter-widgets/base",
      "model_module_version": "1.0.0",
      "model_name": "LayoutModel",
      "state": {}
     },
     "576e7979fcea44f088afad7214239b21": {
      "model_module": "@jupyter-widgets/base",
      "model_module_version": "1.0.0",
      "model_name": "LayoutModel",
      "state": {}
     },
     "59065c432c9742d68ed43be1b7fff588": {
      "model_module": "@jupyter-widgets/controls",
      "model_module_version": "1.2.0",
      "model_name": "DropdownModel",
      "state": {
       "_options_labels": [
        "October Wed 2018",
        "Vikings Opener",
        "Basilica Block Party 2018",
        "2018 Twins Opener",
        "Super Bowl",
        "Vikings & New Years Eve",
        "Packers at Vikings",
        "October Wed 2017",
        "October Wed 2016",
        "US Bank 1st Concert",
        "October Wed 2015",
        "October Wed 2014"
       ],
       "description": "event",
       "index": 0,
       "layout": "IPY_MODEL_b0950d5038eb4bcf99f8f4a10288c4f4",
       "style": "IPY_MODEL_742a41c5243245dc975170bbf9293131"
      }
     },
     "591eff52207f48cba2e93c0496b3de1d": {
      "model_module": "@jupyter-widgets/controls",
      "model_module_version": "1.2.0",
      "model_name": "DescriptionStyleModel",
      "state": {
       "description_width": ""
      }
     },
     "59d6cdd190fd425cb08e689da295a05c": {
      "model_module": "@jupyter-widgets/controls",
      "model_module_version": "1.2.0",
      "model_name": "DescriptionStyleModel",
      "state": {
       "description_width": ""
      }
     },
     "5f11a4a0761444a79ef24eda91bdb867": {
      "model_module": "@jupyter-widgets/controls",
      "model_module_version": "1.2.0",
      "model_name": "DescriptionStyleModel",
      "state": {
       "description_width": ""
      }
     },
     "5fde700a35da4546befe0f4a9f763e0d": {
      "model_module": "@jupyter-widgets/base",
      "model_module_version": "1.0.0",
      "model_name": "LayoutModel",
      "state": {}
     },
     "62cbd5672ec04b3992a03ac757c50c86": {
      "model_module": "@jupyter-widgets/base",
      "model_module_version": "1.0.0",
      "model_name": "LayoutModel",
      "state": {}
     },
     "63014a4f95d04afc858d27785c056dbe": {
      "model_module": "@jupyter-widgets/base",
      "model_module_version": "1.0.0",
      "model_name": "LayoutModel",
      "state": {}
     },
     "63ede9248a3d438eb3bc3d67f5fa7cbb": {
      "model_module": "@jupyter-widgets/output",
      "model_module_version": "1.0.0",
      "model_name": "OutputModel",
      "state": {
       "layout": "IPY_MODEL_04867a77d82443f39eeef8351f082c8a",
       "outputs": [
        {
         "data": {
          "image/png": "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\n",
          "text/plain": "<Figure size 1080x360 with 1 Axes>"
         },
         "metadata": {},
         "output_type": "display_data"
        }
       ]
      }
     },
     "68d2516fa2134f31858aabefc16daeed": {
      "model_module": "@jupyter-widgets/output",
      "model_module_version": "1.0.0",
      "model_name": "OutputModel",
      "state": {
       "layout": "IPY_MODEL_067bf10d6173401398bce09bcfd5a587",
       "outputs": [
        {
         "ename": "NameError",
         "evalue": "name 's' is not defined",
         "output_type": "error",
         "traceback": [
          "\u001b[0;31m---------------------------------------------------------------------------\u001b[0m",
          "\u001b[0;31mNameError\u001b[0m                                 Traceback (most recent call last)",
          "\u001b[0;32m~/anaconda3/envs/PythonData/lib/python3.6/site-packages/ipywidgets/widgets/interaction.py\u001b[0m in \u001b[0;36mobserver\u001b[0;34m(change)\u001b[0m\n\u001b[1;32m     72\u001b[0m         \u001b[0;32mwith\u001b[0m \u001b[0mout\u001b[0m\u001b[0;34m:\u001b[0m\u001b[0;34m\u001b[0m\u001b[0m\n\u001b[1;32m     73\u001b[0m             \u001b[0mclear_output\u001b[0m\u001b[0;34m(\u001b[0m\u001b[0mwait\u001b[0m\u001b[0;34m=\u001b[0m\u001b[0;32mTrue\u001b[0m\u001b[0;34m)\u001b[0m\u001b[0;34m\u001b[0m\u001b[0m\n\u001b[0;32m---> 74\u001b[0;31m             \u001b[0mf\u001b[0m\u001b[0;34m(\u001b[0m\u001b[0;34m**\u001b[0m\u001b[0mkwargs\u001b[0m\u001b[0;34m)\u001b[0m\u001b[0;34m\u001b[0m\u001b[0m\n\u001b[0m\u001b[1;32m     75\u001b[0m             \u001b[0mshow_inline_matplotlib_plots\u001b[0m\u001b[0;34m(\u001b[0m\u001b[0;34m)\u001b[0m\u001b[0;34m\u001b[0m\u001b[0m\n\u001b[1;32m     76\u001b[0m     \u001b[0;32mfor\u001b[0m \u001b[0mk\u001b[0m\u001b[0;34m,\u001b[0m\u001b[0mw\u001b[0m \u001b[0;32min\u001b[0m \u001b[0mcontrols\u001b[0m\u001b[0;34m.\u001b[0m\u001b[0mitems\u001b[0m\u001b[0;34m(\u001b[0m\u001b[0;34m)\u001b[0m\u001b[0;34m:\u001b[0m\u001b[0;34m\u001b[0m\u001b[0m\n",
          "\u001b[0;32m<ipython-input-57-f53c3193596c>\u001b[0m in \u001b[0;36mplot_flow_event\u001b[0;34m(b)\u001b[0m\n\u001b[1;32m     35\u001b[0m \u001b[0;31m#     fig, ax = plt.subplots(figsize=(15,5))\u001b[0m\u001b[0;34m\u001b[0m\u001b[0;34m\u001b[0m\u001b[0m\n\u001b[1;32m     36\u001b[0m \u001b[0;31m#     ax.bar(aa[\"Sensor\"],aa[\"Volume\"])\u001b[0m\u001b[0;34m\u001b[0m\u001b[0;34m\u001b[0m\u001b[0m\n\u001b[0;32m---> 37\u001b[0;31m     \u001b[0max\u001b[0m\u001b[0;34m.\u001b[0m\u001b[0mset_xticklabels\u001b[0m\u001b[0;34m(\u001b[0m\u001b[0mindex\u001b[0m\u001b[0;34m,\u001b[0m\u001b[0mindex\u001b[0m\u001b[0;34m,\u001b[0m\u001b[0ms\u001b[0m\u001b[0;34m,\u001b[0m\u001b[0mrotation\u001b[0m\u001b[0;34m=\u001b[0m\u001b[0;36m45\u001b[0m\u001b[0;34m,\u001b[0m\u001b[0mha\u001b[0m\u001b[0;34m=\u001b[0m\u001b[0;34m\"right\"\u001b[0m\u001b[0;34m)\u001b[0m\u001b[0;34m\u001b[0m\u001b[0m\n\u001b[0m\u001b[1;32m     38\u001b[0m     \u001b[0;31m#ax.set_xticklabels(index+bar_width,aa[\"sensor_fromto\"],rotation=45,ha=\"right\")\u001b[0m\u001b[0;34m\u001b[0m\u001b[0;34m\u001b[0m\u001b[0m\n\u001b[1;32m     39\u001b[0m     \u001b[0max\u001b[0m\u001b[0;34m.\u001b[0m\u001b[0mset_ylabel\u001b[0m\u001b[0;34m(\u001b[0m\u001b[0;34m\"vehicle flow\"\u001b[0m\u001b[0;34m)\u001b[0m\u001b[0;34m\u001b[0m\u001b[0m\n",
          "\u001b[0;31mNameError\u001b[0m: name 's' is not defined"
         ]
        }
       ]
      }
     },
     "6d2b2b929bcc46799610956580005efc": {
      "model_module": "@jupyter-widgets/controls",
      "model_module_version": "1.2.0",
      "model_name": "DropdownModel",
      "state": {
       "_options_labels": [
        "October Wed 2018",
        "Vikings Opener",
        "Basilica Block Party 2018",
        "2018 Twins Opener",
        "Super Bowl",
        "Vikings & New Years Eve",
        "Packers at Vikings",
        "October Wed 2017",
        "October Wed 2016",
        "US Bank 1st Concert",
        "October Wed 2015",
        "October Wed 2014"
       ],
       "description": "event",
       "index": 3,
       "layout": "IPY_MODEL_55313713367e47898f9de30371c438ad",
       "style": "IPY_MODEL_591eff52207f48cba2e93c0496b3de1d"
      }
     },
     "70fccfc5995a4e89947999f52b9ea651": {
      "model_module": "@jupyter-widgets/controls",
      "model_module_version": "1.2.0",
      "model_name": "VBoxModel",
      "state": {
       "children": [
        "IPY_MODEL_59065c432c9742d68ed43be1b7fff588",
        "IPY_MODEL_07a76508b35341868683c92a9fe38ea6"
       ],
       "layout": "IPY_MODEL_edc4adc4090649f0b31c5da6e23100f8"
      }
     },
     "742a41c5243245dc975170bbf9293131": {
      "model_module": "@jupyter-widgets/controls",
      "model_module_version": "1.2.0",
      "model_name": "DescriptionStyleModel",
      "state": {
       "description_width": ""
      }
     },
     "7562435b4cda46a39c498be0d81b8652": {
      "model_module": "@jupyter-widgets/controls",
      "model_module_version": "1.2.0",
      "model_name": "DropdownModel",
      "state": {
       "_options_labels": [
        "October Wed 2018",
        "Vikings Opener",
        "Basilica Block Party 2018",
        "2018 Twins Opener",
        "Super Bowl",
        "Vikings & New Years Eve",
        "Packers at Vikings",
        "October Wed 2017",
        "October Wed 2016",
        "US Bank 1st Concert",
        "October Wed 2015",
        "October Wed 2014"
       ],
       "description": "event",
       "index": 8,
       "layout": "IPY_MODEL_7e3b2c2a67394f8daf8d6937db842a16",
       "style": "IPY_MODEL_0e942995b1ee41ceb596789579755f8d"
      }
     },
     "75e24f8729d64ca6ba2dab90a8923303": {
      "model_module": "@jupyter-widgets/controls",
      "model_module_version": "1.2.0",
      "model_name": "DescriptionStyleModel",
      "state": {
       "description_width": ""
      }
     },
     "7b3cfbb2e0e64f3d87a5fadac7a4b7c3": {
      "model_module": "@jupyter-widgets/controls",
      "model_module_version": "1.2.0",
      "model_name": "DescriptionStyleModel",
      "state": {
       "description_width": ""
      }
     },
     "7bb618b99de04323986f93e12c622843": {
      "model_module": "@jupyter-widgets/base",
      "model_module_version": "1.0.0",
      "model_name": "LayoutModel",
      "state": {}
     },
     "7dfb39367bf54a3faea5e0e57b41157a": {
      "model_module": "@jupyter-widgets/output",
      "model_module_version": "1.0.0",
      "model_name": "OutputModel",
      "state": {
       "layout": "IPY_MODEL_20ac619a2cce4b33ae7dbf14779559fe",
       "outputs": [
        {
         "data": {
          "image/png": "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\n",
          "text/plain": "<Figure size 1080x216 with 1 Axes>"
         },
         "metadata": {},
         "output_type": "display_data"
        }
       ]
      }
     },
     "7e3b2c2a67394f8daf8d6937db842a16": {
      "model_module": "@jupyter-widgets/base",
      "model_module_version": "1.0.0",
      "model_name": "LayoutModel",
      "state": {}
     },
     "801ea8cde169488fb01f140dc3cf73be": {
      "model_module": "@jupyter-widgets/controls",
      "model_module_version": "1.2.0",
      "model_name": "DescriptionStyleModel",
      "state": {
       "description_width": ""
      }
     },
     "82093164eb8a41ecbb3cc8726060c228": {
      "model_module": "@jupyter-widgets/base",
      "model_module_version": "1.0.0",
      "model_name": "LayoutModel",
      "state": {}
     },
     "83250e5b964f434b8a02465dc71752ec": {
      "model_module": "@jupyter-widgets/controls",
      "model_module_version": "1.2.0",
      "model_name": "DescriptionStyleModel",
      "state": {
       "description_width": ""
      }
     },
     "84088c9466e640d3bd6a2b0f605e3031": {
      "model_module": "@jupyter-widgets/base",
      "model_module_version": "1.0.0",
      "model_name": "LayoutModel",
      "state": {}
     },
     "855e5d5fc7cc4ed2ac1ab12ed5265239": {
      "model_module": "@jupyter-widgets/base",
      "model_module_version": "1.0.0",
      "model_name": "LayoutModel",
      "state": {}
     },
     "914b2f69746049029104668917ccd291": {
      "model_module": "@jupyter-widgets/controls",
      "model_module_version": "1.2.0",
      "model_name": "VBoxModel",
      "state": {
       "children": [
        "IPY_MODEL_d6a6e1f71e79493ebfe2c6211c12335f",
        "IPY_MODEL_ac85f618cfad42848486f8e2ed259590"
       ],
       "layout": "IPY_MODEL_b51e02a6612249c0b366fb13bf6d3870"
      }
     },
     "92692414dd8e4310b58a6de932507689": {
      "model_module": "@jupyter-widgets/base",
      "model_module_version": "1.0.0",
      "model_name": "LayoutModel",
      "state": {}
     },
     "95943429f58d46c899c22201a970d9c0": {
      "model_module": "@jupyter-widgets/base",
      "model_module_version": "1.0.0",
      "model_name": "LayoutModel",
      "state": {}
     },
     "966f299174fa40338f7ed69bbcc6224c": {
      "model_module": "@jupyter-widgets/controls",
      "model_module_version": "1.2.0",
      "model_name": "VBoxModel",
      "state": {
       "children": [
        "IPY_MODEL_6d2b2b929bcc46799610956580005efc",
        "IPY_MODEL_dc5667ce69864d3fa3faf2593ef00ab2"
       ],
       "layout": "IPY_MODEL_3b0d4dccb0a14ed5928a70ae6c6accdc"
      }
     },
     "9a5cc67f7b1c4366b01dbd1f9a5b1365": {
      "model_module": "@jupyter-widgets/controls",
      "model_module_version": "1.2.0",
      "model_name": "DescriptionStyleModel",
      "state": {
       "description_width": ""
      }
     },
     "9af999054a184e1481a58e961292a4bf": {
      "model_module": "@jupyter-widgets/controls",
      "model_module_version": "1.2.0",
      "model_name": "VBoxModel",
      "state": {
       "children": [
        "IPY_MODEL_7562435b4cda46a39c498be0d81b8652",
        "IPY_MODEL_63ede9248a3d438eb3bc3d67f5fa7cbb"
       ],
       "layout": "IPY_MODEL_d0e99173289c4066bc5f56e22e99ee54"
      }
     },
     "9b55544ae94d42b4a2cf1432d7874e53": {
      "model_module": "@jupyter-widgets/controls",
      "model_module_version": "1.2.0",
      "model_name": "DropdownModel",
      "state": {
       "_options_labels": [
        "October Wed 2018",
        "Vikings Opener",
        "Basilica Block Party 2018",
        "2018 Twins Opener",
        "Super Bowl",
        "Vikings & New Years Eve",
        "Packers at Vikings",
        "October Wed 2017",
        "October Wed 2016",
        "US Bank 1st Concert",
        "October Wed 2015",
        "October Wed 2014"
       ],
       "description": "event",
       "index": 0,
       "layout": "IPY_MODEL_62cbd5672ec04b3992a03ac757c50c86",
       "style": "IPY_MODEL_1a0e204f5c154964927dc452a7aad2e3"
      }
     },
     "9d890c207f3e4373bd47ad83e3c20b74": {
      "model_module": "@jupyter-widgets/base",
      "model_module_version": "1.0.0",
      "model_name": "LayoutModel",
      "state": {}
     },
     "a03c0d9325e142da899922d0ce4081e7": {
      "model_module": "@jupyter-widgets/base",
      "model_module_version": "1.0.0",
      "model_name": "LayoutModel",
      "state": {}
     },
     "a1ed0b5f4b434067848e374acaca7b86": {
      "model_module": "@jupyter-widgets/controls",
      "model_module_version": "1.2.0",
      "model_name": "DescriptionStyleModel",
      "state": {
       "description_width": ""
      }
     },
     "a2d1be881e444947a754a170a979757a": {
      "model_module": "@jupyter-widgets/controls",
      "model_module_version": "1.2.0",
      "model_name": "DropdownModel",
      "state": {
       "_options_labels": [
        "S125(94 WB)",
        "S137(94 EB)",
        "S2(35W SB)",
        "S285(394 WB)",
        "S286(394 EB)",
        "S553(94 WB)",
        "S554(94 EB)",
        "S569(35W NB)",
        "S582(35W SB)",
        "S64(35W NB)"
       ],
       "description": "Sensor",
       "index": 0,
       "layout": "IPY_MODEL_3d1f639158264dca9ef6dd2805de09fe",
       "style": "IPY_MODEL_7b3cfbb2e0e64f3d87a5fadac7a4b7c3"
      }
     },
     "a5984447e30f46a2b964ebd36155a9c5": {
      "model_module": "@jupyter-widgets/output",
      "model_module_version": "1.0.0",
      "model_name": "OutputModel",
      "state": {
       "layout": "IPY_MODEL_a6d4cbfbbcf747548f9f25aa305b3592",
       "outputs": [
        {
         "data": {
          "image/png": "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\n",
          "text/plain": "<Figure size 1080x360 with 1 Axes>"
         },
         "metadata": {},
         "output_type": "display_data"
        }
       ]
      }
     },
     "a6d4cbfbbcf747548f9f25aa305b3592": {
      "model_module": "@jupyter-widgets/base",
      "model_module_version": "1.0.0",
      "model_name": "LayoutModel",
      "state": {}
     },
     "ab6b40e571eb4fc6894e6c3e70f9c0d7": {
      "model_module": "@jupyter-widgets/controls",
      "model_module_version": "1.2.0",
      "model_name": "VBoxModel",
      "state": {
       "children": [
        "IPY_MODEL_52b71513d35f425a90d763f37bc9d323",
        "IPY_MODEL_2b3a1481cc684521b0a2a5c61417e6df"
       ],
       "layout": "IPY_MODEL_de2b2b8605464bf38acf40850079f63f"
      }
     },
     "ac85f618cfad42848486f8e2ed259590": {
      "model_module": "@jupyter-widgets/output",
      "model_module_version": "1.0.0",
      "model_name": "OutputModel",
      "state": {
       "layout": "IPY_MODEL_001c2b633c204b458fee399fe17cd8c6",
       "outputs": [
        {
         "data": {
          "image/png": "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\n",
          "text/plain": "<Figure size 1080x360 with 1 Axes>"
         },
         "metadata": {},
         "output_type": "display_data"
        }
       ]
      }
     },
     "ad559bbbe9c04d319fc8f9a86b524a58": {
      "model_module": "@jupyter-widgets/base",
      "model_module_version": "1.0.0",
      "model_name": "LayoutModel",
      "state": {}
     },
     "aee6ad65ee25483b9c15479f96a7baa4": {
      "model_module": "@jupyter-widgets/controls",
      "model_module_version": "1.2.0",
      "model_name": "DropdownModel",
      "state": {
       "_options_labels": [
        "October Wed 2018",
        "Vikings Opener",
        "Basilica Block Party 2018",
        "2018 Twins Opener",
        "Super Bowl",
        "Vikings & New Years Eve",
        "Packers at Vikings",
        "October Wed 2017",
        "October Wed 2016",
        "US Bank 1st Concert",
        "October Wed 2015",
        "October Wed 2014"
       ],
       "description": "event",
       "index": 8,
       "layout": "IPY_MODEL_d8275adbf96340dd975c0405ef921a81",
       "style": "IPY_MODEL_0f6e6fcdbfb04c89baf9f771c2da7917"
      }
     },
     "af23cfbd6acc429eb2ead11ebdedb4a5": {
      "model_module": "@jupyter-widgets/base",
      "model_module_version": "1.0.0",
      "model_name": "LayoutModel",
      "state": {}
     },
     "af9b8f2970264e46ae1f2508979c0ca5": {
      "model_module": "@jupyter-widgets/base",
      "model_module_version": "1.0.0",
      "model_name": "LayoutModel",
      "state": {}
     },
     "b0950d5038eb4bcf99f8f4a10288c4f4": {
      "model_module": "@jupyter-widgets/base",
      "model_module_version": "1.0.0",
      "model_name": "LayoutModel",
      "state": {}
     },
     "b14138a3134849ce90ff51313b3ca755": {
      "model_module": "@jupyter-widgets/base",
      "model_module_version": "1.0.0",
      "model_name": "LayoutModel",
      "state": {}
     },
     "b4b9f2f9f0b14e93bae6a18d7c8852b3": {
      "model_module": "@jupyter-widgets/output",
      "model_module_version": "1.0.0",
      "model_name": "OutputModel",
      "state": {
       "layout": "IPY_MODEL_84088c9466e640d3bd6a2b0f605e3031",
       "outputs": [
        {
         "ename": "AttributeError",
         "evalue": "Unknown property s64",
         "output_type": "error",
         "traceback": [
          "\u001b[0;31m---------------------------------------------------------------------------\u001b[0m",
          "\u001b[0;31mAttributeError\u001b[0m                            Traceback (most recent call last)",
          "\u001b[0;32m~/anaconda3/envs/PythonData/lib/python3.6/site-packages/ipywidgets/widgets/interaction.py\u001b[0m in \u001b[0;36mobserver\u001b[0;34m(change)\u001b[0m\n\u001b[1;32m     72\u001b[0m         \u001b[0;32mwith\u001b[0m \u001b[0mout\u001b[0m\u001b[0;34m:\u001b[0m\u001b[0;34m\u001b[0m\u001b[0m\n\u001b[1;32m     73\u001b[0m             \u001b[0mclear_output\u001b[0m\u001b[0;34m(\u001b[0m\u001b[0mwait\u001b[0m\u001b[0;34m=\u001b[0m\u001b[0;32mTrue\u001b[0m\u001b[0;34m)\u001b[0m\u001b[0;34m\u001b[0m\u001b[0m\n\u001b[0;32m---> 74\u001b[0;31m             \u001b[0mf\u001b[0m\u001b[0;34m(\u001b[0m\u001b[0;34m**\u001b[0m\u001b[0mkwargs\u001b[0m\u001b[0;34m)\u001b[0m\u001b[0;34m\u001b[0m\u001b[0m\n\u001b[0m\u001b[1;32m     75\u001b[0m             \u001b[0mshow_inline_matplotlib_plots\u001b[0m\u001b[0;34m(\u001b[0m\u001b[0;34m)\u001b[0m\u001b[0;34m\u001b[0m\u001b[0m\n\u001b[1;32m     76\u001b[0m     \u001b[0;32mfor\u001b[0m \u001b[0mk\u001b[0m\u001b[0;34m,\u001b[0m\u001b[0mw\u001b[0m \u001b[0;32min\u001b[0m \u001b[0mcontrols\u001b[0m\u001b[0;34m.\u001b[0m\u001b[0mitems\u001b[0m\u001b[0;34m(\u001b[0m\u001b[0;34m)\u001b[0m\u001b[0;34m:\u001b[0m\u001b[0;34m\u001b[0m\u001b[0m\n",
          "\u001b[0;32m<ipython-input-54-66ea1c94a737>\u001b[0m in \u001b[0;36mplot_flow_event\u001b[0;34m(b)\u001b[0m\n\u001b[1;32m     35\u001b[0m \u001b[0;31m#     fig, ax = plt.subplots(figsize=(15,5))\u001b[0m\u001b[0;34m\u001b[0m\u001b[0;34m\u001b[0m\u001b[0m\n\u001b[1;32m     36\u001b[0m \u001b[0;31m#     ax.bar(aa[\"Sensor\"],aa[\"Volume\"])\u001b[0m\u001b[0;34m\u001b[0m\u001b[0;34m\u001b[0m\u001b[0m\n\u001b[0;32m---> 37\u001b[0;31m     \u001b[0max\u001b[0m\u001b[0;34m.\u001b[0m\u001b[0mset_xticklabels\u001b[0m\u001b[0;34m(\u001b[0m\u001b[0mindex\u001b[0m\u001b[0;34m,\u001b[0m\u001b[0msensors_in\u001b[0m\u001b[0;34m,\u001b[0m\u001b[0mrotation\u001b[0m\u001b[0;34m=\u001b[0m\u001b[0;36m45\u001b[0m\u001b[0;34m,\u001b[0m\u001b[0mha\u001b[0m\u001b[0;34m=\u001b[0m\u001b[0;34m\"right\"\u001b[0m\u001b[0;34m)\u001b[0m\u001b[0;34m\u001b[0m\u001b[0m\n\u001b[0m\u001b[1;32m     38\u001b[0m     \u001b[0;31m#ax.set_xticklabels(index+bar_width,aa[\"sensor_fromto\"],rotation=45,ha=\"right\")\u001b[0m\u001b[0;34m\u001b[0m\u001b[0;34m\u001b[0m\u001b[0m\n\u001b[1;32m     39\u001b[0m     \u001b[0max\u001b[0m\u001b[0;34m.\u001b[0m\u001b[0mset_ylabel\u001b[0m\u001b[0;34m(\u001b[0m\u001b[0;34m\"vehicle flow\"\u001b[0m\u001b[0;34m)\u001b[0m\u001b[0;34m\u001b[0m\u001b[0m\n",
          "\u001b[0;32m~/anaconda3/envs/PythonData/lib/python3.6/site-packages/matplotlib/axes/_base.py\u001b[0m in \u001b[0;36mset_xticklabels\u001b[0;34m(self, labels, fontdict, minor, **kwargs)\u001b[0m\n\u001b[1;32m   3314\u001b[0m             \u001b[0mkwargs\u001b[0m\u001b[0;34m.\u001b[0m\u001b[0mupdate\u001b[0m\u001b[0;34m(\u001b[0m\u001b[0mfontdict\u001b[0m\u001b[0;34m)\u001b[0m\u001b[0;34m\u001b[0m\u001b[0m\n\u001b[1;32m   3315\u001b[0m         ret = self.xaxis.set_ticklabels(labels,\n\u001b[0;32m-> 3316\u001b[0;31m                                         minor=minor, **kwargs)\n\u001b[0m\u001b[1;32m   3317\u001b[0m         \u001b[0mself\u001b[0m\u001b[0;34m.\u001b[0m\u001b[0mstale\u001b[0m \u001b[0;34m=\u001b[0m \u001b[0;32mTrue\u001b[0m\u001b[0;34m\u001b[0m\u001b[0m\n\u001b[1;32m   3318\u001b[0m         \u001b[0;32mreturn\u001b[0m \u001b[0mret\u001b[0m\u001b[0;34m\u001b[0m\u001b[0m\n",
          "\u001b[0;32m~/anaconda3/envs/PythonData/lib/python3.6/site-packages/matplotlib/axis.py\u001b[0m in \u001b[0;36mset_ticklabels\u001b[0;34m(self, ticklabels, minor, *args, **kwargs)\u001b[0m\n\u001b[1;32m   1682\u001b[0m             \u001b[0;31m# deal with label1\u001b[0m\u001b[0;34m\u001b[0m\u001b[0;34m\u001b[0m\u001b[0m\n\u001b[1;32m   1683\u001b[0m             \u001b[0mtick\u001b[0m\u001b[0;34m.\u001b[0m\u001b[0mlabel1\u001b[0m\u001b[0;34m.\u001b[0m\u001b[0mset_text\u001b[0m\u001b[0;34m(\u001b[0m\u001b[0mtick_label\u001b[0m\u001b[0;34m)\u001b[0m\u001b[0;34m\u001b[0m\u001b[0m\n\u001b[0;32m-> 1684\u001b[0;31m             \u001b[0mtick\u001b[0m\u001b[0;34m.\u001b[0m\u001b[0mlabel1\u001b[0m\u001b[0;34m.\u001b[0m\u001b[0mupdate\u001b[0m\u001b[0;34m(\u001b[0m\u001b[0mkwargs\u001b[0m\u001b[0;34m)\u001b[0m\u001b[0;34m\u001b[0m\u001b[0m\n\u001b[0m\u001b[1;32m   1685\u001b[0m             \u001b[0;31m# deal with label2\u001b[0m\u001b[0;34m\u001b[0m\u001b[0;34m\u001b[0m\u001b[0m\n\u001b[1;32m   1686\u001b[0m             \u001b[0mtick\u001b[0m\u001b[0;34m.\u001b[0m\u001b[0mlabel2\u001b[0m\u001b[0;34m.\u001b[0m\u001b[0mset_text\u001b[0m\u001b[0;34m(\u001b[0m\u001b[0mtick_label\u001b[0m\u001b[0;34m)\u001b[0m\u001b[0;34m\u001b[0m\u001b[0m\n",
          "\u001b[0;32m~/anaconda3/envs/PythonData/lib/python3.6/site-packages/matplotlib/text.py\u001b[0m in \u001b[0;36mupdate\u001b[0;34m(self, kwargs)\u001b[0m\n\u001b[1;32m    185\u001b[0m         \u001b[0msentinel\u001b[0m \u001b[0;34m=\u001b[0m \u001b[0mobject\u001b[0m\u001b[0;34m(\u001b[0m\u001b[0;34m)\u001b[0m  \u001b[0;31m# bbox can be None, so use another sentinel.\u001b[0m\u001b[0;34m\u001b[0m\u001b[0m\n\u001b[1;32m    186\u001b[0m         \u001b[0mbbox\u001b[0m \u001b[0;34m=\u001b[0m \u001b[0mkwargs\u001b[0m\u001b[0;34m.\u001b[0m\u001b[0mpop\u001b[0m\u001b[0;34m(\u001b[0m\u001b[0;34m\"bbox\"\u001b[0m\u001b[0;34m,\u001b[0m \u001b[0msentinel\u001b[0m\u001b[0;34m)\u001b[0m\u001b[0;34m\u001b[0m\u001b[0m\n\u001b[0;32m--> 187\u001b[0;31m         \u001b[0msuper\u001b[0m\u001b[0;34m(\u001b[0m\u001b[0;34m)\u001b[0m\u001b[0;34m.\u001b[0m\u001b[0mupdate\u001b[0m\u001b[0;34m(\u001b[0m\u001b[0mkwargs\u001b[0m\u001b[0;34m)\u001b[0m\u001b[0;34m\u001b[0m\u001b[0m\n\u001b[0m\u001b[1;32m    188\u001b[0m         \u001b[0;32mif\u001b[0m \u001b[0mbbox\u001b[0m \u001b[0;32mis\u001b[0m \u001b[0;32mnot\u001b[0m \u001b[0msentinel\u001b[0m\u001b[0;34m:\u001b[0m\u001b[0;34m\u001b[0m\u001b[0m\n\u001b[1;32m    189\u001b[0m             \u001b[0mself\u001b[0m\u001b[0;34m.\u001b[0m\u001b[0mset_bbox\u001b[0m\u001b[0;34m(\u001b[0m\u001b[0mbbox\u001b[0m\u001b[0;34m)\u001b[0m\u001b[0;34m\u001b[0m\u001b[0m\n",
          "\u001b[0;32m~/anaconda3/envs/PythonData/lib/python3.6/site-packages/matplotlib/artist.py\u001b[0m in \u001b[0;36mupdate\u001b[0;34m(self, props)\u001b[0m\n\u001b[1;32m    914\u001b[0m \u001b[0;34m\u001b[0m\u001b[0m\n\u001b[1;32m    915\u001b[0m         \u001b[0;32mwith\u001b[0m \u001b[0mcbook\u001b[0m\u001b[0;34m.\u001b[0m\u001b[0m_setattr_cm\u001b[0m\u001b[0;34m(\u001b[0m\u001b[0mself\u001b[0m\u001b[0;34m,\u001b[0m \u001b[0meventson\u001b[0m\u001b[0;34m=\u001b[0m\u001b[0;32mFalse\u001b[0m\u001b[0;34m)\u001b[0m\u001b[0;34m:\u001b[0m\u001b[0;34m\u001b[0m\u001b[0m\n\u001b[0;32m--> 916\u001b[0;31m             \u001b[0mret\u001b[0m \u001b[0;34m=\u001b[0m \u001b[0;34m[\u001b[0m\u001b[0m_update_property\u001b[0m\u001b[0;34m(\u001b[0m\u001b[0mself\u001b[0m\u001b[0;34m,\u001b[0m \u001b[0mk\u001b[0m\u001b[0;34m,\u001b[0m \u001b[0mv\u001b[0m\u001b[0;34m)\u001b[0m \u001b[0;32mfor\u001b[0m \u001b[0mk\u001b[0m\u001b[0;34m,\u001b[0m \u001b[0mv\u001b[0m \u001b[0;32min\u001b[0m \u001b[0mprops\u001b[0m\u001b[0;34m.\u001b[0m\u001b[0mitems\u001b[0m\u001b[0;34m(\u001b[0m\u001b[0;34m)\u001b[0m\u001b[0;34m]\u001b[0m\u001b[0;34m\u001b[0m\u001b[0m\n\u001b[0m\u001b[1;32m    917\u001b[0m \u001b[0;34m\u001b[0m\u001b[0m\n\u001b[1;32m    918\u001b[0m         \u001b[0;32mif\u001b[0m \u001b[0mlen\u001b[0m\u001b[0;34m(\u001b[0m\u001b[0mret\u001b[0m\u001b[0;34m)\u001b[0m\u001b[0;34m:\u001b[0m\u001b[0;34m\u001b[0m\u001b[0m\n",
          "\u001b[0;32m~/anaconda3/envs/PythonData/lib/python3.6/site-packages/matplotlib/artist.py\u001b[0m in \u001b[0;36m<listcomp>\u001b[0;34m(.0)\u001b[0m\n\u001b[1;32m    914\u001b[0m \u001b[0;34m\u001b[0m\u001b[0m\n\u001b[1;32m    915\u001b[0m         \u001b[0;32mwith\u001b[0m \u001b[0mcbook\u001b[0m\u001b[0;34m.\u001b[0m\u001b[0m_setattr_cm\u001b[0m\u001b[0;34m(\u001b[0m\u001b[0mself\u001b[0m\u001b[0;34m,\u001b[0m \u001b[0meventson\u001b[0m\u001b[0;34m=\u001b[0m\u001b[0;32mFalse\u001b[0m\u001b[0;34m)\u001b[0m\u001b[0;34m:\u001b[0m\u001b[0;34m\u001b[0m\u001b[0m\n\u001b[0;32m--> 916\u001b[0;31m             \u001b[0mret\u001b[0m \u001b[0;34m=\u001b[0m \u001b[0;34m[\u001b[0m\u001b[0m_update_property\u001b[0m\u001b[0;34m(\u001b[0m\u001b[0mself\u001b[0m\u001b[0;34m,\u001b[0m \u001b[0mk\u001b[0m\u001b[0;34m,\u001b[0m \u001b[0mv\u001b[0m\u001b[0;34m)\u001b[0m \u001b[0;32mfor\u001b[0m \u001b[0mk\u001b[0m\u001b[0;34m,\u001b[0m \u001b[0mv\u001b[0m \u001b[0;32min\u001b[0m \u001b[0mprops\u001b[0m\u001b[0;34m.\u001b[0m\u001b[0mitems\u001b[0m\u001b[0;34m(\u001b[0m\u001b[0;34m)\u001b[0m\u001b[0;34m]\u001b[0m\u001b[0;34m\u001b[0m\u001b[0m\n\u001b[0m\u001b[1;32m    917\u001b[0m \u001b[0;34m\u001b[0m\u001b[0m\n\u001b[1;32m    918\u001b[0m         \u001b[0;32mif\u001b[0m \u001b[0mlen\u001b[0m\u001b[0;34m(\u001b[0m\u001b[0mret\u001b[0m\u001b[0;34m)\u001b[0m\u001b[0;34m:\u001b[0m\u001b[0;34m\u001b[0m\u001b[0m\n",
          "\u001b[0;32m~/anaconda3/envs/PythonData/lib/python3.6/site-packages/matplotlib/artist.py\u001b[0m in \u001b[0;36m_update_property\u001b[0;34m(self, k, v)\u001b[0m\n\u001b[1;32m    910\u001b[0m                 \u001b[0mfunc\u001b[0m \u001b[0;34m=\u001b[0m \u001b[0mgetattr\u001b[0m\u001b[0;34m(\u001b[0m\u001b[0mself\u001b[0m\u001b[0;34m,\u001b[0m \u001b[0;34m'set_'\u001b[0m \u001b[0;34m+\u001b[0m \u001b[0mk\u001b[0m\u001b[0;34m,\u001b[0m \u001b[0;32mNone\u001b[0m\u001b[0;34m)\u001b[0m\u001b[0;34m\u001b[0m\u001b[0m\n\u001b[1;32m    911\u001b[0m                 \u001b[0;32mif\u001b[0m \u001b[0;32mnot\u001b[0m \u001b[0mcallable\u001b[0m\u001b[0;34m(\u001b[0m\u001b[0mfunc\u001b[0m\u001b[0;34m)\u001b[0m\u001b[0;34m:\u001b[0m\u001b[0;34m\u001b[0m\u001b[0m\n\u001b[0;32m--> 912\u001b[0;31m                     \u001b[0;32mraise\u001b[0m \u001b[0mAttributeError\u001b[0m\u001b[0;34m(\u001b[0m\u001b[0;34m'Unknown property %s'\u001b[0m \u001b[0;34m%\u001b[0m \u001b[0mk\u001b[0m\u001b[0;34m)\u001b[0m\u001b[0;34m\u001b[0m\u001b[0m\n\u001b[0m\u001b[1;32m    913\u001b[0m                 \u001b[0;32mreturn\u001b[0m \u001b[0mfunc\u001b[0m\u001b[0;34m(\u001b[0m\u001b[0mv\u001b[0m\u001b[0;34m)\u001b[0m\u001b[0;34m\u001b[0m\u001b[0m\n\u001b[1;32m    914\u001b[0m \u001b[0;34m\u001b[0m\u001b[0m\n",
          "\u001b[0;31mAttributeError\u001b[0m: Unknown property s64"
         ]
        }
       ]
      }
     },
     "b51e02a6612249c0b366fb13bf6d3870": {
      "model_module": "@jupyter-widgets/base",
      "model_module_version": "1.0.0",
      "model_name": "LayoutModel",
      "state": {}
     },
     "c02dfa97de8844a5915b351c50bdb3b6": {
      "model_module": "@jupyter-widgets/controls",
      "model_module_version": "1.2.0",
      "model_name": "DropdownModel",
      "state": {
       "_options_labels": [
        "S125(94 WB)",
        "S137(94 EB)",
        "S2(35W SB)",
        "S285(394 WB)",
        "S286(394 EB)",
        "S553(94 WB)",
        "S554(94 EB)",
        "S569(35W NB)",
        "S582(35W SB)",
        "S64(35W NB)"
       ],
       "description": "Sensor",
       "index": 0,
       "layout": "IPY_MODEL_95943429f58d46c899c22201a970d9c0",
       "style": "IPY_MODEL_5f11a4a0761444a79ef24eda91bdb867"
      }
     },
     "c1517d734ca64b6da0f2084f333da21c": {
      "model_module": "@jupyter-widgets/base",
      "model_module_version": "1.0.0",
      "model_name": "LayoutModel",
      "state": {}
     },
     "c46681075f0341179e4a5feed9538048": {
      "model_module": "@jupyter-widgets/output",
      "model_module_version": "1.0.0",
      "model_name": "OutputModel",
      "state": {
       "layout": "IPY_MODEL_f60b9eeebf2b44fd9c1652e3515aba6d",
       "outputs": [
        {
         "ename": "ValueError",
         "evalue": "dictionary update sequence element #0 has length 11; 2 is required",
         "output_type": "error",
         "traceback": [
          "\u001b[0;31m---------------------------------------------------------------------------\u001b[0m",
          "\u001b[0;31mValueError\u001b[0m                                Traceback (most recent call last)",
          "\u001b[0;32m~/anaconda3/envs/PythonData/lib/python3.6/site-packages/ipywidgets/widgets/interaction.py\u001b[0m in \u001b[0;36mobserver\u001b[0;34m(change)\u001b[0m\n\u001b[1;32m     72\u001b[0m         \u001b[0;32mwith\u001b[0m \u001b[0mout\u001b[0m\u001b[0;34m:\u001b[0m\u001b[0;34m\u001b[0m\u001b[0m\n\u001b[1;32m     73\u001b[0m             \u001b[0mclear_output\u001b[0m\u001b[0;34m(\u001b[0m\u001b[0mwait\u001b[0m\u001b[0;34m=\u001b[0m\u001b[0;32mTrue\u001b[0m\u001b[0;34m)\u001b[0m\u001b[0;34m\u001b[0m\u001b[0m\n\u001b[0;32m---> 74\u001b[0;31m             \u001b[0mf\u001b[0m\u001b[0;34m(\u001b[0m\u001b[0;34m**\u001b[0m\u001b[0mkwargs\u001b[0m\u001b[0;34m)\u001b[0m\u001b[0;34m\u001b[0m\u001b[0m\n\u001b[0m\u001b[1;32m     75\u001b[0m             \u001b[0mshow_inline_matplotlib_plots\u001b[0m\u001b[0;34m(\u001b[0m\u001b[0;34m)\u001b[0m\u001b[0;34m\u001b[0m\u001b[0m\n\u001b[1;32m     76\u001b[0m     \u001b[0;32mfor\u001b[0m \u001b[0mk\u001b[0m\u001b[0;34m,\u001b[0m\u001b[0mw\u001b[0m \u001b[0;32min\u001b[0m \u001b[0mcontrols\u001b[0m\u001b[0;34m.\u001b[0m\u001b[0mitems\u001b[0m\u001b[0;34m(\u001b[0m\u001b[0;34m)\u001b[0m\u001b[0;34m:\u001b[0m\u001b[0;34m\u001b[0m\u001b[0m\n",
          "\u001b[0;32m<ipython-input-63-46479991913a>\u001b[0m in \u001b[0;36mplot_flow_event\u001b[0;34m(b)\u001b[0m\n\u001b[1;32m     36\u001b[0m \u001b[0;31m#     fig, ax = plt.subplots(figsize=(15,5))\u001b[0m\u001b[0;34m\u001b[0m\u001b[0;34m\u001b[0m\u001b[0m\n\u001b[1;32m     37\u001b[0m \u001b[0;31m#     ax.bar(aa[\"Sensor\"],aa[\"Volume\"])\u001b[0m\u001b[0;34m\u001b[0m\u001b[0;34m\u001b[0m\u001b[0m\n\u001b[0;32m---> 38\u001b[0;31m     \u001b[0max\u001b[0m\u001b[0;34m.\u001b[0m\u001b[0mset_xticklabels\u001b[0m\u001b[0;34m(\u001b[0m\u001b[0mindex\u001b[0m\u001b[0;34m,\u001b[0m\u001b[0msensors_in\u001b[0m\u001b[0;34m.\u001b[0m\u001b[0mvalues\u001b[0m\u001b[0;34m)\u001b[0m\u001b[0;34m\u001b[0m\u001b[0m\n\u001b[0m\u001b[1;32m     39\u001b[0m     \u001b[0;31m#ax.set_xticklabels(index+bar_width,aa[\"sensor_fromto\"],rotation=45,ha=\"right\")\u001b[0m\u001b[0;34m\u001b[0m\u001b[0;34m\u001b[0m\u001b[0m\n\u001b[1;32m     40\u001b[0m     \u001b[0max\u001b[0m\u001b[0;34m.\u001b[0m\u001b[0mset_ylabel\u001b[0m\u001b[0;34m(\u001b[0m\u001b[0;34m\"vehicle flow\"\u001b[0m\u001b[0;34m)\u001b[0m\u001b[0;34m\u001b[0m\u001b[0m\n",
          "\u001b[0;32m~/anaconda3/envs/PythonData/lib/python3.6/site-packages/matplotlib/axes/_base.py\u001b[0m in \u001b[0;36mset_xticklabels\u001b[0;34m(self, labels, fontdict, minor, **kwargs)\u001b[0m\n\u001b[1;32m   3312\u001b[0m         \"\"\"\n\u001b[1;32m   3313\u001b[0m         \u001b[0;32mif\u001b[0m \u001b[0mfontdict\u001b[0m \u001b[0;32mis\u001b[0m \u001b[0;32mnot\u001b[0m \u001b[0;32mNone\u001b[0m\u001b[0;34m:\u001b[0m\u001b[0;34m\u001b[0m\u001b[0m\n\u001b[0;32m-> 3314\u001b[0;31m             \u001b[0mkwargs\u001b[0m\u001b[0;34m.\u001b[0m\u001b[0mupdate\u001b[0m\u001b[0;34m(\u001b[0m\u001b[0mfontdict\u001b[0m\u001b[0;34m)\u001b[0m\u001b[0;34m\u001b[0m\u001b[0m\n\u001b[0m\u001b[1;32m   3315\u001b[0m         ret = self.xaxis.set_ticklabels(labels,\n\u001b[1;32m   3316\u001b[0m                                         minor=minor, **kwargs)\n",
          "\u001b[0;31mValueError\u001b[0m: dictionary update sequence element #0 has length 11; 2 is required"
         ]
        }
       ]
      }
     },
     "c88b7fd6584843c990db5f5382b9eba1": {
      "model_module": "@jupyter-widgets/controls",
      "model_module_version": "1.2.0",
      "model_name": "DropdownModel",
      "state": {
       "_options_labels": [
        "October Wed 2018",
        "Vikings Opener",
        "Basilica Block Party 2018",
        "2018 Twins Opener",
        "Super Bowl",
        "Vikings & New Years Eve",
        "Packers at Vikings",
        "October Wed 2017",
        "October Wed 2016",
        "US Bank 1st Concert",
        "October Wed 2015",
        "October Wed 2014"
       ],
       "description": "event",
       "index": 0,
       "layout": "IPY_MODEL_ff9da43c114549fda3db526bc07c6d9b",
       "style": "IPY_MODEL_426846db472c4b0b92383b09bc6b7f1d"
      }
     },
     "cb2d8d23877e493e80580a01f09cbb01": {
      "model_module": "@jupyter-widgets/output",
      "model_module_version": "1.0.0",
      "model_name": "OutputModel",
      "state": {
       "layout": "IPY_MODEL_3c48c83b34934ad880157f58e9958f44",
       "outputs": [
        {
         "ename": "ValueError",
         "evalue": "dictionary update sequence element #0 has length 11; 2 is required",
         "output_type": "error",
         "traceback": [
          "\u001b[0;31m---------------------------------------------------------------------------\u001b[0m",
          "\u001b[0;31mValueError\u001b[0m                                Traceback (most recent call last)",
          "\u001b[0;32m~/anaconda3/envs/PythonData/lib/python3.6/site-packages/ipywidgets/widgets/interaction.py\u001b[0m in \u001b[0;36mobserver\u001b[0;34m(change)\u001b[0m\n\u001b[1;32m     72\u001b[0m         \u001b[0;32mwith\u001b[0m \u001b[0mout\u001b[0m\u001b[0;34m:\u001b[0m\u001b[0;34m\u001b[0m\u001b[0m\n\u001b[1;32m     73\u001b[0m             \u001b[0mclear_output\u001b[0m\u001b[0;34m(\u001b[0m\u001b[0mwait\u001b[0m\u001b[0;34m=\u001b[0m\u001b[0;32mTrue\u001b[0m\u001b[0;34m)\u001b[0m\u001b[0;34m\u001b[0m\u001b[0m\n\u001b[0;32m---> 74\u001b[0;31m             \u001b[0mf\u001b[0m\u001b[0;34m(\u001b[0m\u001b[0;34m**\u001b[0m\u001b[0mkwargs\u001b[0m\u001b[0;34m)\u001b[0m\u001b[0;34m\u001b[0m\u001b[0m\n\u001b[0m\u001b[1;32m     75\u001b[0m             \u001b[0mshow_inline_matplotlib_plots\u001b[0m\u001b[0;34m(\u001b[0m\u001b[0;34m)\u001b[0m\u001b[0;34m\u001b[0m\u001b[0m\n\u001b[1;32m     76\u001b[0m     \u001b[0;32mfor\u001b[0m \u001b[0mk\u001b[0m\u001b[0;34m,\u001b[0m\u001b[0mw\u001b[0m \u001b[0;32min\u001b[0m \u001b[0mcontrols\u001b[0m\u001b[0;34m.\u001b[0m\u001b[0mitems\u001b[0m\u001b[0;34m(\u001b[0m\u001b[0;34m)\u001b[0m\u001b[0;34m:\u001b[0m\u001b[0;34m\u001b[0m\u001b[0m\n",
          "\u001b[0;32m<ipython-input-61-49d4892374ca>\u001b[0m in \u001b[0;36mplot_flow_event\u001b[0;34m(b)\u001b[0m\n\u001b[1;32m     35\u001b[0m \u001b[0;31m#     fig, ax = plt.subplots(figsize=(15,5))\u001b[0m\u001b[0;34m\u001b[0m\u001b[0;34m\u001b[0m\u001b[0m\n\u001b[1;32m     36\u001b[0m \u001b[0;31m#     ax.bar(aa[\"Sensor\"],aa[\"Volume\"])\u001b[0m\u001b[0;34m\u001b[0m\u001b[0;34m\u001b[0m\u001b[0m\n\u001b[0;32m---> 37\u001b[0;31m     \u001b[0max\u001b[0m\u001b[0;34m.\u001b[0m\u001b[0mset_xticklabels\u001b[0m\u001b[0;34m(\u001b[0m\u001b[0mindex\u001b[0m\u001b[0;34m,\u001b[0m\u001b[0msensors_in\u001b[0m\u001b[0;34m.\u001b[0m\u001b[0mvalues\u001b[0m\u001b[0;34m,\u001b[0m\u001b[0mrotation\u001b[0m\u001b[0;34m=\u001b[0m\u001b[0;36m45\u001b[0m\u001b[0;34m,\u001b[0m\u001b[0mha\u001b[0m\u001b[0;34m=\u001b[0m\u001b[0;34m\"right\"\u001b[0m\u001b[0;34m)\u001b[0m\u001b[0;34m\u001b[0m\u001b[0m\n\u001b[0m\u001b[1;32m     38\u001b[0m     \u001b[0;31m#ax.set_xticklabels(index+bar_width,aa[\"sensor_fromto\"],rotation=45,ha=\"right\")\u001b[0m\u001b[0;34m\u001b[0m\u001b[0;34m\u001b[0m\u001b[0m\n\u001b[1;32m     39\u001b[0m     \u001b[0max\u001b[0m\u001b[0;34m.\u001b[0m\u001b[0mset_ylabel\u001b[0m\u001b[0;34m(\u001b[0m\u001b[0;34m\"vehicle flow\"\u001b[0m\u001b[0;34m)\u001b[0m\u001b[0;34m\u001b[0m\u001b[0m\n",
          "\u001b[0;32m~/anaconda3/envs/PythonData/lib/python3.6/site-packages/matplotlib/axes/_base.py\u001b[0m in \u001b[0;36mset_xticklabels\u001b[0;34m(self, labels, fontdict, minor, **kwargs)\u001b[0m\n\u001b[1;32m   3312\u001b[0m         \"\"\"\n\u001b[1;32m   3313\u001b[0m         \u001b[0;32mif\u001b[0m \u001b[0mfontdict\u001b[0m \u001b[0;32mis\u001b[0m \u001b[0;32mnot\u001b[0m \u001b[0;32mNone\u001b[0m\u001b[0;34m:\u001b[0m\u001b[0;34m\u001b[0m\u001b[0m\n\u001b[0;32m-> 3314\u001b[0;31m             \u001b[0mkwargs\u001b[0m\u001b[0;34m.\u001b[0m\u001b[0mupdate\u001b[0m\u001b[0;34m(\u001b[0m\u001b[0mfontdict\u001b[0m\u001b[0;34m)\u001b[0m\u001b[0;34m\u001b[0m\u001b[0m\n\u001b[0m\u001b[1;32m   3315\u001b[0m         ret = self.xaxis.set_ticklabels(labels,\n\u001b[1;32m   3316\u001b[0m                                         minor=minor, **kwargs)\n",
          "\u001b[0;31mValueError\u001b[0m: dictionary update sequence element #0 has length 11; 2 is required"
         ]
        }
       ]
      }
     },
     "cc75a544473e457b8610bde1f1896118": {
      "model_module": "@jupyter-widgets/base",
      "model_module_version": "1.0.0",
      "model_name": "LayoutModel",
      "state": {}
     },
     "ccac213a9d4d49c587391635b904ee04": {
      "model_module": "@jupyter-widgets/base",
      "model_module_version": "1.0.0",
      "model_name": "LayoutModel",
      "state": {}
     },
     "ce027c47fdd0451589545b7b412103ce": {
      "model_module": "@jupyter-widgets/controls",
      "model_module_version": "1.2.0",
      "model_name": "DescriptionStyleModel",
      "state": {
       "description_width": ""
      }
     },
     "ceb66734d55248f08f4ceadc71931cf4": {
      "model_module": "@jupyter-widgets/controls",
      "model_module_version": "1.2.0",
      "model_name": "DescriptionStyleModel",
      "state": {
       "description_width": ""
      }
     },
     "d0e99173289c4066bc5f56e22e99ee54": {
      "model_module": "@jupyter-widgets/base",
      "model_module_version": "1.0.0",
      "model_name": "LayoutModel",
      "state": {}
     },
     "d69b1149b4254dfe99f9f016c48d7473": {
      "model_module": "@jupyter-widgets/base",
      "model_module_version": "1.0.0",
      "model_name": "LayoutModel",
      "state": {}
     },
     "d6a6e1f71e79493ebfe2c6211c12335f": {
      "model_module": "@jupyter-widgets/controls",
      "model_module_version": "1.2.0",
      "model_name": "DropdownModel",
      "state": {
       "_options_labels": [
        "October Wed 2018",
        "Vikings Opener",
        "Basilica Block Party 2018",
        "2018 Twins Opener",
        "Super Bowl",
        "Vikings & New Years Eve",
        "Packers at Vikings",
        "October Wed 2017",
        "October Wed 2016",
        "US Bank 1st Concert",
        "October Wed 2015",
        "October Wed 2014"
       ],
       "description": "event",
       "index": 6,
       "layout": "IPY_MODEL_63014a4f95d04afc858d27785c056dbe",
       "style": "IPY_MODEL_59d6cdd190fd425cb08e689da295a05c"
      }
     },
     "d8275adbf96340dd975c0405ef921a81": {
      "model_module": "@jupyter-widgets/base",
      "model_module_version": "1.0.0",
      "model_name": "LayoutModel",
      "state": {}
     },
     "d8c8674949804e358c76b18c16690319": {
      "model_module": "@jupyter-widgets/base",
      "model_module_version": "1.0.0",
      "model_name": "LayoutModel",
      "state": {}
     },
     "da62d5378a104ef5ac2aae8fbd392424": {
      "model_module": "@jupyter-widgets/base",
      "model_module_version": "1.0.0",
      "model_name": "LayoutModel",
      "state": {}
     },
     "dae9494cc3aa43fc9938ef5d0b0f1421": {
      "model_module": "@jupyter-widgets/controls",
      "model_module_version": "1.2.0",
      "model_name": "DropdownModel",
      "state": {
       "_options_labels": [
        "October Wed 2018",
        "Vikings Opener",
        "Basilica Block Party 2018",
        "2018 Twins Opener",
        "Super Bowl",
        "Vikings & New Years Eve",
        "Packers at Vikings",
        "October Wed 2017",
        "October Wed 2016",
        "US Bank 1st Concert",
        "October Wed 2015",
        "October Wed 2014"
       ],
       "description": "event",
       "index": 0,
       "layout": "IPY_MODEL_cc75a544473e457b8610bde1f1896118",
       "style": "IPY_MODEL_ce027c47fdd0451589545b7b412103ce"
      }
     },
     "dae9e7300f114319bcb6aa0b4aef8937": {
      "model_module": "@jupyter-widgets/controls",
      "model_module_version": "1.2.0",
      "model_name": "VBoxModel",
      "state": {
       "children": [
        "IPY_MODEL_a2d1be881e444947a754a170a979757a",
        "IPY_MODEL_2d275addd260488081fb9479cc24159d"
       ],
       "layout": "IPY_MODEL_009906d78e4c4bc5ac5175d2a440f941"
      }
     },
     "dc5667ce69864d3fa3faf2593ef00ab2": {
      "model_module": "@jupyter-widgets/output",
      "model_module_version": "1.0.0",
      "model_name": "OutputModel",
      "state": {
       "layout": "IPY_MODEL_82093164eb8a41ecbb3cc8726060c228",
       "outputs": [
        {
         "data": {
          "image/png": "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\n",
          "text/plain": "<Figure size 1080x360 with 1 Axes>"
         },
         "metadata": {},
         "output_type": "display_data"
        }
       ]
      }
     },
     "ddec814ac2164fc2ada7812b419990c1": {
      "model_module": "@jupyter-widgets/controls",
      "model_module_version": "1.2.0",
      "model_name": "DropdownModel",
      "state": {
       "_options_labels": [
        "October Wed 2018",
        "Vikings Opener",
        "Basilica Block Party 2018",
        "2018 Twins Opener",
        "Super Bowl",
        "Vikings & New Years Eve",
        "Packers at Vikings",
        "October Wed 2017",
        "October Wed 2016",
        "US Bank 1st Concert",
        "October Wed 2015",
        "October Wed 2014"
       ],
       "description": "event",
       "index": 0,
       "layout": "IPY_MODEL_b14138a3134849ce90ff51313b3ca755",
       "style": "IPY_MODEL_75e24f8729d64ca6ba2dab90a8923303"
      }
     },
     "de2b2b8605464bf38acf40850079f63f": {
      "model_module": "@jupyter-widgets/base",
      "model_module_version": "1.0.0",
      "model_name": "LayoutModel",
      "state": {}
     },
     "e1a46c07b80d40129d970cd7241c63f1": {
      "model_module": "@jupyter-widgets/controls",
      "model_module_version": "1.2.0",
      "model_name": "DescriptionStyleModel",
      "state": {
       "description_width": ""
      }
     },
     "ebe32658a7b442f8ac39ecc26908950d": {
      "model_module": "@jupyter-widgets/base",
      "model_module_version": "1.0.0",
      "model_name": "LayoutModel",
      "state": {}
     },
     "ed292f5efeda4c6a89e8449c78b830e6": {
      "model_module": "@jupyter-widgets/controls",
      "model_module_version": "1.2.0",
      "model_name": "DropdownModel",
      "state": {
       "_options_labels": [
        "October Wed 2018",
        "Vikings Opener",
        "Basilica Block Party 2018",
        "2018 Twins Opener",
        "Super Bowl",
        "Vikings & New Years Eve",
        "Packers at Vikings",
        "October Wed 2017",
        "October Wed 2016",
        "US Bank 1st Concert",
        "October Wed 2015",
        "October Wed 2014"
       ],
       "description": "event",
       "index": 0,
       "layout": "IPY_MODEL_1611ef3589b44256b928fe92c5b0ab63",
       "style": "IPY_MODEL_a1ed0b5f4b434067848e374acaca7b86"
      }
     },
     "edc4adc4090649f0b31c5da6e23100f8": {
      "model_module": "@jupyter-widgets/base",
      "model_module_version": "1.0.0",
      "model_name": "LayoutModel",
      "state": {}
     },
     "f12ac75e6eec45b99214cf7b2198c72a": {
      "model_module": "@jupyter-widgets/controls",
      "model_module_version": "1.2.0",
      "model_name": "VBoxModel",
      "state": {
       "children": [
        "IPY_MODEL_9b55544ae94d42b4a2cf1432d7874e53",
        "IPY_MODEL_b4b9f2f9f0b14e93bae6a18d7c8852b3"
       ],
       "layout": "IPY_MODEL_af9b8f2970264e46ae1f2508979c0ca5"
      }
     },
     "f60b9eeebf2b44fd9c1652e3515aba6d": {
      "model_module": "@jupyter-widgets/base",
      "model_module_version": "1.0.0",
      "model_name": "LayoutModel",
      "state": {}
     },
     "f7a55a5abf644d62b7fa1cc5f9afd21d": {
      "model_module": "@jupyter-widgets/base",
      "model_module_version": "1.0.0",
      "model_name": "LayoutModel",
      "state": {}
     },
     "fc01b38571a64bd983391ad8900fbc47": {
      "model_module": "@jupyter-widgets/controls",
      "model_module_version": "1.2.0",
      "model_name": "VBoxModel",
      "state": {
       "children": [
        "IPY_MODEL_14e1d8e7420047079bb15989802d1c1e",
        "IPY_MODEL_0ba3528dcee64b538ba8a4ae42d51435"
       ],
       "layout": "IPY_MODEL_f7a55a5abf644d62b7fa1cc5f9afd21d"
      }
     },
     "fd1642db33104011aca9ae40f94012b8": {
      "model_module": "@jupyter-widgets/base",
      "model_module_version": "1.0.0",
      "model_name": "LayoutModel",
      "state": {}
     },
     "ff9da43c114549fda3db526bc07c6d9b": {
      "model_module": "@jupyter-widgets/base",
      "model_module_version": "1.0.0",
      "model_name": "LayoutModel",
      "state": {}
     }
    },
    "version_major": 2,
    "version_minor": 0
   }
  }
 },
 "nbformat": 4,
 "nbformat_minor": 2
}
